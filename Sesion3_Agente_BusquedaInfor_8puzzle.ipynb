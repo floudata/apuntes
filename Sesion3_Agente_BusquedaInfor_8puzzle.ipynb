{
  "cells": [
    {
      "cell_type": "markdown",
      "metadata": {
        "id": "view-in-github",
        "colab_type": "text"
      },
      "source": [
        "<a href=\"https://colab.research.google.com/github/floudata/apuntes/blob/main/Sesion3_Agente_BusquedaInfor_8puzzle.ipynb\" target=\"_parent\"><img src=\"https://colab.research.google.com/assets/colab-badge.svg\" alt=\"Open In Colab\"/></a>"
      ]
    },
    {
      "cell_type": "markdown",
      "metadata": {
        "id": "tYRB-FwqIWjb"
      },
      "source": [
        "# Diplomatura de Especialización en Desarrollo de Aplicaciones con Inteligencia Artificial - Inteligencia Artificial para Juegos (Game IA) - Sesión 3 - Laboratorio\n",
        "\n",
        "\n",
        "<img src='https://www.danielsaromo.xyz/assets/img/logo-pucp.png' width=200px>\n",
        "\n",
        "\n",
        "Ing. Daniel Saromo, Dr. Edwin Villanueva"
      ]
    },
    {
      "cell_type": "markdown",
      "metadata": {
        "id": "trhkMxwf3HJ7"
      },
      "source": [
        "El presente notebook aborda la creación de un agente de busqueda con información para resolver el entorno de juego 8-puzzle (ver figura a continuación)."
      ]
    },
    {
      "cell_type": "markdown",
      "metadata": {
        "id": "QbrDk0krJQFC"
      },
      "source": [
        "<font color='orange'>Agente de Búsqueda Con información: Entorno del 8-puzzle</font>"
      ]
    },
    {
      "cell_type": "markdown",
      "metadata": {
        "id": "iXMj_9uFjv5_"
      },
      "source": [
        "<img src='https://images-na.ssl-images-amazon.com/images/I/61x5wYJJtsL._SX425_.jpg' width=200px>\n"
      ]
    },
    {
      "cell_type": "markdown",
      "metadata": {
        "id": "txrpj8dRJYA9"
      },
      "source": [
        "## Definición del Entorno"
      ]
    },
    {
      "cell_type": "markdown",
      "source": [
        "### Funciones para conseguir una visualización más didáctica y estilizada"
      ],
      "metadata": {
        "id": "pA_llaRRW2O2"
      }
    },
    {
      "cell_type": "code",
      "source": [
        "import seaborn as sns\n",
        "import matplotlib.pyplot as plt\n",
        "import numpy as np\n",
        "\n",
        "def convert_maze_toHeatmap(maze_asTupleOfTuples, with_colorbar=True, cmap='jet', fSize=(1, 1)):\n",
        "\n",
        "    char_list = maze_asTupleOfTuples\n",
        "\n",
        "    char_to_num = {char: idx for idx, char in enumerate(set(char for sublist in char_list for char in sublist))}\n",
        "\n",
        "    # Convert the list of lists of characters to a 2D numpy array of numerical values\n",
        "    num_array = np.array([[char_to_num[char] for char in sublist] for sublist in char_list])\n",
        "\n",
        "    lista_wallCharacters = [\"#\"]\n",
        "    wall_cells = []\n",
        "\n",
        "    # Plot the heatmap\n",
        "    plt.figure(figsize=fSize)\n",
        "    hMap = sns.heatmap(num_array, annot=False, fmt='d', cmap=cmap, cbar=with_colorbar,\n",
        "                xticklabels=False, yticklabels=False)\n",
        "\n",
        "    # Optional: Add the original characters as annotations\n",
        "    for i in range(len(char_list)):\n",
        "        for j in range(len(char_list[i])):\n",
        "            plt.text(j + 0.5, i + 0.5, char_list[i][j],\n",
        "                    ha='center', va='center', color='black')\n",
        "\n",
        "            if char_list[i][j] in lista_wallCharacters: wall_cells.append((i,j))\n",
        "\n",
        "    plt.show()\n",
        "\n",
        "    return num_array"
      ],
      "metadata": {
        "id": "6s7zYCxUZnD_"
      },
      "execution_count": null,
      "outputs": []
    },
    {
      "cell_type": "markdown",
      "metadata": {
        "id": "PNtt3hqkjv6A"
      },
      "source": [
        "### Clase <b>Thing</b>\n",
        "\n",
        "  Esta clase generica representa cualquier objeto fisico que puede aparecer en un <b>Ambiente</b>. (No editar)  "
      ]
    },
    {
      "cell_type": "code",
      "execution_count": null,
      "metadata": {
        "id": "KOj9i4tqjv6B"
      },
      "outputs": [],
      "source": [
        "class Thing(object):\n",
        "    def is_alive(self):\n",
        "        \"\"\"Cosas 'vivas'deben retornar true.\"\"\"\n",
        "        return hasattr(self, 'alive') and self.alive\n",
        "\n",
        "    def show_state(self):\n",
        "        \"\"\"Muestra el estado interno del agente. Subclases deben sobreescribir esto.\"\"\"\n",
        "        print(\"I don't know how to show_state.\")"
      ]
    },
    {
      "cell_type": "markdown",
      "metadata": {
        "id": "LmilZwfHjv6R"
      },
      "source": [
        "### Clase <b>Environment</b>\n",
        "\n",
        "Esta clase abstracta representa un entorno de tareas. Clases de entornos reales heredan de esta. En un entorno tipicamente se necesitará implementar 2 cosas:\n",
        "<b>percept</b>, que define la percepción que el agente ve; y\n",
        "<b>execute_action</b>, que define los efectos de ejecutar una acción.\n",
        "El entorno mantiene una lista de .things y .agents (el cual es un subconjunto de .things). Cada elemento de .things tiene un slot .location. (No editar)"
      ]
    },
    {
      "cell_type": "code",
      "execution_count": null,
      "metadata": {
        "id": "bqo57JjAjv6S"
      },
      "outputs": [],
      "source": [
        "class Environment(object):\n",
        "\n",
        "    def __init__(self):\n",
        "        self.things = []\n",
        "        self.agents = []\n",
        "\n",
        "    def thing_classes(self):\n",
        "        return []  # List of classes that can go into environment\n",
        "\n",
        "    def percept(self, agent):\n",
        "        \"\"\"Retorna la percepcion que el agente 'agent' ve en este punto.\"\"\"\n",
        "        raise NotImplementedError\n",
        "\n",
        "    def execute_action(self, agent, action):\n",
        "        \"\"\"El agente 'agent' ejecuta una accion 'action' en el entorno.\"\"\"\n",
        "        raise NotImplementedError\n",
        "\n",
        "    def default_location(self, thing):\n",
        "        \"\"\"Localización por defecto para colocar una nueva cosa sin localizacion especificada.\"\"\"\n",
        "        return None\n",
        "\n",
        "    def is_done(self):\n",
        "        \"\"\"Retorna True si no hay ningun agente vivo\"\"\"\n",
        "        return not any(agent.is_alive() for agent in self.agents)\n",
        "\n",
        "    def add_thing(self, thing, location=None):\n",
        "        \"\"\"Añade una cosa thing al entorno en la localizacion location.\n",
        "           Si thing es un programa de agente, crea un nuevo agente con ese programa.\"\"\"\n",
        "        if not isinstance(thing, Thing):\n",
        "            thing = Agent(thing)\n",
        "        assert thing not in self.things, \"No permite añadir la misma cosa dos veces\"\n",
        "        thing.location = location if location is not None else self.default_location(thing)\n",
        "        self.things.append(thing)\n",
        "        if isinstance(thing, Agent):\n",
        "            thing.performance = 0\n",
        "            self.agents.append(thing)\n",
        "\n",
        "    def step(self, verbose=False):\n",
        "        \"\"\"Ejecuta un paso del entorno (llama a los programas de los agentes, obtiene sus acciones y las ejecuta). \"\"\"\n",
        "        if not self.is_done():\n",
        "            actions = []\n",
        "            for agent in self.agents:\n",
        "                if agent.alive:\n",
        "                    actions.append(agent.program(self.percept(agent)))\n",
        "                else:\n",
        "                    actions.append(\"\")\n",
        "            for (agent, action) in zip(self.agents, actions):\n",
        "                if action == \"None\": return None\n",
        "                #if verbose: print(\"Voy a ejecutar la acción\", action)\n",
        "                self.execute_action(agent, action)\n",
        "                #_ = self.convert_maze_toHeatmap(self.status, with_colorbar=False)\n",
        "\n",
        "    def run(self, steps=1000, verbose=True):\n",
        "        \"\"\"Ejecuta steps pasos en el entorno.\"\"\"\n",
        "        for step in range(steps):\n",
        "            if self.is_done():\n",
        "                return\n",
        "            self.step(verbose)"
      ]
    },
    {
      "cell_type": "markdown",
      "metadata": {
        "id": "ESHef9F4jv6X"
      },
      "source": [
        "### Clase <b>EightpuzzleEnvironment </b>\n",
        "\n",
        "En esta clase se implementa el entorno del 8-puzzle. Un agente en este entorno percibe el estado del entorno como una tupla de tuplas de 9 numeros, siendo el numero 0 la posicion vacia. Para la Figura de arriba el estado es: ((1,2,3),(4,5,6),(7,8,0))   "
      ]
    },
    {
      "cell_type": "code",
      "execution_count": null,
      "metadata": {
        "id": "kP_Aq-YFjv6Z"
      },
      "outputs": [],
      "source": [
        "import numpy as np\n",
        "from copy import deepcopy\n",
        "\n",
        "class EightpuzzleEnvironment(Environment):\n",
        "\n",
        "    def __init__(self, initial_state, convert_maze_toHeatmap=convert_maze_toHeatmap):\n",
        "        super().__init__()\n",
        "        self.status = initial_state\n",
        "        self.convert_maze_toHeatmap = convert_maze_toHeatmap\n",
        "\n",
        "    def thing_classes(self):\n",
        "        return [EightpuzzleReflexAgent]\n",
        "\n",
        "    def percept(self, agent):\n",
        "        \"\"\"Retorna el estado del ambiente (las piezas que estan en cada posicion)\"\"\"\n",
        "        return self.status\n",
        "\n",
        "    def add_thing(self, thing, location=None):\n",
        "        \"\"\"Añade una cosa thing al entorno en la localizacion location.\n",
        "           Si thing es un programa de agente, crea un nuevo agente con ese programa.\n",
        "           En el entorno del 8-puzzle, está PROHIBIDO tener más de un agente en el entorno.\"\"\"\n",
        "        if not isinstance(thing, Thing):\n",
        "            thing = Agent(thing)\n",
        "        assert len(self.things)==0, \"Solo permite añadir una única cosa (agente, en este caso) al entorno\"\n",
        "        thing.location = location if location is not None else self.default_location(thing)\n",
        "        assert isinstance(thing, Agent), \"Solo se permite añadir un Agente al entorno 8-puzzle\"\n",
        "        self.things.append(thing)\n",
        "        if isinstance(thing, Agent):\n",
        "            thing.performance = 0\n",
        "            self.agents.append(thing)\n",
        "\n",
        "    def execute_action(self, agent, action):\n",
        "        \"\"\"Implementa el MAPA De TRANSICION: Cambia la posicion de las piezas de acuerdo a la accion solicitada del blanco;\n",
        "        Cada accion valida debe provocar una disminución de desempeño en 1 unidad \"\"\"\n",
        "        state = np.array(self.status)  # convierte el estado del entorno (tuple inmutable) en un array numpy para manipulacion\n",
        "\n",
        "        tmp = np.where(state == 0)   # obtiene las coordenadas del casillero en blanco (0)\n",
        "        i_blank = tmp[0][0]   # fila donde esta el blanco\n",
        "        j_blank = tmp[1][0]   # columna donde esta el blanco\n",
        "\n",
        "        new_state = deepcopy(state)   # copia state en nueva variable newState\n",
        "\n",
        "        if action == 'Right':\n",
        "            if j_blank < (state.shape[1]-1):\n",
        "                new_state[i_blank,j_blank], new_state[i_blank,j_blank+1] = state[i_blank,j_blank+1], state[i_blank,j_blank]\n",
        "                agent.performance -= 1\n",
        "        elif action == 'Left':\n",
        "            if j_blank > 0:\n",
        "                new_state[i_blank,j_blank], new_state[i_blank,j_blank-1] = state[i_blank,j_blank-1], state[i_blank,j_blank]\n",
        "                agent.performance -= 1\n",
        "        elif action == 'Up':\n",
        "            if i_blank > 0:\n",
        "                new_state[i_blank-1,j_blank], new_state[i_blank,j_blank] = state[i_blank,j_blank], state[i_blank-1,j_blank]\n",
        "                agent.performance -= 1\n",
        "        elif action == 'Down':\n",
        "            if i_blank < (state.shape[1]-1):\n",
        "                new_state[i_blank+1,j_blank], new_state[i_blank,j_blank] = state[i_blank,j_blank], state[i_blank+1,j_blank]\n",
        "                agent.performance -= 1\n",
        "\n",
        "        self.status = tuple(map(tuple, new_state))   # actualiza el estado ( como tupla de tuplas)\n",
        "\n",
        "    def step(self, verbose=False):\n",
        "        \"\"\"Ejecuta un paso del entorno (llama a los programas de los agentes, obtiene sus acciones y las ejecuta). \"\"\"\n",
        "        if not self.is_done():\n",
        "            actions = []\n",
        "            for agent in self.agents:\n",
        "                if agent.alive:\n",
        "                    actions.append(agent.program(self.percept(agent)))\n",
        "                else:\n",
        "                    actions.append(\"\")\n",
        "            for (agent, action) in zip(self.agents, actions):\n",
        "                if action == \"None\": return None\n",
        "                if verbose: print(\"Voy a ejecutar la acción\", action)\n",
        "                self.execute_action(agent, action)\n",
        "                _ = self.convert_maze_toHeatmap(self.status, with_colorbar=False)"
      ]
    },
    {
      "cell_type": "markdown",
      "metadata": {
        "id": "lOrXewaqJh8V"
      },
      "source": [
        "## Definiciones de Problema de Búsqueda  y Algoritmos de busqueda ciega"
      ]
    },
    {
      "cell_type": "markdown",
      "metadata": {
        "id": "VdMAlWKRjv6e"
      },
      "source": [
        "### Clase <b>SearchProblem</b>\n",
        "\n",
        "Esta es una clase abstracta para definir problemas de busqueda. Se debe hacer subclases que implementen los metodos de las acciones, resultados, test de objetivo y el costo de camino. Entonces se puede instanciar las subclases y resolverlos con varias funciones de busqueda."
      ]
    },
    {
      "cell_type": "code",
      "execution_count": null,
      "metadata": {
        "id": "6d3Zp0eljv6f"
      },
      "outputs": [],
      "source": [
        "class SearchProblem(object):\n",
        "    def __init__(self, initial, goal=None):\n",
        "        \"\"\"Este constructor especifica el estado inicial y posiblemente el estado(s) objetivo(s),\n",
        "        La subclase puede añadir mas argumentos.\"\"\"\n",
        "        self.initial = initial\n",
        "        self.goal = goal\n",
        "\n",
        "    def actions(self, state):\n",
        "        \"\"\"Retorna las acciones que pueden ser ejecutadas en el estado dado.\n",
        "        El resultado es tipicamente una lista.\"\"\"\n",
        "        raise NotImplementedError\n",
        "\n",
        "    def result(self, state, action):\n",
        "        \"\"\"Retorna el estado que resulta de ejecutar la accion dada en el estado state.\n",
        "        La accion debe ser alguna de self.actions(state).\"\"\"\n",
        "        raise NotImplementedError\n",
        "\n",
        "    def goal_test(self, state):\n",
        "        \"\"\"Retorna True si el estado pasado satisface el objetivo.\"\"\"\n",
        "        raise NotImplementedError\n",
        "\n",
        "    def path_cost(self, c, state1, action, state2):\n",
        "        \"\"\"Retorna el costo del camino de state2 viniendo de state1 con\n",
        "        la accion action, asumiendo un costo c para llegar hasta state1.\n",
        "        El metodo por defecto cuesta 1 para cada paso en el camino.\"\"\"\n",
        "        return c + 1"
      ]
    },
    {
      "cell_type": "markdown",
      "metadata": {
        "id": "ZskZP4gzjv6j"
      },
      "source": [
        "### <b> Clase EightpuzzleSearchProblem</b>  \n",
        "Esta es una subclase de SearchProblem donde se definira concretamente el problema de busqueda para el ambiente del 8-puzzle. Se necesita completar Actions (acciones disponibles para un estado dado) y result (que estado resulta de ejecutar una accion en un estado)"
      ]
    },
    {
      "cell_type": "code",
      "execution_count": null,
      "metadata": {
        "id": "DeY908Nxjv6l"
      },
      "outputs": [],
      "source": [
        "class EightpuzzleSearchProblem(SearchProblem):\n",
        "\n",
        "    def __init__(self, initial, goal):\n",
        "        \"\"\"El constructor recibe  el estado inicial y el estado objetivo\"\"\"\n",
        "        self.initial = initial\n",
        "        self.goal = goal\n",
        "\n",
        "    def actions(self, state):\n",
        "        \"\"\"Retorna las acciones ejecutables desde el estado state.\n",
        "        Por ejemplo, para el estado ((0,1,2),(3,4,5),(6,7,8)) debe retornar: acciones = ['Down', 'Right']\"\"\"\n",
        "        state = np.array(state)   # convierte el state (tuple inmutable) a un array numpy para manipulacion\n",
        "\n",
        "        acciones = []\n",
        "        tmp = np.where(state == 0)   # obtiene las coordenadas del casillero en blanco (0)\n",
        "        i_blank = tmp[0][0]   # fila donde esta el blanco\n",
        "        j_blank = tmp[1][0]   # columna donde esta el blanco\n",
        "\n",
        "        if j_blank < (state.shape[1]-1):\n",
        "            acciones.append('Right')\n",
        "        if j_blank > 0:\n",
        "            acciones.append('Left')\n",
        "        if i_blank > 0:\n",
        "            acciones.append('Up')\n",
        "        if i_blank < (state.shape[1]-1):\n",
        "            acciones.append('Down')\n",
        "\n",
        "        return acciones\n",
        "\n",
        "    def result(self, state, action):\n",
        "        \"\"\"Retorna el estado que resulta de ejecutar la accion action desde state.\n",
        "        La accion debe ser alguna de self.actions(state)\n",
        "        Por ejemplo, para state=((0,1,2),(3,4,5),(6,7,8)) y action='Right' debe retornar newState=((0,1,2),(3,4,5),(6,7,8)) \"\"\"\n",
        "        state = np.array(state)   # convierte el state (tuple inmutable) a un array numpy para manipulacion\n",
        "\n",
        "        tmp = np.where(state == 0)   # obtiene las coordenadas del casillero en blanco (0)\n",
        "        i_blank = tmp[0][0]   # fila donde esta el blanco\n",
        "        j_blank = tmp[1][0]   # columna donde esta el blanco\n",
        "\n",
        "        new_state = deepcopy(state)   # copia state en variable newState\n",
        "\n",
        "        if action == 'Right':\n",
        "            if j_blank < (state.shape[1]-1):\n",
        "                new_state[i_blank,j_blank], new_state[i_blank,j_blank+1] = state[i_blank,j_blank+1], state[i_blank,j_blank]\n",
        "\n",
        "        elif action == 'Left':\n",
        "            if j_blank > 0:\n",
        "                new_state[i_blank,j_blank], new_state[i_blank,j_blank-1] = state[i_blank,j_blank-1], state[i_blank,j_blank]\n",
        "\n",
        "        elif action == 'Up':\n",
        "            if i_blank > 0:\n",
        "                new_state[i_blank-1,j_blank], new_state[i_blank,j_blank] = state[i_blank,j_blank], state[i_blank-1,j_blank]\n",
        "\n",
        "        elif action == 'Down':\n",
        "            if i_blank < (state.shape[1]-1):\n",
        "                new_state[i_blank+1,j_blank], new_state[i_blank,j_blank] = state[i_blank,j_blank], state[i_blank+1,j_blank]\n",
        "\n",
        "        return tuple(map(tuple, new_state))   # el estado retornado es una tupla\n",
        "\n",
        "    def goal_test(self, state):\n",
        "        \"\"\"Retorna True si state es self.goal\"\"\"\n",
        "        return (self.goal == state)\n",
        "\n",
        "    def path_cost(self, c, state1, action, state2):\n",
        "        \"\"\"Retorna el costo del camino de state2 viniendo de state1 con la accion action\n",
        "        El costo del camino para llegar a state1 es c. El costo de la accion es = 1\"\"\"\n",
        "        return c + 1;"
      ]
    },
    {
      "cell_type": "code",
      "source": [
        "class EightpuzzleSearchProblem(SearchProblem):\n",
        "\n",
        "    def __init__(self, initial, goal):\n",
        "        \"\"\"El constructor recibe  el estado inicial y el estado objetivo\"\"\"\n",
        "        self.initial = initial\n",
        "        self.goal = goal\n",
        "\n",
        "    def actions(self, state):\n",
        "        \"\"\"Retorna las acciones ejecutables desde el estado state.\n",
        "        Por ejemplo, para el estado ((0,1,2),(3,4,5),(6,7,8)) debe retornar: acciones = ['Down', 'Right']\"\"\"\n",
        "        state = np.array(state)   # convierte el state (tuple inmutable) a un array numpy para manipulacion\n",
        "\n",
        "        acciones = []\n",
        "        tmp = np.where(state == 0)   # obtiene las coordenadas del casillero en blanco (0)\n",
        "        i_blank = tmp[0][0]   # fila donde esta el blanco\n",
        "        j_blank = tmp[1][0]   # columna donde esta el blanco\n",
        "\n",
        "        if j_blank < (state.shape[1]-1):\n",
        "            acciones.append('Right')\n",
        "        if j_blank > 0:\n",
        "            acciones.append('Left')\n",
        "        if i_blank > 0:\n",
        "            acciones.append('Up')\n",
        "        if i_blank < (state.shape[1]-1):\n",
        "            acciones.append('Down')\n",
        "\n",
        "        return acciones\n",
        "\n",
        "    def result(self, state, action):\n",
        "        \"\"\"Retorna el estado que resulta de ejecutar la accion action desde state.\n",
        "        La accion debe ser alguna de self.actions(state)\n",
        "        Por ejemplo, para state=((0,1,2),(3,4,5),(6,7,8)) y action='Right' debe retornar newState=((0,1,2),(3,4,5),(6,7,8)) \"\"\"\n",
        "        state = np.array(state)   # convierte el state (tuple inmutable) a un array numpy para manipulacion\n",
        "\n",
        "        tmp = np.where(state == 0)   # obtiene las coordenadas del casillero en blanco (0)\n",
        "        i_blank = tmp[0][0]   # fila donde esta el blanco\n",
        "        j_blank = tmp[1][0]   # columna donde esta el blanco\n",
        "\n",
        "        new_state = deepcopy(state)   # copia state en variable newState\n",
        "\n",
        "        if action == 'Up':\n",
        "            if i_blank > 0:\n",
        "                new_state[i_blank-1,j_blank], new_state[i_blank,j_blank] = state[i_blank,j_blank], state[i_blank-1,j_blank]\n",
        "\n",
        "        elif action == 'Down':\n",
        "            if i_blank < (state.shape[1]-1):\n",
        "                new_state[i_blank+1,j_blank], new_state[i_blank,j_blank] = state[i_blank,j_blank], state[i_blank+1,j_blank]\n",
        "\n",
        "        elif action == 'Right':\n",
        "            if j_blank < (state.shape[1]-1):\n",
        "                new_state[i_blank,j_blank], new_state[i_blank,j_blank+1] = state[i_blank,j_blank+1], state[i_blank,j_blank]\n",
        "\n",
        "        elif action == 'Left':\n",
        "            if j_blank > 0:\n",
        "                new_state[i_blank,j_blank], new_state[i_blank,j_blank-1] = state[i_blank,j_blank-1], state[i_blank,j_blank]\n",
        "\n",
        "        return tuple(map(tuple, new_state))   # el estado retornado es una tupla\n",
        "\n",
        "    def goal_test(self, state):\n",
        "        \"\"\"Retorna True si state es self.goal\"\"\"\n",
        "        return (self.goal == state)\n",
        "\n",
        "    def path_cost(self, c, state1, action, state2):\n",
        "        \"\"\"Retorna el costo del camino de state2 viniendo de state1 con la accion action\n",
        "        El costo del camino para llegar a state1 es c. El costo de la accion es = 1\"\"\"\n",
        "        return c + 1;"
      ],
      "metadata": {
        "id": "92aD88DC28j3"
      },
      "execution_count": null,
      "outputs": []
    },
    {
      "cell_type": "markdown",
      "metadata": {
        "id": "EFUTPLbejv6q"
      },
      "source": [
        "### Clase <b>Node</b>\n",
        "\n",
        "Estructura de datos para almacenar la informacion de un nodo en un <b>arbol de busqueda</b>. Contiene información del nodo padre y el estado que representa el nodo. Tambien incluye la accion que nos llevo al presente nodo y el costo total del camino desde el nodo raiz hasta este nodo."
      ]
    },
    {
      "cell_type": "code",
      "execution_count": null,
      "metadata": {
        "id": "OrtAtMFGjv6s"
      },
      "outputs": [],
      "source": [
        "class Node:\n",
        "    def __init__(self, state, parent=None, action=None, path_cost=0):\n",
        "        \"Crea un nodo de arbol de busqueda, derivado del nodo parent y accion action\"\n",
        "        self.state = state\n",
        "        self.parent = parent\n",
        "        self.action = action\n",
        "        self.path_cost = path_cost\n",
        "        self.depth = 0\n",
        "        if parent:\n",
        "            self.depth = parent.depth + 1\n",
        "\n",
        "    def expand(self, problem):\n",
        "        \"Devuelve los nodos alcanzables en un paso a partir de este nodo.\"\n",
        "        return [self.child_node(problem, action)\n",
        "                for action in problem.actions(self.state)]\n",
        "\n",
        "        #milista = []\n",
        "        #for action in problem.actions(self.state)\n",
        "        #    milista.append(self.child_node(problem, action))\n",
        "\n",
        "    def child_node(self, problem, action):\n",
        "        next = problem.result(self.state, action)\n",
        "        return Node(next, self, action,\n",
        "                    problem.path_cost(self.path_cost, self.state, action, next))\n",
        "\n",
        "    def solution(self):\n",
        "        \"Retorna la secuencia de acciones para ir de la raiz a este nodo.\"\n",
        "        return [node.action for node in self.path()[1:]]\n",
        "\n",
        "    def path(self):\n",
        "        \"Retorna una lista de nodos formando un camino de la raiz a este nodo.\"\n",
        "        node, path_back = self, []\n",
        "        while node:\n",
        "            path_back.append(node)\n",
        "            node = node.parent\n",
        "        return list(reversed(path_back))\n",
        "\n",
        "    def __lt__(self, node):\n",
        "        return self.state < node.state\n",
        "\n",
        "    def __eq__(self, other):\n",
        "        \"Este metodo se ejecuta cuando se compara nodos. Devuelve True cuando los estados son iguales\"\n",
        "        return isinstance(other, Node) and self.state == other.state\n",
        "\n",
        "    def __repr__(self):\n",
        "        return \"<Node {}>\".format(self.state)\n",
        "\n",
        "    def __hash__(self):\n",
        "        return hash(self.state)"
      ]
    },
    {
      "cell_type": "markdown",
      "metadata": {
        "id": "lOPV8NLVjv6z"
      },
      "source": [
        "### <b> Define una cola tipo FIFO First-In-First-Out (para BFS)</b>"
      ]
    },
    {
      "cell_type": "code",
      "execution_count": null,
      "metadata": {
        "id": "0_r1BuSijv60"
      },
      "outputs": [],
      "source": [
        "from collections import deque\n",
        "\n",
        "class FIFOQueue(deque):\n",
        "    \"\"\"Una cola First-In-First-Out\"\"\"\n",
        "    def pop(self):\n",
        "        return self.popleft()"
      ]
    },
    {
      "cell_type": "markdown",
      "metadata": {
        "id": "WFNLAukmjv7B"
      },
      "source": [
        "### <b>Algoritmo general de búsqueda con memoria de nodos expandidos (Graph Search)</b>\n",
        "\n",
        "Algoritmo de general de busqueda ciega con memoria de estados visitados. El argumento frontier debe ser una cola vacia. Si  frontier es tipo FIFO hace busqueda en amplitud (BFS), si la frontier es una pila hará busqueda en profundidad (DFS). Devuelve el nodo solucion y una lista de nodos visitados durante la busqueda."
      ]
    },
    {
      "cell_type": "code",
      "execution_count": null,
      "metadata": {
        "id": "Jf0L3tGejv7D"
      },
      "outputs": [],
      "source": [
        "def graph_search(problem, frontier):\n",
        "    frontier.append(Node(problem.initial))\n",
        "    explored = set()     # memoria de estados visitados\n",
        "    visited_nodes = []   # almacena nodos visitados durante la busqueda\n",
        "    while frontier:\n",
        "        node = frontier.pop()\n",
        "        visited_nodes.append(node)\n",
        "        if problem.goal_test(node.state):\n",
        "            return node, visited_nodes\n",
        "        explored.add(node.state)\n",
        "\n",
        "        frontier.extend(child for child in node.expand(problem)\n",
        "                        if child.state not in explored and\n",
        "                        child not in frontier)\n",
        "    return None"
      ]
    },
    {
      "cell_type": "markdown",
      "metadata": {
        "id": "3X71Ma4cq4hd"
      },
      "source": [
        "### <b> Frontera tipo cola de prioridad ordenada por una funcion de costo (para best_first_graph_search y A*)</b>"
      ]
    },
    {
      "cell_type": "code",
      "metadata": {
        "id": "CKRFAmUEq4hf"
      },
      "source": [
        "import heapq\n",
        "class FrontierPQ:\n",
        "    \"Una Frontera ordenada por una funcion de costo (Priority Queue)\"\n",
        "\n",
        "    def __init__(self, initial, costfn=lambda node: node.path_cost):\n",
        "        \"Inicializa la Frontera con un nodo inicial y una funcion de costo especificada (por defecto es el costo de camino).\"\n",
        "        self.heap   = []\n",
        "        self.states = {}\n",
        "        self.costfn = costfn\n",
        "        self.add(initial)\n",
        "\n",
        "    def add(self, node):\n",
        "        \"Agrega un nodo a la frontera.\"\n",
        "        cost = self.costfn(node)\n",
        "        heapq.heappush(self.heap, (cost, node))\n",
        "        self.states[node.state] = node\n",
        "\n",
        "    def pop(self):\n",
        "        \"Remueve y retorna el nodo con minimo costo.\"\n",
        "        (cost, node) = heapq.heappop(self.heap)\n",
        "        self.states.pop(node.state, None) # remove state\n",
        "        return node\n",
        "\n",
        "    def replace(self, node):\n",
        "        \"node reemplaza al nodo de la Fontera que tiene el mismo estado que node.\"\n",
        "        if node.state not in self:\n",
        "            raise ValueError('{} no tiene nada que reemplazar'.format(node.state))\n",
        "        for (i, (cost, old_node)) in enumerate(self.heap):\n",
        "            if old_node.state == node.state:\n",
        "                self.heap[i] = (self.costfn(node), node)\n",
        "                heapq._siftdown(self.heap, 0, i)\n",
        "                return\n",
        "\n",
        "    def __contains__(self, state): return state in self.states\n",
        "\n",
        "    def __len__(self): return len(self.heap)"
      ],
      "execution_count": null,
      "outputs": []
    },
    {
      "cell_type": "markdown",
      "metadata": {
        "id": "dHsTKHrwq4hr"
      },
      "source": [
        "### <b> Algoritmo Best-First-Graph-Search </b>\n",
        "Algoritmo general de busqueda con información. La frontera es una cola de prioridad ordenada por la funcion de evaluacion f"
      ]
    },
    {
      "cell_type": "code",
      "metadata": {
        "id": "cDMuSarYq4hs"
      },
      "source": [
        "def best_first_graph_search(problem, f):\n",
        "    \"\"\"Busca el objetivo expandiendo el nodo de la frontera con el menor valor de la funcion f. Memoriza estados visitados\n",
        "    Antes de llamar a este algoritmo hay que especificar La funcion f(node). Si f es node.depth tenemos Busqueda en Amplitud;\n",
        "    si f es node.path_cost tenemos Busqueda  de Costo Uniforme. Si f es una heurística tenemos Busqueda Voraz;\n",
        "    Si f es node.path_cost + heuristica(node) tenemos A* \"\"\"\n",
        "\n",
        "    frontier = FrontierPQ( Node(problem.initial), f )  # frontera tipo cola de prioridad ordenada por f\n",
        "    explored = set()     # memoria de estados visitados\n",
        "    visited_nodes = []   # almacena nodos visitados durante la busqueda\n",
        "    while frontier:\n",
        "        node = frontier.pop()\n",
        "        visited_nodes.append(node)\n",
        "        if problem.goal_test(node.state):\n",
        "            return node, visited_nodes\n",
        "        explored.add(node.state)\n",
        "        for action in problem.actions(node.state):\n",
        "            child = node.child_node(problem, action)\n",
        "            if child.state not in explored and child.state not in frontier:\n",
        "                frontier.add(child)\n",
        "            elif child.state in frontier:\n",
        "                incumbent = frontier.states[child.state]\n",
        "                if f(child) < f(incumbent):\n",
        "                    frontier.replace(child)"
      ],
      "execution_count": null,
      "outputs": []
    },
    {
      "cell_type": "markdown",
      "metadata": {
        "id": "kZBF7yBsq4hw"
      },
      "source": [
        "### <b> Algoritmo A* </b>\n",
        "A* es un caso especial de best_first_graph_search con f = path_cost + heuristic"
      ]
    },
    {
      "cell_type": "code",
      "metadata": {
        "id": "H_zckGu3q4hz"
      },
      "source": [
        "def astar_search(problem, heuristic):\n",
        "    f = lambda node: node.path_cost + heuristic(node, problem)\n",
        "    return best_first_graph_search(problem, f)\n",
        "\n",
        "def nullheuristic(node, problem):\n",
        "    return 0"
      ],
      "execution_count": null,
      "outputs": []
    },
    {
      "cell_type": "markdown",
      "source": [
        "### Algoritmo de Búsqueda Voraz"
      ],
      "metadata": {
        "id": "OSQRtLdNp8gJ"
      }
    },
    {
      "cell_type": "code",
      "source": [
        "# @title FUNCIÓN PARA BÚSQUEDA VORAZ (GREEDY SEARCH)\n",
        "\n",
        "def greedy_search(problem, heuristic):\n",
        "    f = lambda node: 0 + heuristic(node, problem)\n",
        "    return best_first_graph_search(problem, f)"
      ],
      "metadata": {
        "id": "dUVz7oHfo9tE"
      },
      "execution_count": null,
      "outputs": []
    },
    {
      "cell_type": "markdown",
      "metadata": {
        "id": "E7TdaAGRq4h2"
      },
      "source": [
        "## <b> Heurísticas para A* </b>\n",
        "Se debe implementar las heurísticas abajo para A*"
      ]
    },
    {
      "cell_type": "code",
      "metadata": {
        "id": "2PFBHOzBJ-qh",
        "colab": {
          "base_uri": "https://localhost:8080/"
        },
        "outputId": "9e468900-b836-448f-c15c-6ce564ba2eeb"
      },
      "source": [
        "#Para elevar un número a una potencia, se puede usar la libreria math\n",
        "import math\n",
        "math.pow(4,2)"
      ],
      "execution_count": null,
      "outputs": [
        {
          "output_type": "execute_result",
          "data": {
            "text/plain": [
              "16.0"
            ]
          },
          "metadata": {},
          "execution_count": 15
        }
      ]
    },
    {
      "cell_type": "code",
      "source": [
        "def locate_element(tuples, element):\n",
        "    for i, subtuple in enumerate(tuples):\n",
        "        for j, item in enumerate(subtuple):\n",
        "            if item == element:\n",
        "                return (i,j)"
      ],
      "metadata": {
        "id": "-I3CH17CmT69"
      },
      "execution_count": null,
      "outputs": []
    },
    {
      "cell_type": "code",
      "metadata": {
        "id": "LAGaf45JgDb-"
      },
      "source": [
        "# @title Heurísticas: h1, h2, y h_dominante\n",
        "import math\n",
        "def h1(node, problem):\n",
        "    \"Número de piezas fuera de posición\"\n",
        "    tuple1, tuple2 = node.state, problem.goal\n",
        "    if len(tuple1) != len(tuple2):\n",
        "        raise ValueError(\"Tuples must be of the same length\")\n",
        "\n",
        "    count = 0\n",
        "    for subtuple1, subtuple2 in zip(tuple1, tuple2):\n",
        "        if len(subtuple1) != len(subtuple2):\n",
        "            raise ValueError(\"All sub-tuples must be of the same length\")\n",
        "        for item1, item2 in zip(subtuple1, subtuple2):\n",
        "            if item1 != item2:\n",
        "                count += 1\n",
        "    return count\n",
        "\n",
        "def h2(node, problem):\n",
        "    \"\"\"Distancia Manhatan total: Para cada pieza, calcular la distancia en\n",
        "    movidas horizontales y verticales hacia su posición objetivo\"\"\"\n",
        "    tuple1, tuple2 = node.state, problem.goal\n",
        "\n",
        "    if len(tuple1) != len(tuple2):\n",
        "            raise ValueError(\"Tuples must be of the same length\")\n",
        "\n",
        "    total_distance = 0\n",
        "\n",
        "    for i, subtuple in enumerate(tuple1):\n",
        "        for j, element in enumerate(subtuple):\n",
        "            pos_atGrid1 = (i, j)\n",
        "            pos_atGrid2 = locate_element(tuple2, element)\n",
        "\n",
        "            delta_x = pos_atGrid1[0] - pos_atGrid2[0]\n",
        "            delta_y = pos_atGrid1[1] - pos_atGrid2[1]\n",
        "            total_distance +=  abs(delta_x) + abs(delta_y)\n",
        "\n",
        "    return total_distance\n",
        "\n",
        "def h_dominante(node, problem):\n",
        "    \"Heurística que domina a las heurísticas cuantificadas por las distancias `straightline_dist` y `manhatan_dist`.\"\n",
        "    return max(  h1(node, problem)  ,  h2(node, problem)  )"
      ],
      "execution_count": null,
      "outputs": []
    },
    {
      "cell_type": "markdown",
      "source": [
        "#### Heurística H weighted"
      ],
      "metadata": {
        "id": "XY-vaBhTViv4"
      }
    },
    {
      "cell_type": "code",
      "source": [
        "def h_weighted(node, problem, W=5, h_base = h1):\n",
        "    # pongo straightline_dist en lugar de manh, porque\n",
        "    # en este entorno eucl explora más nodos, y se ve más el efecto de usar W\n",
        "    \"Heurística que domina a las heurísticas cuantificadas por las distancias `straightline_dist` y `manhatan_dist`.\"\n",
        "    return W * h_base(node, problem)"
      ],
      "metadata": {
        "id": "t0rkr_olTeiw"
      },
      "execution_count": null,
      "outputs": []
    },
    {
      "cell_type": "markdown",
      "metadata": {
        "id": "c-qL0wVB3HKH"
      },
      "source": [
        "## Definicion del Agente de Busqueda en el entorno 8-puzzle\n"
      ]
    },
    {
      "cell_type": "markdown",
      "metadata": {
        "id": "8PC4mQsFjv6H"
      },
      "source": [
        "### Clase <b>Agent</b>\n",
        "\n",
        "Un agente es una subclase de Thing con un slot obligatorio: <b>.program</b>, el cual almacena la funcion que implementa el <b>programa del agente</b>. Esta funcion debe tomar como argumento la <b>percepcion</b> del agente y debe retornar una <b>accion</b>. La definicion de Percepcion y Accion depende del ambiente de trabajo (environment) donde el agente existe. El agente tambien puede tener el slot <b>.performance</b>, que guarda el desempeño del agente en su ambiente (desempeño visto desde el agente)."
      ]
    },
    {
      "cell_type": "code",
      "metadata": {
        "id": "vPFAiVA-0r6i"
      },
      "source": [
        "import collections\n",
        "#import collections.abc as collections\n",
        "collections.Iterable = collections.abc.Iterable\n",
        "collections.Callable = collections.abc.Callable\n",
        "collections.Sequence = collections.abc.Sequence\n",
        "\n",
        "class Agent(Thing):\n",
        "\n",
        "    def __init__(self, program=None):\n",
        "        self.alive = True\n",
        "        self.performance = 0\n",
        "        assert isinstance(program, collections.Callable)\n",
        "        self.program = program"
      ],
      "execution_count": null,
      "outputs": []
    },
    {
      "cell_type": "code",
      "source": [
        "import random"
      ],
      "metadata": {
        "id": "ZL_4rlWZyOx3"
      },
      "execution_count": null,
      "outputs": []
    },
    {
      "cell_type": "markdown",
      "metadata": {
        "id": "xhQdPpzSq4h-"
      },
      "source": [
        "## <b> Experimentación con los algoritmos de Busqueda</b>\n"
      ]
    },
    {
      "cell_type": "code",
      "execution_count": null,
      "metadata": {
        "id": "nA_0J7Qjjv7c"
      },
      "outputs": [],
      "source": [
        "\"\"\"Crea el entorno del 8-puzzle con estado inicial '' \"\"\"\n",
        "initial =  ((3,1,2),(6,4,5),(7,8,0))\n",
        "goal    =  ((0,1,2),(3,4,5),(6,7,8))\n",
        "e = EightpuzzleEnvironment(initial)"
      ]
    },
    {
      "cell_type": "code",
      "source": [
        "p = EightpuzzleSearchProblem(initial, goal)"
      ],
      "metadata": {
        "id": "ghlqvS0VWIFF"
      },
      "execution_count": null,
      "outputs": []
    },
    {
      "cell_type": "code",
      "source": [
        "e.status"
      ],
      "metadata": {
        "colab": {
          "base_uri": "https://localhost:8080/"
        },
        "id": "ThEcqO4MZ0jx",
        "outputId": "35c5d3e5-5040-4c79-8f0b-77c3462913c6"
      },
      "execution_count": null,
      "outputs": [
        {
          "output_type": "execute_result",
          "data": {
            "text/plain": [
              "((3, 1, 2), (6, 4, 5), (7, 8, 0))"
            ]
          },
          "metadata": {},
          "execution_count": 23
        }
      ]
    },
    {
      "cell_type": "code",
      "source": [
        "_ = convert_maze_toHeatmap(e.status, with_colorbar=False)"
      ],
      "metadata": {
        "colab": {
          "base_uri": "https://localhost:8080/",
          "height": 114
        },
        "id": "7RM1Da7QZ4AW",
        "outputId": "c95aa437-33f1-496f-cca7-56b0bd428c51"
      },
      "execution_count": null,
      "outputs": [
        {
          "output_type": "display_data",
          "data": {
            "text/plain": [
              "<Figure size 100x100 with 1 Axes>"
            ],
            "image/png": "[encoded data removed]"
          },
          "metadata": {}
        }
      ]
    },
    {
      "cell_type": "code",
      "source": [
        "_ = convert_maze_toHeatmap(goal, with_colorbar=False)"
      ],
      "metadata": {
        "colab": {
          "base_uri": "https://localhost:8080/",
          "height": 114
        },
        "id": "wWGtteRKhIlm",
        "outputId": "19d3b9a7-dae2-4eee-e872-d23750d5ae71"
      },
      "execution_count": null,
      "outputs": [
        {
          "output_type": "display_data",
          "data": {
            "text/plain": [
              "<Figure size 100x100 with 1 Axes>"
            ],
            "image/png": "[encoded data removed]"
          },
          "metadata": {}
        }
      ]
    },
    {
      "cell_type": "code",
      "source": [
        "initial, goal"
      ],
      "metadata": {
        "colab": {
          "base_uri": "https://localhost:8080/"
        },
        "id": "kzj5fSxdhMCW",
        "outputId": "899e49c9-2c34-4097-b023-4c5ebb151c22"
      },
      "execution_count": null,
      "outputs": [
        {
          "output_type": "execute_result",
          "data": {
            "text/plain": [
              "(((3, 1, 2), (6, 4, 5), (7, 8, 0)), ((0, 1, 2), (3, 4, 5), (6, 7, 8)))"
            ]
          },
          "metadata": {},
          "execution_count": 26
        }
      ]
    },
    {
      "cell_type": "markdown",
      "metadata": {
        "id": "YTmJT4I3jv7V"
      },
      "source": [
        "### <b>Clase que implementa el programa del agente que busca y ejecuta soluciones en el entorno 8-puzzle</b>\n"
      ]
    },
    {
      "cell_type": "code",
      "execution_count": null,
      "metadata": {
        "id": "aogIcb-Tjv7W"
      },
      "outputs": [],
      "source": [
        "class EightpuzzleSearchProgram:\n",
        "    def __init__(self, goal_state, search_method, convert_maze_toHeatmap=convert_maze_toHeatmap,\n",
        "                          h1=h1, h2=h2, h_dominante=h_dominante, h_weighted=h_weighted):\n",
        "        self.goal = goal_state\n",
        "        self.method = search_method\n",
        "        self.seq = []  # lista de acciones a ejecutar, inicialmente vacia\n",
        "\n",
        "        self.h1 = h1\n",
        "        self.h2 = h2\n",
        "        self.h_dominante = h_dominante\n",
        "        self.h_weighted = h_weighted\n",
        "\n",
        "    def __call__(self, percept):\n",
        "        state = percept\n",
        "        if state == self.goal:    # Si el ambiente esta en el estado objetivo no hace nada\n",
        "            return 'None'\n",
        "        if not self.seq:  # si la lista de acciones esta vacia\n",
        "            print('Agente buscara solucion al 8-puzzle')\n",
        "            print()\n",
        "            print('- Estado_inicial = {}'.format(state))\n",
        "            _ = convert_maze_toHeatmap(state, with_colorbar=False)\n",
        "            print('- Estado_objetivo={}'.format(self.goal))\n",
        "            _ = convert_maze_toHeatmap(self.goal, with_colorbar=False)\n",
        "            print(\"---\"*10)\n",
        "            search_problem = EightpuzzleSearchProblem(state, self.goal)\n",
        "            if self.method == 'bfs':\n",
        "                goal_node, visited_nodes = graph_search(search_problem, FIFOQueue()) # frontera es una cola FIFO\n",
        "            elif self.method == 'dfs':\n",
        "                goal_node, visited_nodes = graph_search(search_problem, []) # frontera es una pila ([] es una pila en Python)\n",
        "            elif self.method == 'ucs':\n",
        "                goal_node, visited_nodes = astar_search(search_problem, nullheuristic) # UCS = A* con heuristica nula\n",
        "\n",
        "            elif self.method == 'greedy+h1':\n",
        "                goal_node, visited_nodes = greedy_search(search_problem, self.h1)\n",
        "            elif self.method == 'greedy+h2':\n",
        "                goal_node, visited_nodes = greedy_search(search_problem, self.h2)\n",
        "\n",
        "            elif self.method == 'Astar+h1':\n",
        "                goal_node, visited_nodes = astar_search(search_problem, self.h1)\n",
        "            elif self.method == 'Astar+h2':\n",
        "                goal_node, visited_nodes = astar_search(search_problem, self.h2)\n",
        "\n",
        "            elif self.method == 'Astar+hdom':\n",
        "                goal_node, visited_nodes = astar_search(search_problem, self.h_dominante)\n",
        "            elif self.method == 'Astar+hwei':\n",
        "                goal_node, visited_nodes = astar_search(search_problem, self.h_weighted)\n",
        "\n",
        "            elif self.method == 'IDAstar+h1':\n",
        "                goal_node, visited_nodes = iterative_deepening_astar_search(search_problem, self.h1)\n",
        "            elif self.method == 'IDAstar+h2':\n",
        "                goal_node, visited_nodes = iterative_deepening_astar_search(search_problem, self.h2)\n",
        "            elif self.method == 'IDAstar+hwei':\n",
        "                goal_node, visited_nodes = iterative_deepening_astar_search(search_problem, self.h_weighted)\n",
        "\n",
        "            if goal_node == None: # sin solucion\n",
        "                print('No se encontro solucion para el 8-puzzle con metodo {}'.format(self.method) )\n",
        "                return 'None'\n",
        "\n",
        "            self.seq = goal_node.solution()\n",
        "            print('Agente planeó una solucion al 8-puzzle con {}'.format(self.method))\n",
        "\n",
        "            print('Seq = {}'.format(self.seq))\n",
        "\n",
        "            print('Nodos visitados={}. Costo Solucion = {}'.format(len(visited_nodes),goal_node.path_cost))\n",
        "\n",
        "        action = self.seq.pop(0)\n",
        "        return action"
      ]
    },
    {
      "cell_type": "markdown",
      "metadata": {
        "id": "tOcwUxY6jv7a"
      },
      "source": [
        "### Probando el entorno 8-puzzle y agente de búsqueda"
      ]
    },
    {
      "cell_type": "code",
      "source": [
        "def convert_tuple(input_tuple):\n",
        "    # Calculate the value of n\n",
        "    n = int(len(input_tuple) ** 0.5)\n",
        "\n",
        "    # Check if the length of the tuple is a perfect square\n",
        "    if n * n != len(input_tuple):\n",
        "        raise ValueError(\"The length of the input tuple must be a perfect square.\")\n",
        "\n",
        "    # Create n tuples of n elements each\n",
        "    result = tuple(input_tuple[i * n:(i + 1) * n] for i in range(n))\n",
        "\n",
        "    return result"
      ],
      "metadata": {
        "id": "xYuxRJtA0D8-"
      },
      "execution_count": null,
      "outputs": []
    },
    {
      "cell_type": "code",
      "execution_count": null,
      "metadata": {
        "id": "MiXM3ax9ezuI"
      },
      "outputs": [],
      "source": [
        "\"\"\"Crea el entorno del 8-puzzle con estado inicial '' \"\"\"\n",
        "initial =  convert_tuple((3,1,2,6,4,5,7,8,0))\n",
        "goal    =  ((0,1,2),(3,4,5),(6,7,8))"
      ]
    },
    {
      "cell_type": "markdown",
      "source": [
        "#### busqueda en amplitud (BFS)"
      ],
      "metadata": {
        "id": "D6d9G2dGyq_j"
      }
    },
    {
      "cell_type": "code",
      "execution_count": null,
      "metadata": {
        "id": "AeGB_iev3HKI"
      },
      "outputs": [],
      "source": [
        "e = EightpuzzleEnvironment(initial)\n",
        "\n",
        "\"\"\"Crea un agente de busqueda para alcanzar goalstate\"\"\"\n",
        "a = Agent( EightpuzzleSearchProgram(goal,'bfs') )\n",
        "\n",
        "\"\"\"Añade el agente creado al entorno\"\"\"\n",
        "e.add_thing(a)"
      ]
    },
    {
      "cell_type": "code",
      "execution_count": null,
      "metadata": {
        "scrolled": true,
        "outputId": "9b6d70bf-f23a-4614-b530-d5eb9c993993",
        "colab": {
          "base_uri": "https://localhost:8080/",
          "height": 814
        },
        "id": "ANucHZeQoEol"
      },
      "outputs": [
        {
          "output_type": "stream",
          "name": "stdout",
          "text": [
            "Agente buscara solucion al 8-puzzle\n",
            "\n",
            "- Estado_inicial = ((3, 1, 2), (6, 4, 5), (7, 8, 0))\n"
          ]
        },
        {
          "output_type": "display_data",
          "data": {
            "text/plain": [
              "<Figure size 100x100 with 1 Axes>"
            ],
            "image/png": "[encoded data removed]"
          },
          "metadata": {}
        },
        {
          "output_type": "stream",
          "name": "stdout",
          "text": [
            "- Estado_objetivo=((0, 1, 2), (3, 4, 5), (6, 7, 8))\n"
          ]
        },
        {
          "output_type": "display_data",
          "data": {
            "text/plain": [
              "<Figure size 100x100 with 1 Axes>"
            ],
            "image/png": "[encoded data removed]"
          },
          "metadata": {}
        },
        {
          "output_type": "stream",
          "name": "stdout",
          "text": [
            "------------------------------\n",
            "Agente planeó una solucion al 8-puzzle con bfs\n",
            "Seq = ['Left', 'Left', 'Up', 'Up']\n",
            "Nodos visitados=17. Costo Solucion = 4\n",
            "Voy a ejecutar la acción Left\n"
          ]
        },
        {
          "output_type": "display_data",
          "data": {
            "text/plain": [
              "<Figure size 100x100 with 1 Axes>"
            ],
            "image/png": "[encoded data removed]"
          },
          "metadata": {}
        },
        {
          "output_type": "stream",
          "name": "stdout",
          "text": [
            "Voy a ejecutar la acción Left\n"
          ]
        },
        {
          "output_type": "display_data",
          "data": {
            "text/plain": [
              "<Figure size 100x100 with 1 Axes>"
            ],
            "image/png": "[encoded data removed]"
          },
          "metadata": {}
        },
        {
          "output_type": "stream",
          "name": "stdout",
          "text": [
            "Voy a ejecutar la acción Up\n"
          ]
        },
        {
          "output_type": "display_data",
          "data": {
            "text/plain": [
              "<Figure size 100x100 with 1 Axes>"
            ],
            "image/png": "[encoded data removed]"
          },
          "metadata": {}
        },
        {
          "output_type": "stream",
          "name": "stdout",
          "text": [
            "Voy a ejecutar la acción Up\n"
          ]
        },
        {
          "output_type": "display_data",
          "data": {
            "text/plain": [
              "<Figure size 100x100 with 1 Axes>"
            ],
            "image/png": "[encoded data removed]"
          },
          "metadata": {}
        }
      ],
      "source": [
        "# Ejecuta el entorno 25 pasos\n",
        "e.run(25)"
      ]
    },
    {
      "cell_type": "code",
      "execution_count": null,
      "metadata": {
        "id": "bWXH2Wg9nfqz"
      },
      "outputs": [],
      "source": [
        "e = EightpuzzleEnvironment(initial)\n",
        "\n",
        "\"\"\"Crea un agente de busqueda para alcanzar goalstate\"\"\"\n",
        "a = Agent( EightpuzzleSearchProgram(goal,'Astar+h2') )\n",
        "\n",
        "\"\"\"Añade el agente creado al entorno\"\"\"\n",
        "e.add_thing(a)"
      ]
    },
    {
      "cell_type": "code",
      "execution_count": null,
      "metadata": {
        "scrolled": true,
        "outputId": "8d23cd38-7e91-4e9b-a8e4-af4e5868f051",
        "colab": {
          "base_uri": "https://localhost:8080/",
          "height": 814
        },
        "id": "yPimw8hZnfq0"
      },
      "outputs": [
        {
          "output_type": "stream",
          "name": "stdout",
          "text": [
            "Agente buscara solucion al 8-puzzle\n",
            "\n",
            "- Estado_inicial = ((3, 1, 2), (6, 4, 5), (7, 8, 0))\n"
          ]
        },
        {
          "output_type": "display_data",
          "data": {
            "text/plain": [
              "<Figure size 100x100 with 1 Axes>"
            ],
            "image/png": "[encoded data removed]"
          },
          "metadata": {}
        },
        {
          "output_type": "stream",
          "name": "stdout",
          "text": [
            "- Estado_objetivo=((0, 1, 2), (3, 4, 5), (6, 7, 8))\n"
          ]
        },
        {
          "output_type": "display_data",
          "data": {
            "text/plain": [
              "<Figure size 100x100 with 1 Axes>"
            ],
            "image/png": "[encoded data removed]"
          },
          "metadata": {}
        },
        {
          "output_type": "stream",
          "name": "stdout",
          "text": [
            "------------------------------\n",
            "Agente planeó una solucion al 8-puzzle con Astar+h2\n",
            "Seq = ['Left', 'Left', 'Up', 'Up']\n",
            "Nodos visitados=5. Costo Solucion = 4\n",
            "Voy a ejecutar la acción Left\n"
          ]
        },
        {
          "output_type": "display_data",
          "data": {
            "text/plain": [
              "<Figure size 100x100 with 1 Axes>"
            ],
            "image/png": "[encoded data removed]"
          },
          "metadata": {}
        },
        {
          "output_type": "stream",
          "name": "stdout",
          "text": [
            "Voy a ejecutar la acción Left\n"
          ]
        },
        {
          "output_type": "display_data",
          "data": {
            "text/plain": [
              "<Figure size 100x100 with 1 Axes>"
            ],
            "image/png": "[encoded data removed]"
          },
          "metadata": {}
        },
        {
          "output_type": "stream",
          "name": "stdout",
          "text": [
            "Voy a ejecutar la acción Up\n"
          ]
        },
        {
          "output_type": "display_data",
          "data": {
            "text/plain": [
              "<Figure size 100x100 with 1 Axes>"
            ],
            "image/png": "[encoded data removed]"
          },
          "metadata": {}
        },
        {
          "output_type": "stream",
          "name": "stdout",
          "text": [
            "Voy a ejecutar la acción Up\n"
          ]
        },
        {
          "output_type": "display_data",
          "data": {
            "text/plain": [
              "<Figure size 100x100 with 1 Axes>"
            ],
            "image/png": "[encoded data removed]"
          },
          "metadata": {}
        }
      ],
      "source": [
        "# Ejecuta el entorno 25 pasos\n",
        "e.run(25)"
      ]
    },
    {
      "cell_type": "markdown",
      "source": [
        "#### busqueda A* con heurística h1"
      ],
      "metadata": {
        "id": "MmJe1bB4ywAY"
      }
    },
    {
      "cell_type": "code",
      "execution_count": null,
      "metadata": {
        "id": "lc8N02HxywAd"
      },
      "outputs": [],
      "source": [
        "\"\"\"Inicializamos el entorno\"\"\"\n",
        "e = EightpuzzleEnvironment(initial)\n",
        "\n",
        "\"\"\"Crea un agente de busqueda para alcanzar goalstate\"\"\"\n",
        "a = Agent( EightpuzzleSearchProgram(goal,'Astar+h1') )\n",
        "\n",
        "\"\"\"Añade el agente creado al entorno\"\"\"\n",
        "e.add_thing(a)"
      ]
    },
    {
      "cell_type": "code",
      "execution_count": null,
      "metadata": {
        "scrolled": true,
        "outputId": "72673bbd-74b2-4968-f309-dd2955e8663b",
        "colab": {
          "base_uri": "https://localhost:8080/",
          "height": 814
        },
        "id": "9IyEtxBMywAd"
      },
      "outputs": [
        {
          "output_type": "stream",
          "name": "stdout",
          "text": [
            "Agente buscara solucion al 8-puzzle\n",
            "\n",
            "- Estado_inicial = ((3, 1, 2), (6, 4, 5), (7, 8, 0))\n"
          ]
        },
        {
          "output_type": "display_data",
          "data": {
            "text/plain": [
              "<Figure size 100x100 with 1 Axes>"
            ],
            "image/png": "[encoded data removed]"
          },
          "metadata": {}
        },
        {
          "output_type": "stream",
          "name": "stdout",
          "text": [
            "- Estado_objetivo=((0, 1, 2), (3, 4, 5), (6, 7, 8))\n"
          ]
        },
        {
          "output_type": "display_data",
          "data": {
            "text/plain": [
              "<Figure size 100x100 with 1 Axes>"
            ],
            "image/png": "[encoded data removed]"
          },
          "metadata": {}
        },
        {
          "output_type": "stream",
          "name": "stdout",
          "text": [
            "------------------------------\n",
            "Agente planeó una solucion al 8-puzzle con Astar+h1\n",
            "Seq = ['Left', 'Left', 'Up', 'Up']\n",
            "Nodos visitados=5. Costo Solucion = 4\n",
            "Voy a ejecutar la acción Left\n"
          ]
        },
        {
          "output_type": "display_data",
          "data": {
            "text/plain": [
              "<Figure size 100x100 with 1 Axes>"
            ],
            "image/png": "[encoded data removed]"
          },
          "metadata": {}
        },
        {
          "output_type": "stream",
          "name": "stdout",
          "text": [
            "Voy a ejecutar la acción Left\n"
          ]
        },
        {
          "output_type": "display_data",
          "data": {
            "text/plain": [
              "<Figure size 100x100 with 1 Axes>"
            ],
            "image/png": "[encoded data removed]"
          },
          "metadata": {}
        },
        {
          "output_type": "stream",
          "name": "stdout",
          "text": [
            "Voy a ejecutar la acción Up\n"
          ]
        },
        {
          "output_type": "display_data",
          "data": {
            "text/plain": [
              "<Figure size 100x100 with 1 Axes>"
            ],
            "image/png": "[encoded data removed]"
          },
          "metadata": {}
        },
        {
          "output_type": "stream",
          "name": "stdout",
          "text": [
            "Voy a ejecutar la acción Up\n"
          ]
        },
        {
          "output_type": "display_data",
          "data": {
            "text/plain": [
              "<Figure size 100x100 with 1 Axes>"
            ],
            "image/png": "[encoded data removed]"
          },
          "metadata": {}
        }
      ],
      "source": [
        "# Ejecuta el entorno 25 pasos #312645780\n",
        "e.run(25)"
      ]
    },
    {
      "cell_type": "markdown",
      "source": [
        "#### busqueda A* con heurística"
      ],
      "metadata": {
        "id": "ODxLQ-MSzCg_"
      }
    },
    {
      "cell_type": "code",
      "execution_count": null,
      "metadata": {
        "id": "amXMuvyuzChE"
      },
      "outputs": [],
      "source": [
        "\"\"\"Inicializamos el entorno\"\"\"\n",
        "e = EightpuzzleEnvironment(initial)\n",
        "\n",
        "\"\"\"Crea un agente de busqueda para alcanzar goalstate\"\"\"\n",
        "a = Agent( EightpuzzleSearchProgram(goal,'Astar+h1') )\n",
        "\n",
        "\"\"\"Añade el agente creado al entorno\"\"\"\n",
        "e.add_thing(a)"
      ]
    },
    {
      "cell_type": "code",
      "execution_count": null,
      "metadata": {
        "scrolled": true,
        "outputId": "2660eab6-37d4-404b-d49f-4cd594dfc4ae",
        "colab": {
          "base_uri": "https://localhost:8080/",
          "height": 814
        },
        "id": "Fev5aj6lzChE"
      },
      "outputs": [
        {
          "output_type": "stream",
          "name": "stdout",
          "text": [
            "Agente buscara solucion al 8-puzzle\n",
            "\n",
            "- Estado_inicial = ((3, 1, 2), (6, 4, 5), (7, 8, 0))\n"
          ]
        },
        {
          "output_type": "display_data",
          "data": {
            "text/plain": [
              "<Figure size 100x100 with 1 Axes>"
            ],
            "image/png": "[encoded data removed]"
          },
          "metadata": {}
        },
        {
          "output_type": "stream",
          "name": "stdout",
          "text": [
            "- Estado_objetivo=((0, 1, 2), (3, 4, 5), (6, 7, 8))\n"
          ]
        },
        {
          "output_type": "display_data",
          "data": {
            "text/plain": [
              "<Figure size 100x100 with 1 Axes>"
            ],
            "image/png": "[encoded data removed]"
          },
          "metadata": {}
        },
        {
          "output_type": "stream",
          "name": "stdout",
          "text": [
            "------------------------------\n",
            "Agente planeó una solucion al 8-puzzle con Astar+h1\n",
            "Seq = ['Left', 'Left', 'Up', 'Up']\n",
            "Nodos visitados=5. Costo Solucion = 4\n",
            "Voy a ejecutar la acción Left\n"
          ]
        },
        {
          "output_type": "display_data",
          "data": {
            "text/plain": [
              "<Figure size 100x100 with 1 Axes>"
            ],
            "image/png": "[encoded data removed]"
          },
          "metadata": {}
        },
        {
          "output_type": "stream",
          "name": "stdout",
          "text": [
            "Voy a ejecutar la acción Left\n"
          ]
        },
        {
          "output_type": "display_data",
          "data": {
            "text/plain": [
              "<Figure size 100x100 with 1 Axes>"
            ],
            "image/png": "[encoded data removed]"
          },
          "metadata": {}
        },
        {
          "output_type": "stream",
          "name": "stdout",
          "text": [
            "Voy a ejecutar la acción Up\n"
          ]
        },
        {
          "output_type": "display_data",
          "data": {
            "text/plain": [
              "<Figure size 100x100 with 1 Axes>"
            ],
            "image/png": "[encoded data removed]"
          },
          "metadata": {}
        },
        {
          "output_type": "stream",
          "name": "stdout",
          "text": [
            "Voy a ejecutar la acción Up\n"
          ]
        },
        {
          "output_type": "display_data",
          "data": {
            "text/plain": [
              "<Figure size 100x100 with 1 Axes>"
            ],
            "image/png": "[encoded data removed]"
          },
          "metadata": {}
        }
      ],
      "source": [
        "# Ejecuta el entorno 25 pasos\n",
        "e.run(25)"
      ]
    },
    {
      "cell_type": "markdown",
      "metadata": {
        "id": "iGp0ojiAz35P"
      },
      "source": [
        "### Probando el entorno 8-puzzle y agente de búsqueda"
      ]
    },
    {
      "cell_type": "markdown",
      "source": [
        "Ejemplos de entornos de 8 puzzle: https://www.researchgate.net/figure/8-Puzzle-problem-instances_tbl1_280545587"
      ],
      "metadata": {
        "id": "phNQbkNG0crz"
      }
    },
    {
      "cell_type": "code",
      "source": [
        "\"\"\"Crea el entorno del 8-puzzle con estado inicial '' \"\"\" # 10 movimientos\n",
        "initial =  convert_tuple((1,6,2,5,7,3,0,4,8))\n",
        "goal    =  convert_tuple((1,2,3,4,5,6,7,8,0))"
      ],
      "metadata": {
        "id": "7qzUJHQM0siM"
      },
      "execution_count": null,
      "outputs": []
    },
    {
      "cell_type": "code",
      "execution_count": null,
      "metadata": {
        "id": "C0Ax7xbxz35U"
      },
      "outputs": [],
      "source": [
        "\"\"\"Crea el entorno del 8-puzzle con estado inicial '' \"\"\" # 30 movimientos\n",
        "initial =  convert_tuple((1,2,3,8,0,4,7,6,5))\n",
        "goal    =  convert_tuple((5,6,7,4,0,8,3,2,1))"
      ]
    },
    {
      "cell_type": "markdown",
      "source": [
        "#### busqueda"
      ],
      "metadata": {
        "id": "7zC-8vviz35U"
      }
    },
    {
      "cell_type": "code",
      "source": [
        "e = EightpuzzleEnvironment(initial)"
      ],
      "metadata": {
        "id": "f20Cc0_Rz35U"
      },
      "execution_count": null,
      "outputs": []
    },
    {
      "cell_type": "code",
      "execution_count": null,
      "metadata": {
        "id": "u6yfxUBOz35V"
      },
      "outputs": [],
      "source": [
        "\"\"\"Crea un agente de busqueda para alcanzar goalstate\"\"\"\n",
        "a = Agent( EightpuzzleSearchProgram(goal,'Astar+h1') )\n",
        "\n",
        "\"\"\"Añade el agente creado al entorno\"\"\"\n",
        "e.add_thing(a)"
      ]
    },
    {
      "cell_type": "code",
      "execution_count": null,
      "metadata": {
        "scrolled": true,
        "outputId": "a8c2011f-664a-4574-ad9b-338f20fc0759",
        "colab": {
          "base_uri": "https://localhost:8080/",
          "height": 1000
        },
        "id": "UtXr1XPpz35V"
      },
      "outputs": [
        {
          "output_type": "stream",
          "name": "stdout",
          "text": [
            "Agente buscara solucion al 8-puzzle\n",
            "\n",
            "- Estado_inicial = ((1, 2, 3), (8, 0, 4), (7, 6, 5))\n"
          ]
        },
        {
          "output_type": "display_data",
          "data": {
            "text/plain": [
              "<Figure size 100x100 with 1 Axes>"
            ],
            "image/png": "[encoded data removed]"
          },
          "metadata": {}
        },
        {
          "output_type": "stream",
          "name": "stdout",
          "text": [
            "- Estado_objetivo=((5, 6, 7), (4, 0, 8), (3, 2, 1))\n"
          ]
        },
        {
          "output_type": "display_data",
          "data": {
            "text/plain": [
              "<Figure size 100x100 with 1 Axes>"
            ],
            "image/png": "[encoded data removed]"
          },
          "metadata": {}
        },
        {
          "output_type": "stream",
          "name": "stdout",
          "text": [
            "------------------------------\n",
            "Agente planeó una solucion al 8-puzzle con Astar+h1\n",
            "Seq = ['Down', 'Left', 'Up', 'Up', 'Right', 'Right', 'Down', 'Down', 'Left', 'Left', 'Up', 'Up', 'Right', 'Right', 'Down', 'Down', 'Left', 'Left', 'Up', 'Up', 'Right', 'Right', 'Down', 'Down', 'Left', 'Left', 'Up', 'Up', 'Right', 'Down']\n",
            "Nodos visitados=119639. Costo Solucion = 30\n",
            "Voy a ejecutar la acción Down\n"
          ]
        },
        {
          "output_type": "display_data",
          "data": {
            "text/plain": [
              "<Figure size 100x100 with 1 Axes>"
            ],
            "image/png": "[encoded data removed]"
          },
          "metadata": {}
        },
        {
          "output_type": "stream",
          "name": "stdout",
          "text": [
            "Voy a ejecutar la acción Left\n"
          ]
        },
        {
          "output_type": "display_data",
          "data": {
            "text/plain": [
              "<Figure size 100x100 with 1 Axes>"
            ],
            "image/png": "[encoded data removed]"
          },
          "metadata": {}
        },
        {
          "output_type": "stream",
          "name": "stdout",
          "text": [
            "Voy a ejecutar la acción Up\n"
          ]
        },
        {
          "output_type": "display_data",
          "data": {
            "text/plain": [
              "<Figure size 100x100 with 1 Axes>"
            ],
            "image/png": "[encoded data removed]"
          },
          "metadata": {}
        },
        {
          "output_type": "stream",
          "name": "stdout",
          "text": [
            "Voy a ejecutar la acción Up\n"
          ]
        },
        {
          "output_type": "display_data",
          "data": {
            "text/plain": [
              "<Figure size 100x100 with 1 Axes>"
            ],
            "image/png": "[encoded data removed]"
          },
          "metadata": {}
        },
        {
          "output_type": "stream",
          "name": "stdout",
          "text": [
            "Voy a ejecutar la acción Right\n"
          ]
        },
        {
          "output_type": "display_data",
          "data": {
            "text/plain": [
              "<Figure size 100x100 with 1 Axes>"
            ],
            "image/png": "[encoded data removed]"
          },
          "metadata": {}
        },
        {
          "output_type": "stream",
          "name": "stdout",
          "text": [
            "Voy a ejecutar la acción Right\n"
          ]
        },
        {
          "output_type": "display_data",
          "data": {
            "text/plain": [
              "<Figure size 100x100 with 1 Axes>"
            ],
            "image/png": "[encoded data removed]"
          },
          "metadata": {}
        },
        {
          "output_type": "stream",
          "name": "stdout",
          "text": [
            "Voy a ejecutar la acción Down\n"
          ]
        },
        {
          "output_type": "display_data",
          "data": {
            "text/plain": [
              "<Figure size 100x100 with 1 Axes>"
            ],
            "image/png": "[encoded data removed]"
          },
          "metadata": {}
        },
        {
          "output_type": "stream",
          "name": "stdout",
          "text": [
            "Voy a ejecutar la acción Down\n"
          ]
        },
        {
          "output_type": "display_data",
          "data": {
            "text/plain": [
              "<Figure size 100x100 with 1 Axes>"
            ],
            "image/png": "[encoded data removed]"
          },
          "metadata": {}
        },
        {
          "output_type": "stream",
          "name": "stdout",
          "text": [
            "Voy a ejecutar la acción Left\n"
          ]
        },
        {
          "output_type": "display_data",
          "data": {
            "text/plain": [
              "<Figure size 100x100 with 1 Axes>"
            ],
            "image/png": "[encoded data removed]"
          },
          "metadata": {}
        },
        {
          "output_type": "stream",
          "name": "stdout",
          "text": [
            "Voy a ejecutar la acción Left\n"
          ]
        },
        {
          "output_type": "display_data",
          "data": {
            "text/plain": [
              "<Figure size 100x100 with 1 Axes>"
            ],
            "image/png": "[encoded data removed]"
          },
          "metadata": {}
        },
        {
          "output_type": "stream",
          "name": "stdout",
          "text": [
            "Voy a ejecutar la acción Up\n"
          ]
        },
        {
          "output_type": "display_data",
          "data": {
            "text/plain": [
              "<Figure size 100x100 with 1 Axes>"
            ],
            "image/png": "[encoded data removed]"
          },
          "metadata": {}
        },
        {
          "output_type": "stream",
          "name": "stdout",
          "text": [
            "Voy a ejecutar la acción Up\n"
          ]
        },
        {
          "output_type": "display_data",
          "data": {
            "text/plain": [
              "<Figure size 100x100 with 1 Axes>"
            ],
            "image/png": "[encoded data removed]"
          },
          "metadata": {}
        },
        {
          "output_type": "stream",
          "name": "stdout",
          "text": [
            "Voy a ejecutar la acción Right\n"
          ]
        },
        {
          "output_type": "display_data",
          "data": {
            "text/plain": [
              "<Figure size 100x100 with 1 Axes>"
            ],
            "image/png": "[encoded data removed]"
          },
          "metadata": {}
        },
        {
          "output_type": "stream",
          "name": "stdout",
          "text": [
            "Voy a ejecutar la acción Right\n"
          ]
        },
        {
          "output_type": "display_data",
          "data": {
            "text/plain": [
              "<Figure size 100x100 with 1 Axes>"
            ],
            "image/png": "[encoded data removed]"
          },
          "metadata": {}
        },
        {
          "output_type": "stream",
          "name": "stdout",
          "text": [
            "Voy a ejecutar la acción Down\n"
          ]
        },
        {
          "output_type": "display_data",
          "data": {
            "text/plain": [
              "<Figure size 100x100 with 1 Axes>"
            ],
            "image/png": "[encoded data removed]"
          },
          "metadata": {}
        },
        {
          "output_type": "stream",
          "name": "stdout",
          "text": [
            "Voy a ejecutar la acción Down\n"
          ]
        },
        {
          "output_type": "display_data",
          "data": {
            "text/plain": [
              "<Figure size 100x100 with 1 Axes>"
            ],
            "image/png": "[encoded data removed]"
          },
          "metadata": {}
        },
        {
          "output_type": "stream",
          "name": "stdout",
          "text": [
            "Voy a ejecutar la acción Left\n"
          ]
        },
        {
          "output_type": "display_data",
          "data": {
            "text/plain": [
              "<Figure size 100x100 with 1 Axes>"
            ],
            "image/png": "[encoded data removed]"
          },
          "metadata": {}
        },
        {
          "output_type": "stream",
          "name": "stdout",
          "text": [
            "Voy a ejecutar la acción Left\n"
          ]
        },
        {
          "output_type": "display_data",
          "data": {
            "text/plain": [
              "<Figure size 100x100 with 1 Axes>"
            ],
            "image/png": "[encoded data removed]"
          },
          "metadata": {}
        },
        {
          "output_type": "stream",
          "name": "stdout",
          "text": [
            "Voy a ejecutar la acción Up\n"
          ]
        },
        {
          "output_type": "display_data",
          "data": {
            "text/plain": [
              "<Figure size 100x100 with 1 Axes>"
            ],
            "image/png": "[encoded data removed]"
          },
          "metadata": {}
        },
        {
          "output_type": "stream",
          "name": "stdout",
          "text": [
            "Voy a ejecutar la acción Up\n"
          ]
        },
        {
          "output_type": "display_data",
          "data": {
            "text/plain": [
              "<Figure size 100x100 with 1 Axes>"
            ],
            "image/png": "[encoded data removed]"
          },
          "metadata": {}
        },
        {
          "output_type": "stream",
          "name": "stdout",
          "text": [
            "Voy a ejecutar la acción Right\n"
          ]
        },
        {
          "output_type": "display_data",
          "data": {
            "text/plain": [
              "<Figure size 100x100 with 1 Axes>"
            ],
            "image/png": "[encoded data removed]"
          },
          "metadata": {}
        },
        {
          "output_type": "stream",
          "name": "stdout",
          "text": [
            "Voy a ejecutar la acción Right\n"
          ]
        },
        {
          "output_type": "display_data",
          "data": {
            "text/plain": [
              "<Figure size 100x100 with 1 Axes>"
            ],
            "image/png": "[encoded data removed]"
          },
          "metadata": {}
        },
        {
          "output_type": "stream",
          "name": "stdout",
          "text": [
            "Voy a ejecutar la acción Down\n"
          ]
        },
        {
          "output_type": "display_data",
          "data": {
            "text/plain": [
              "<Figure size 100x100 with 1 Axes>"
            ],
            "image/png": "[encoded data removed]"
          },
          "metadata": {}
        },
        {
          "output_type": "stream",
          "name": "stdout",
          "text": [
            "Voy a ejecutar la acción Down\n"
          ]
        },
        {
          "output_type": "display_data",
          "data": {
            "text/plain": [
              "<Figure size 100x100 with 1 Axes>"
            ],
            "image/png": "[encoded data removed]"
          },
          "metadata": {}
        },
        {
          "output_type": "stream",
          "name": "stdout",
          "text": [
            "Voy a ejecutar la acción Left\n"
          ]
        },
        {
          "output_type": "display_data",
          "data": {
            "text/plain": [
              "<Figure size 100x100 with 1 Axes>"
            ],
            "image/png": "[encoded data removed]"
          },
          "metadata": {}
        }
      ],
      "source": [
        "# Ejecuta el entorno 25 pasos\n",
        "e.run(25)"
      ]
    },
    {
      "cell_type": "markdown",
      "source": [
        "#### busqueda A* con heurística h2"
      ],
      "metadata": {
        "id": "C_Q9bvvjz35V"
      }
    },
    {
      "cell_type": "code",
      "execution_count": null,
      "metadata": {
        "id": "AYDHXJkYz35V"
      },
      "outputs": [],
      "source": [
        "\"\"\"Inicializamos el entorno\"\"\"\n",
        "e = EightpuzzleEnvironment(initial)\n",
        "\n",
        "\"\"\"Crea un agente de busqueda para alcanzar goalstate\"\"\"\n",
        "a = Agent( EightpuzzleSearchProgram(goal,'Astar+h2') )\n",
        "\n",
        "\"\"\"Añade el agente creado al entorno\"\"\"\n",
        "e.add_thing(a)"
      ]
    },
    {
      "cell_type": "code",
      "execution_count": null,
      "metadata": {
        "scrolled": true,
        "outputId": "96ecfc4c-9629-4292-c058-1ffd8ee5cc21",
        "colab": {
          "base_uri": "https://localhost:8080/",
          "height": 1000
        },
        "id": "AELptH6Mz35V"
      },
      "outputs": [
        {
          "output_type": "stream",
          "name": "stdout",
          "text": [
            "Agente buscara solucion al 8-puzzle\n",
            "\n",
            "- Estado_inicial = ((1, 2, 3), (8, 0, 4), (7, 6, 5))\n"
          ]
        },
        {
          "output_type": "display_data",
          "data": {
            "text/plain": [
              "<Figure size 100x100 with 1 Axes>"
            ],
            "image/png": "[encoded data removed]"
          },
          "metadata": {}
        },
        {
          "output_type": "stream",
          "name": "stdout",
          "text": [
            "- Estado_objetivo=((5, 6, 7), (4, 0, 8), (3, 2, 1))\n"
          ]
        },
        {
          "output_type": "display_data",
          "data": {
            "text/plain": [
              "<Figure size 100x100 with 1 Axes>"
            ],
            "image/png": "[encoded data removed]"
          },
          "metadata": {}
        },
        {
          "output_type": "stream",
          "name": "stdout",
          "text": [
            "------------------------------\n",
            "Agente planeó una solucion al 8-puzzle con Astar+h2\n",
            "Seq = ['Down', 'Left', 'Up', 'Up', 'Right', 'Right', 'Down', 'Down', 'Left', 'Left', 'Up', 'Up', 'Right', 'Right', 'Down', 'Down', 'Left', 'Left', 'Up', 'Up', 'Right', 'Right', 'Down', 'Down', 'Left', 'Left', 'Up', 'Up', 'Right', 'Down']\n",
            "Nodos visitados=2396. Costo Solucion = 30\n",
            "Voy a ejecutar la acción Down\n"
          ]
        },
        {
          "output_type": "display_data",
          "data": {
            "text/plain": [
              "<Figure size 100x100 with 1 Axes>"
            ],
            "image/png": "[encoded data removed]"
          },
          "metadata": {}
        },
        {
          "output_type": "stream",
          "name": "stdout",
          "text": [
            "Voy a ejecutar la acción Left\n"
          ]
        },
        {
          "output_type": "display_data",
          "data": {
            "text/plain": [
              "<Figure size 100x100 with 1 Axes>"
            ],
            "image/png": "[encoded data removed]"
          },
          "metadata": {}
        },
        {
          "output_type": "stream",
          "name": "stdout",
          "text": [
            "Voy a ejecutar la acción Up\n"
          ]
        },
        {
          "output_type": "display_data",
          "data": {
            "text/plain": [
              "<Figure size 100x100 with 1 Axes>"
            ],
            "image/png": "[encoded data removed]"
          },
          "metadata": {}
        },
        {
          "output_type": "stream",
          "name": "stdout",
          "text": [
            "Voy a ejecutar la acción Up\n"
          ]
        },
        {
          "output_type": "display_data",
          "data": {
            "text/plain": [
              "<Figure size 100x100 with 1 Axes>"
            ],
            "image/png": "[encoded data removed]"
          },
          "metadata": {}
        },
        {
          "output_type": "stream",
          "name": "stdout",
          "text": [
            "Voy a ejecutar la acción Right\n"
          ]
        },
        {
          "output_type": "display_data",
          "data": {
            "text/plain": [
              "<Figure size 100x100 with 1 Axes>"
            ],
            "image/png": "[encoded data removed]"
          },
          "metadata": {}
        },
        {
          "output_type": "stream",
          "name": "stdout",
          "text": [
            "Voy a ejecutar la acción Right\n"
          ]
        },
        {
          "output_type": "display_data",
          "data": {
            "text/plain": [
              "<Figure size 100x100 with 1 Axes>"
            ],
            "image/png": "[encoded data removed]"
          },
          "metadata": {}
        },
        {
          "output_type": "stream",
          "name": "stdout",
          "text": [
            "Voy a ejecutar la acción Down\n"
          ]
        },
        {
          "output_type": "display_data",
          "data": {
            "text/plain": [
              "<Figure size 100x100 with 1 Axes>"
            ],
            "image/png": "[encoded data removed]"
          },
          "metadata": {}
        },
        {
          "output_type": "stream",
          "name": "stdout",
          "text": [
            "Voy a ejecutar la acción Down\n"
          ]
        },
        {
          "output_type": "display_data",
          "data": {
            "text/plain": [
              "<Figure size 100x100 with 1 Axes>"
            ],
            "image/png": "[encoded data removed]"
          },
          "metadata": {}
        },
        {
          "output_type": "stream",
          "name": "stdout",
          "text": [
            "Voy a ejecutar la acción Left\n"
          ]
        },
        {
          "output_type": "display_data",
          "data": {
            "text/plain": [
              "<Figure size 100x100 with 1 Axes>"
            ],
            "image/png": "[encoded data removed]"
          },
          "metadata": {}
        },
        {
          "output_type": "stream",
          "name": "stdout",
          "text": [
            "Voy a ejecutar la acción Left\n"
          ]
        },
        {
          "output_type": "display_data",
          "data": {
            "text/plain": [
              "<Figure size 100x100 with 1 Axes>"
            ],
            "image/png": "[encoded data removed]"
          },
          "metadata": {}
        },
        {
          "output_type": "stream",
          "name": "stdout",
          "text": [
            "Voy a ejecutar la acción Up\n"
          ]
        },
        {
          "output_type": "display_data",
          "data": {
            "text/plain": [
              "<Figure size 100x100 with 1 Axes>"
            ],
            "image/png": "[encoded data removed]"
          },
          "metadata": {}
        },
        {
          "output_type": "stream",
          "name": "stdout",
          "text": [
            "Voy a ejecutar la acción Up\n"
          ]
        },
        {
          "output_type": "display_data",
          "data": {
            "text/plain": [
              "<Figure size 100x100 with 1 Axes>"
            ],
            "image/png": "[encoded data removed]"
          },
          "metadata": {}
        },
        {
          "output_type": "stream",
          "name": "stdout",
          "text": [
            "Voy a ejecutar la acción Right\n"
          ]
        },
        {
          "output_type": "display_data",
          "data": {
            "text/plain": [
              "<Figure size 100x100 with 1 Axes>"
            ],
            "image/png": "[encoded data removed]"
          },
          "metadata": {}
        },
        {
          "output_type": "stream",
          "name": "stdout",
          "text": [
            "Voy a ejecutar la acción Right\n"
          ]
        },
        {
          "output_type": "display_data",
          "data": {
            "text/plain": [
              "<Figure size 100x100 with 1 Axes>"
            ],
            "image/png": "[encoded data removed]"
          },
          "metadata": {}
        },
        {
          "output_type": "stream",
          "name": "stdout",
          "text": [
            "Voy a ejecutar la acción Down\n"
          ]
        },
        {
          "output_type": "display_data",
          "data": {
            "text/plain": [
              "<Figure size 100x100 with 1 Axes>"
            ],
            "image/png": "[encoded data removed]"
          },
          "metadata": {}
        },
        {
          "output_type": "stream",
          "name": "stdout",
          "text": [
            "Voy a ejecutar la acción Down\n"
          ]
        },
        {
          "output_type": "display_data",
          "data": {
            "text/plain": [
              "<Figure size 100x100 with 1 Axes>"
            ],
            "image/png": "[encoded data removed]"
          },
          "metadata": {}
        },
        {
          "output_type": "stream",
          "name": "stdout",
          "text": [
            "Voy a ejecutar la acción Left\n"
          ]
        },
        {
          "output_type": "display_data",
          "data": {
            "text/plain": [
              "<Figure size 100x100 with 1 Axes>"
            ],
            "image/png": "[encoded data removed]"
          },
          "metadata": {}
        },
        {
          "output_type": "stream",
          "name": "stdout",
          "text": [
            "Voy a ejecutar la acción Left\n"
          ]
        },
        {
          "output_type": "display_data",
          "data": {
            "text/plain": [
              "<Figure size 100x100 with 1 Axes>"
            ],
            "image/png": "[encoded data removed]"
          },
          "metadata": {}
        },
        {
          "output_type": "stream",
          "name": "stdout",
          "text": [
            "Voy a ejecutar la acción Up\n"
          ]
        },
        {
          "output_type": "display_data",
          "data": {
            "text/plain": [
              "<Figure size 100x100 with 1 Axes>"
            ],
            "image/png": "[encoded data removed]"
          },
          "metadata": {}
        },
        {
          "output_type": "stream",
          "name": "stdout",
          "text": [
            "Voy a ejecutar la acción Up\n"
          ]
        },
        {
          "output_type": "display_data",
          "data": {
            "text/plain": [
              "<Figure size 100x100 with 1 Axes>"
            ],
            "image/png": "[encoded data removed]"
          },
          "metadata": {}
        },
        {
          "output_type": "stream",
          "name": "stdout",
          "text": [
            "Voy a ejecutar la acción Right\n"
          ]
        },
        {
          "output_type": "display_data",
          "data": {
            "text/plain": [
              "<Figure size 100x100 with 1 Axes>"
            ],
            "image/png": "[encoded data removed]"
          },
          "metadata": {}
        },
        {
          "output_type": "stream",
          "name": "stdout",
          "text": [
            "Voy a ejecutar la acción Right\n"
          ]
        },
        {
          "output_type": "display_data",
          "data": {
            "text/plain": [
              "<Figure size 100x100 with 1 Axes>"
            ],
            "image/png": "[encoded data removed]"
          },
          "metadata": {}
        },
        {
          "output_type": "stream",
          "name": "stdout",
          "text": [
            "Voy a ejecutar la acción Down\n"
          ]
        },
        {
          "output_type": "display_data",
          "data": {
            "text/plain": [
              "<Figure size 100x100 with 1 Axes>"
            ],
            "image/png": "[encoded data removed]"
          },
          "metadata": {}
        },
        {
          "output_type": "stream",
          "name": "stdout",
          "text": [
            "Voy a ejecutar la acción Down\n"
          ]
        },
        {
          "output_type": "display_data",
          "data": {
            "text/plain": [
              "<Figure size 100x100 with 1 Axes>"
            ],
            "image/png": "[encoded data removed]"
          },
          "metadata": {}
        },
        {
          "output_type": "stream",
          "name": "stdout",
          "text": [
            "Voy a ejecutar la acción Left\n"
          ]
        },
        {
          "output_type": "display_data",
          "data": {
            "text/plain": [
              "<Figure size 100x100 with 1 Axes>"
            ],
            "image/png": "[encoded data removed]"
          },
          "metadata": {}
        }
      ],
      "source": [
        "# Ejecuta el entorno 25 pasos\n",
        "e.run(25)"
      ]
    },
    {
      "cell_type": "markdown",
      "source": [
        "#### busqueda A* con heurística"
      ],
      "metadata": {
        "id": "Qpt-qYvDz35V"
      }
    },
    {
      "cell_type": "code",
      "execution_count": null,
      "metadata": {
        "id": "b6OsGmivz35V"
      },
      "outputs": [],
      "source": [
        "\"\"\"Inicializamos el entorno\"\"\"\n",
        "e = EightpuzzleEnvironment(initial)\n",
        "\n",
        "\"\"\"Crea un agente de busqueda para alcanzar goalstate\"\"\"\n",
        "a = Agent( EightpuzzleSearchProgram(goal,'Astar+hwei') )\n",
        "\n",
        "\"\"\"Añade el agente creado al entorno\"\"\"\n",
        "e.add_thing(a)"
      ]
    },
    {
      "cell_type": "code",
      "execution_count": null,
      "metadata": {
        "scrolled": true,
        "outputId": "8910f00b-3de3-41fd-87a5-15f3420dd390",
        "colab": {
          "base_uri": "https://localhost:8080/",
          "height": 1000
        },
        "id": "4vINpU_Hz35V"
      },
      "outputs": [
        {
          "output_type": "stream",
          "name": "stdout",
          "text": [
            "Agente buscara solucion al 8-puzzle\n",
            "\n",
            "- Estado_inicial = ((1, 2, 3), (8, 0, 4), (7, 6, 5))\n"
          ]
        },
        {
          "output_type": "display_data",
          "data": {
            "text/plain": [
              "<Figure size 100x100 with 1 Axes>"
            ],
            "image/png": "[encoded data removed]"
          },
          "metadata": {}
        },
        {
          "output_type": "stream",
          "name": "stdout",
          "text": [
            "- Estado_objetivo=((5, 6, 7), (4, 0, 8), (3, 2, 1))\n"
          ]
        },
        {
          "output_type": "display_data",
          "data": {
            "text/plain": [
              "<Figure size 100x100 with 1 Axes>"
            ],
            "image/png": "[encoded data removed]"
          },
          "metadata": {}
        },
        {
          "output_type": "stream",
          "name": "stdout",
          "text": [
            "------------------------------\n",
            "Agente planeó una solucion al 8-puzzle con Astar+hwei\n",
            "Seq = ['Left', 'Up', 'Right', 'Down', 'Left', 'Down', 'Right', 'Up', 'Right', 'Down', 'Left', 'Up', 'Right', 'Up', 'Left', 'Down', 'Left', 'Up', 'Right', 'Down', 'Right', 'Up', 'Left', 'Left', 'Down', 'Down', 'Right', 'Up', 'Left', 'Up', 'Right', 'Down', 'Left', 'Down', 'Right', 'Up']\n",
            "Nodos visitados=28251. Costo Solucion = 36\n",
            "Voy a ejecutar la acción Left\n"
          ]
        },
        {
          "output_type": "display_data",
          "data": {
            "text/plain": [
              "<Figure size 100x100 with 1 Axes>"
            ],
            "image/png": "[encoded data removed]"
          },
          "metadata": {}
        },
        {
          "output_type": "stream",
          "name": "stdout",
          "text": [
            "Voy a ejecutar la acción Up\n"
          ]
        },
        {
          "output_type": "display_data",
          "data": {
            "text/plain": [
              "<Figure size 100x100 with 1 Axes>"
            ],
            "image/png": "[encoded data removed]"
          },
          "metadata": {}
        },
        {
          "output_type": "stream",
          "name": "stdout",
          "text": [
            "Voy a ejecutar la acción Right\n"
          ]
        },
        {
          "output_type": "display_data",
          "data": {
            "text/plain": [
              "<Figure size 100x100 with 1 Axes>"
            ],
            "image/png": "[encoded data removed]"
          },
          "metadata": {}
        },
        {
          "output_type": "stream",
          "name": "stdout",
          "text": [
            "Voy a ejecutar la acción Down\n"
          ]
        },
        {
          "output_type": "display_data",
          "data": {
            "text/plain": [
              "<Figure size 100x100 with 1 Axes>"
            ],
            "image/png": "[encoded data removed]"
          },
          "metadata": {}
        },
        {
          "output_type": "stream",
          "name": "stdout",
          "text": [
            "Voy a ejecutar la acción Left\n"
          ]
        },
        {
          "output_type": "display_data",
          "data": {
            "text/plain": [
              "<Figure size 100x100 with 1 Axes>"
            ],
            "image/png": "[encoded data removed]"
          },
          "metadata": {}
        },
        {
          "output_type": "stream",
          "name": "stdout",
          "text": [
            "Voy a ejecutar la acción Down\n"
          ]
        },
        {
          "output_type": "display_data",
          "data": {
            "text/plain": [
              "<Figure size 100x100 with 1 Axes>"
            ],
            "image/png": "[encoded data removed]"
          },
          "metadata": {}
        },
        {
          "output_type": "stream",
          "name": "stdout",
          "text": [
            "Voy a ejecutar la acción Right\n"
          ]
        },
        {
          "output_type": "display_data",
          "data": {
            "text/plain": [
              "<Figure size 100x100 with 1 Axes>"
            ],
            "image/png": "[encoded data removed]"
          },
          "metadata": {}
        },
        {
          "output_type": "stream",
          "name": "stdout",
          "text": [
            "Voy a ejecutar la acción Up\n"
          ]
        },
        {
          "output_type": "display_data",
          "data": {
            "text/plain": [
              "<Figure size 100x100 with 1 Axes>"
            ],
            "image/png": "[encoded data removed]"
          },
          "metadata": {}
        },
        {
          "output_type": "stream",
          "name": "stdout",
          "text": [
            "Voy a ejecutar la acción Right\n"
          ]
        },
        {
          "output_type": "display_data",
          "data": {
            "text/plain": [
              "<Figure size 100x100 with 1 Axes>"
            ],
            "image/png": "[encoded data removed]"
          },
          "metadata": {}
        },
        {
          "output_type": "stream",
          "name": "stdout",
          "text": [
            "Voy a ejecutar la acción Down\n"
          ]
        },
        {
          "output_type": "display_data",
          "data": {
            "text/plain": [
              "<Figure size 100x100 with 1 Axes>"
            ],
            "image/png": "[encoded data removed]"
          },
          "metadata": {}
        },
        {
          "output_type": "stream",
          "name": "stdout",
          "text": [
            "Voy a ejecutar la acción Left\n"
          ]
        },
        {
          "output_type": "display_data",
          "data": {
            "text/plain": [
              "<Figure size 100x100 with 1 Axes>"
            ],
            "image/png": "[encoded data removed]"
          },
          "metadata": {}
        },
        {
          "output_type": "stream",
          "name": "stdout",
          "text": [
            "Voy a ejecutar la acción Up\n"
          ]
        },
        {
          "output_type": "display_data",
          "data": {
            "text/plain": [
              "<Figure size 100x100 with 1 Axes>"
            ],
            "image/png": "[encoded data removed]"
          },
          "metadata": {}
        },
        {
          "output_type": "stream",
          "name": "stdout",
          "text": [
            "Voy a ejecutar la acción Right\n"
          ]
        },
        {
          "output_type": "display_data",
          "data": {
            "text/plain": [
              "<Figure size 100x100 with 1 Axes>"
            ],
            "image/png": "[encoded data removed]"
          },
          "metadata": {}
        },
        {
          "output_type": "stream",
          "name": "stdout",
          "text": [
            "Voy a ejecutar la acción Up\n"
          ]
        },
        {
          "output_type": "display_data",
          "data": {
            "text/plain": [
              "<Figure size 100x100 with 1 Axes>"
            ],
            "image/png": "[encoded data removed]"
          },
          "metadata": {}
        },
        {
          "output_type": "stream",
          "name": "stdout",
          "text": [
            "Voy a ejecutar la acción Left\n"
          ]
        },
        {
          "output_type": "display_data",
          "data": {
            "text/plain": [
              "<Figure size 100x100 with 1 Axes>"
            ],
            "image/png": "[encoded data removed]"
          },
          "metadata": {}
        },
        {
          "output_type": "stream",
          "name": "stdout",
          "text": [
            "Voy a ejecutar la acción Down\n"
          ]
        },
        {
          "output_type": "display_data",
          "data": {
            "text/plain": [
              "<Figure size 100x100 with 1 Axes>"
            ],
            "image/png": "[encoded data removed]"
          },
          "metadata": {}
        },
        {
          "output_type": "stream",
          "name": "stdout",
          "text": [
            "Voy a ejecutar la acción Left\n"
          ]
        },
        {
          "output_type": "display_data",
          "data": {
            "text/plain": [
              "<Figure size 100x100 with 1 Axes>"
            ],
            "image/png": "[encoded data removed]"
          },
          "metadata": {}
        },
        {
          "output_type": "stream",
          "name": "stdout",
          "text": [
            "Voy a ejecutar la acción Up\n"
          ]
        },
        {
          "output_type": "display_data",
          "data": {
            "text/plain": [
              "<Figure size 100x100 with 1 Axes>"
            ],
            "image/png": "[encoded data removed]"
          },
          "metadata": {}
        },
        {
          "output_type": "stream",
          "name": "stdout",
          "text": [
            "Voy a ejecutar la acción Right\n"
          ]
        },
        {
          "output_type": "display_data",
          "data": {
            "text/plain": [
              "<Figure size 100x100 with 1 Axes>"
            ],
            "image/png": "[encoded data removed]"
          },
          "metadata": {}
        },
        {
          "output_type": "stream",
          "name": "stdout",
          "text": [
            "Voy a ejecutar la acción Down\n"
          ]
        },
        {
          "output_type": "display_data",
          "data": {
            "text/plain": [
              "<Figure size 100x100 with 1 Axes>"
            ],
            "image/png": "[encoded data removed]"
          },
          "metadata": {}
        },
        {
          "output_type": "stream",
          "name": "stdout",
          "text": [
            "Voy a ejecutar la acción Right\n"
          ]
        },
        {
          "output_type": "display_data",
          "data": {
            "text/plain": [
              "<Figure size 100x100 with 1 Axes>"
            ],
            "image/png": "[encoded data removed]"
          },
          "metadata": {}
        },
        {
          "output_type": "stream",
          "name": "stdout",
          "text": [
            "Voy a ejecutar la acción Up\n"
          ]
        },
        {
          "output_type": "display_data",
          "data": {
            "text/plain": [
              "<Figure size 100x100 with 1 Axes>"
            ],
            "image/png": "[encoded data removed]"
          },
          "metadata": {}
        },
        {
          "output_type": "stream",
          "name": "stdout",
          "text": [
            "Voy a ejecutar la acción Left\n"
          ]
        },
        {
          "output_type": "display_data",
          "data": {
            "text/plain": [
              "<Figure size 100x100 with 1 Axes>"
            ],
            "image/png": "[encoded data removed]"
          },
          "metadata": {}
        },
        {
          "output_type": "stream",
          "name": "stdout",
          "text": [
            "Voy a ejecutar la acción Left\n"
          ]
        },
        {
          "output_type": "display_data",
          "data": {
            "text/plain": [
              "<Figure size 100x100 with 1 Axes>"
            ],
            "image/png": "[encoded data removed]"
          },
          "metadata": {}
        },
        {
          "output_type": "stream",
          "name": "stdout",
          "text": [
            "Voy a ejecutar la acción Down\n"
          ]
        },
        {
          "output_type": "display_data",
          "data": {
            "text/plain": [
              "<Figure size 100x100 with 1 Axes>"
            ],
            "image/png": "[encoded data removed]"
          },
          "metadata": {}
        }
      ],
      "source": [
        "# Ejecuta el entorno 25 pasos\n",
        "e.run(25)"
      ]
    },
    {
      "cell_type": "markdown",
      "metadata": {
        "id": "3Ap2pecR5Ub0"
      },
      "source": [
        "### Probando nuestro agente en un simulador online - Comparación de resultados"
      ]
    },
    {
      "cell_type": "code",
      "execution_count": null,
      "metadata": {
        "id": "rjzlskxn5Ub1"
      },
      "outputs": [],
      "source": [
        "\"\"\"Crea el entorno del 8-puzzle con estado inicial '' \"\"\"\n",
        "initial =  convert_tuple((3,1,2,6,4,5,7,8,0))\n",
        "#goal    =  ((0,1,2),(3,4,5),(6,7,8)) # estado objetivo que teníamos previamente\n",
        "goal    =  convert_tuple((1,2,3,4,5,6,7,8,0)) # para este estado inicial, este nuevo goal es más difícil"
      ]
    },
    {
      "cell_type": "markdown",
      "source": [
        "Veamos este simulador: https://deniz.co/8-puzzle-solver/\n",
        "\n",
        "Nota: En este simulador, el estado objetivo es siempre: `((1, 2, 3), (4, 5, 6), (7, 8, 0))`."
      ],
      "metadata": {
        "id": "b17qwpAF5Ub1"
      }
    },
    {
      "cell_type": "markdown",
      "source": [
        "Analicemos el árbol de búsqueda que genera! Qué pueden comentar al respecto?"
      ],
      "metadata": {
        "id": "_nDRLo385qe_"
      }
    },
    {
      "cell_type": "markdown",
      "source": [
        "Comparemos el costo de solución encontrado. Comparemos los valores que encuentra: costo de la solución encontrada y cantidad de nodos explorados. Son iguales? Son diferentes? Por que?"
      ],
      "metadata": {
        "id": "un95OG2D5Ub1"
      }
    },
    {
      "cell_type": "markdown",
      "source": [
        "#### Spoiler\n",
        "\n",
        "\n"
      ],
      "metadata": {
        "id": "xSF4nIIK52Mj"
      }
    },
    {
      "cell_type": "markdown",
      "source": [
        "##### -\n",
        "\n",
        "Observemos el orden de las acciones en el árbol de búsqueda. Es igual al nuestro? Veamos en más de un nodo."
      ],
      "metadata": {
        "id": "l8FUflKj6j8T"
      }
    },
    {
      "cell_type": "markdown",
      "source": [
        "#### Continuemos"
      ],
      "metadata": {
        "id": "wvtlIxWs6SRx"
      }
    },
    {
      "cell_type": "code",
      "source": [
        "initial"
      ],
      "metadata": {
        "colab": {
          "base_uri": "https://localhost:8080/"
        },
        "outputId": "82cd1dbf-40ea-48d7-c50c-023b66c2c20a",
        "id": "er9Pm0Gf5Ub1"
      },
      "execution_count": null,
      "outputs": [
        {
          "output_type": "execute_result",
          "data": {
            "text/plain": [
              "((3, 1, 2), (6, 4, 5), (7, 8, 0))"
            ]
          },
          "metadata": {},
          "execution_count": 49
        }
      ]
    },
    {
      "cell_type": "markdown",
      "source": [
        "#### busqueda en amplitud (BFS)"
      ],
      "metadata": {
        "id": "f-8LvWcA5Ub1"
      }
    },
    {
      "cell_type": "code",
      "execution_count": null,
      "metadata": {
        "id": "6j_eKHbR5Ub1"
      },
      "outputs": [],
      "source": [
        "e = EightpuzzleEnvironment(initial)\n",
        "\n",
        "\"\"\"Crea un agente de busqueda para alcanzar goalstate\"\"\"\n",
        "a = Agent( EightpuzzleSearchProgram(goal,'bfs') )\n",
        "\n",
        "\"\"\"Añade el agente creado al entorno\"\"\"\n",
        "e.add_thing(a)"
      ]
    },
    {
      "cell_type": "code",
      "execution_count": null,
      "metadata": {
        "scrolled": true,
        "id": "2sT9ryNC5Ub1"
      },
      "outputs": [],
      "source": [
        "# Ejecuta el entorno 25 pasos\n",
        "#e.run(25)"
      ]
    },
    {
      "cell_type": "code",
      "execution_count": null,
      "metadata": {
        "id": "rcCMg9K55Ub1"
      },
      "outputs": [],
      "source": [
        "e = EightpuzzleEnvironment(initial)\n",
        "\n",
        "\"\"\"Crea un agente de busqueda para alcanzar goalstate\"\"\"\n",
        "a = Agent( EightpuzzleSearchProgram(goal,'Astar+h2') )\n",
        "\n",
        "\"\"\"Añade el agente creado al entorno\"\"\"\n",
        "e.add_thing(a)"
      ]
    },
    {
      "cell_type": "code",
      "execution_count": null,
      "metadata": {
        "scrolled": true,
        "outputId": "64d24c12-2893-4b2c-c7f4-85d788665f30",
        "colab": {
          "base_uri": "https://localhost:8080/",
          "height": 1000
        },
        "id": "ku3hfK7u5Ub1"
      },
      "outputs": [
        {
          "output_type": "stream",
          "name": "stdout",
          "text": [
            "Agente buscara solucion al 8-puzzle\n",
            "\n",
            "- Estado_inicial = ((3, 1, 2), (6, 4, 5), (7, 8, 0))\n"
          ]
        },
        {
          "output_type": "display_data",
          "data": {
            "text/plain": [
              "<Figure size 100x100 with 1 Axes>"
            ],
            "image/png": "[encoded data removed]"
          },
          "metadata": {}
        },
        {
          "output_type": "stream",
          "name": "stdout",
          "text": [
            "- Estado_objetivo=((1, 2, 3), (4, 5, 6), (7, 8, 0))\n"
          ]
        },
        {
          "output_type": "display_data",
          "data": {
            "text/plain": [
              "<Figure size 100x100 with 1 Axes>"
            ],
            "image/png": "[encoded data removed]"
          },
          "metadata": {}
        },
        {
          "output_type": "stream",
          "name": "stdout",
          "text": [
            "------------------------------\n",
            "Agente planeó una solucion al 8-puzzle con Astar+h2\n",
            "Seq = ['Left', 'Up', 'Left', 'Up', 'Right', 'Right', 'Down', 'Left', 'Left', 'Up', 'Right', 'Down', 'Down', 'Right', 'Up', 'Up', 'Left', 'Left', 'Down', 'Right', 'Right', 'Down']\n",
            "Nodos visitados=1619. Costo Solucion = 22\n",
            "Voy a ejecutar la acción Left\n"
          ]
        },
        {
          "output_type": "display_data",
          "data": {
            "text/plain": [
              "<Figure size 100x100 with 1 Axes>"
            ],
            "image/png": "[encoded data removed]"
          },
          "metadata": {}
        },
        {
          "output_type": "stream",
          "name": "stdout",
          "text": [
            "Voy a ejecutar la acción Up\n"
          ]
        },
        {
          "output_type": "display_data",
          "data": {
            "text/plain": [
              "<Figure size 100x100 with 1 Axes>"
            ],
            "image/png": "[encoded data removed]"
          },
          "metadata": {}
        },
        {
          "output_type": "stream",
          "name": "stdout",
          "text": [
            "Voy a ejecutar la acción Left\n"
          ]
        },
        {
          "output_type": "display_data",
          "data": {
            "text/plain": [
              "<Figure size 100x100 with 1 Axes>"
            ],
            "image/png": "[encoded data removed]"
          },
          "metadata": {}
        },
        {
          "output_type": "stream",
          "name": "stdout",
          "text": [
            "Voy a ejecutar la acción Up\n"
          ]
        },
        {
          "output_type": "display_data",
          "data": {
            "text/plain": [
              "<Figure size 100x100 with 1 Axes>"
            ],
            "image/png": "[encoded data removed]"
          },
          "metadata": {}
        },
        {
          "output_type": "stream",
          "name": "stdout",
          "text": [
            "Voy a ejecutar la acción Right\n"
          ]
        },
        {
          "output_type": "display_data",
          "data": {
            "text/plain": [
              "<Figure size 100x100 with 1 Axes>"
            ],
            "image/png": "[encoded data removed]"
          },
          "metadata": {}
        },
        {
          "output_type": "stream",
          "name": "stdout",
          "text": [
            "Voy a ejecutar la acción Right\n"
          ]
        },
        {
          "output_type": "display_data",
          "data": {
            "text/plain": [
              "<Figure size 100x100 with 1 Axes>"
            ],
            "image/png": "[encoded data removed]"
          },
          "metadata": {}
        },
        {
          "output_type": "stream",
          "name": "stdout",
          "text": [
            "Voy a ejecutar la acción Down\n"
          ]
        },
        {
          "output_type": "display_data",
          "data": {
            "text/plain": [
              "<Figure size 100x100 with 1 Axes>"
            ],
            "image/png": "[encoded data removed]"
          },
          "metadata": {}
        },
        {
          "output_type": "stream",
          "name": "stdout",
          "text": [
            "Voy a ejecutar la acción Left\n"
          ]
        },
        {
          "output_type": "display_data",
          "data": {
            "text/plain": [
              "<Figure size 100x100 with 1 Axes>"
            ],
            "image/png": "[encoded data removed]"
          },
          "metadata": {}
        },
        {
          "output_type": "stream",
          "name": "stdout",
          "text": [
            "Voy a ejecutar la acción Left\n"
          ]
        },
        {
          "output_type": "display_data",
          "data": {
            "text/plain": [
              "<Figure size 100x100 with 1 Axes>"
            ],
            "image/png": "[encoded data removed]"
          },
          "metadata": {}
        },
        {
          "output_type": "stream",
          "name": "stdout",
          "text": [
            "Voy a ejecutar la acción Up\n"
          ]
        },
        {
          "output_type": "display_data",
          "data": {
            "text/plain": [
              "<Figure size 100x100 with 1 Axes>"
            ],
            "image/png": "[encoded data removed]"
          },
          "metadata": {}
        },
        {
          "output_type": "stream",
          "name": "stdout",
          "text": [
            "Voy a ejecutar la acción Right\n"
          ]
        },
        {
          "output_type": "display_data",
          "data": {
            "text/plain": [
              "<Figure size 100x100 with 1 Axes>"
            ],
            "image/png": "[encoded data removed]"
          },
          "metadata": {}
        },
        {
          "output_type": "stream",
          "name": "stdout",
          "text": [
            "Voy a ejecutar la acción Down\n"
          ]
        },
        {
          "output_type": "display_data",
          "data": {
            "text/plain": [
              "<Figure size 100x100 with 1 Axes>"
            ],
            "image/png": "[encoded data removed]"
          },
          "metadata": {}
        },
        {
          "output_type": "stream",
          "name": "stdout",
          "text": [
            "Voy a ejecutar la acción Down\n"
          ]
        },
        {
          "output_type": "display_data",
          "data": {
            "text/plain": [
              "<Figure size 100x100 with 1 Axes>"
            ],
            "image/png": "[encoded data removed]"
          },
          "metadata": {}
        },
        {
          "output_type": "stream",
          "name": "stdout",
          "text": [
            "Voy a ejecutar la acción Right\n"
          ]
        },
        {
          "output_type": "display_data",
          "data": {
            "text/plain": [
              "<Figure size 100x100 with 1 Axes>"
            ],
            "image/png": "[encoded data removed]"
          },
          "metadata": {}
        },
        {
          "output_type": "stream",
          "name": "stdout",
          "text": [
            "Voy a ejecutar la acción Up\n"
          ]
        },
        {
          "output_type": "display_data",
          "data": {
            "text/plain": [
              "<Figure size 100x100 with 1 Axes>"
            ],
            "image/png": "[encoded data removed]"
          },
          "metadata": {}
        },
        {
          "output_type": "stream",
          "name": "stdout",
          "text": [
            "Voy a ejecutar la acción Up\n"
          ]
        },
        {
          "output_type": "display_data",
          "data": {
            "text/plain": [
              "<Figure size 100x100 with 1 Axes>"
            ],
            "image/png": "[encoded data removed]"
          },
          "metadata": {}
        },
        {
          "output_type": "stream",
          "name": "stdout",
          "text": [
            "Voy a ejecutar la acción Left\n"
          ]
        },
        {
          "output_type": "display_data",
          "data": {
            "text/plain": [
              "<Figure size 100x100 with 1 Axes>"
            ],
            "image/png": "[encoded data removed]"
          },
          "metadata": {}
        },
        {
          "output_type": "stream",
          "name": "stdout",
          "text": [
            "Voy a ejecutar la acción Left\n"
          ]
        },
        {
          "output_type": "display_data",
          "data": {
            "text/plain": [
              "<Figure size 100x100 with 1 Axes>"
            ],
            "image/png": "[encoded data removed]"
          },
          "metadata": {}
        },
        {
          "output_type": "stream",
          "name": "stdout",
          "text": [
            "Voy a ejecutar la acción Down\n"
          ]
        },
        {
          "output_type": "display_data",
          "data": {
            "text/plain": [
              "<Figure size 100x100 with 1 Axes>"
            ],
            "image/png": "[encoded data removed]"
          },
          "metadata": {}
        },
        {
          "output_type": "stream",
          "name": "stdout",
          "text": [
            "Voy a ejecutar la acción Right\n"
          ]
        },
        {
          "output_type": "display_data",
          "data": {
            "text/plain": [
              "<Figure size 100x100 with 1 Axes>"
            ],
            "image/png": "[encoded data removed]"
          },
          "metadata": {}
        },
        {
          "output_type": "stream",
          "name": "stdout",
          "text": [
            "Voy a ejecutar la acción Right\n"
          ]
        },
        {
          "output_type": "display_data",
          "data": {
            "text/plain": [
              "<Figure size 100x100 with 1 Axes>"
            ],
            "image/png": "[encoded data removed]"
          },
          "metadata": {}
        },
        {
          "output_type": "stream",
          "name": "stdout",
          "text": [
            "Voy a ejecutar la acción Down\n"
          ]
        },
        {
          "output_type": "display_data",
          "data": {
            "text/plain": [
              "<Figure size 100x100 with 1 Axes>"
            ],
            "image/png": "[encoded data removed]"
          },
          "metadata": {}
        }
      ],
      "source": [
        "# Ejecuta el entorno 25 pasos\n",
        "e.run(25)"
      ]
    },
    {
      "cell_type": "markdown",
      "source": [
        "#### busqueda A* con heurística h1"
      ],
      "metadata": {
        "id": "g9sv1lyA5Ub1"
      }
    },
    {
      "cell_type": "code",
      "execution_count": null,
      "metadata": {
        "id": "dOhO9v4f5Ub1"
      },
      "outputs": [],
      "source": [
        "\"\"\"Inicializamos el entorno\"\"\"\n",
        "e = EightpuzzleEnvironment(initial)\n",
        "\n",
        "\"\"\"Crea un agente de busqueda para alcanzar goalstate\"\"\"\n",
        "a = Agent( EightpuzzleSearchProgram(goal,'Astar+h1') )\n",
        "\n",
        "\"\"\"Añade el agente creado al entorno\"\"\"\n",
        "e.add_thing(a)"
      ]
    },
    {
      "cell_type": "code",
      "execution_count": null,
      "metadata": {
        "scrolled": true,
        "outputId": "2990654b-1796-49f7-cc9e-b7dd2dc71d11",
        "colab": {
          "base_uri": "https://localhost:8080/",
          "height": 1000
        },
        "id": "vtcni8Er5Ub1"
      },
      "outputs": [
        {
          "output_type": "stream",
          "name": "stdout",
          "text": [
            "Agente buscara solucion al 8-puzzle\n",
            "\n",
            "- Estado_inicial = ((3, 1, 2), (6, 4, 5), (7, 8, 0))\n"
          ]
        },
        {
          "output_type": "display_data",
          "data": {
            "text/plain": [
              "<Figure size 100x100 with 1 Axes>"
            ],
            "image/png": "[encoded data removed]"
          },
          "metadata": {}
        },
        {
          "output_type": "stream",
          "name": "stdout",
          "text": [
            "- Estado_objetivo=((1, 2, 3), (4, 5, 6), (7, 8, 0))\n"
          ]
        },
        {
          "output_type": "display_data",
          "data": {
            "text/plain": [
              "<Figure size 100x100 with 1 Axes>"
            ],
            "image/png": "[encoded data removed]"
          },
          "metadata": {}
        },
        {
          "output_type": "stream",
          "name": "stdout",
          "text": [
            "------------------------------\n",
            "Agente planeó una solucion al 8-puzzle con Astar+h1\n",
            "Seq = ['Left', 'Up', 'Left', 'Up', 'Right', 'Right', 'Down', 'Left', 'Left', 'Up', 'Right', 'Down', 'Down', 'Right', 'Up', 'Up', 'Left', 'Left', 'Down', 'Right', 'Right', 'Down']\n",
            "Nodos visitados=6649. Costo Solucion = 22\n",
            "Voy a ejecutar la acción Left\n"
          ]
        },
        {
          "output_type": "display_data",
          "data": {
            "text/plain": [
              "<Figure size 100x100 with 1 Axes>"
            ],
            "image/png": "[encoded data removed]"
          },
          "metadata": {}
        },
        {
          "output_type": "stream",
          "name": "stdout",
          "text": [
            "Voy a ejecutar la acción Up\n"
          ]
        },
        {
          "output_type": "display_data",
          "data": {
            "text/plain": [
              "<Figure size 100x100 with 1 Axes>"
            ],
            "image/png": "[encoded data removed]"
          },
          "metadata": {}
        },
        {
          "output_type": "stream",
          "name": "stdout",
          "text": [
            "Voy a ejecutar la acción Left\n"
          ]
        },
        {
          "output_type": "display_data",
          "data": {
            "text/plain": [
              "<Figure size 100x100 with 1 Axes>"
            ],
            "image/png": "[encoded data removed]"
          },
          "metadata": {}
        },
        {
          "output_type": "stream",
          "name": "stdout",
          "text": [
            "Voy a ejecutar la acción Up\n"
          ]
        },
        {
          "output_type": "display_data",
          "data": {
            "text/plain": [
              "<Figure size 100x100 with 1 Axes>"
            ],
            "image/png": "[encoded data removed]"
          },
          "metadata": {}
        },
        {
          "output_type": "stream",
          "name": "stdout",
          "text": [
            "Voy a ejecutar la acción Right\n"
          ]
        },
        {
          "output_type": "display_data",
          "data": {
            "text/plain": [
              "<Figure size 100x100 with 1 Axes>"
            ],
            "image/png": "[encoded data removed]"
          },
          "metadata": {}
        },
        {
          "output_type": "stream",
          "name": "stdout",
          "text": [
            "Voy a ejecutar la acción Right\n"
          ]
        },
        {
          "output_type": "display_data",
          "data": {
            "text/plain": [
              "<Figure size 100x100 with 1 Axes>"
            ],
            "image/png": "[encoded data removed]"
          },
          "metadata": {}
        },
        {
          "output_type": "stream",
          "name": "stdout",
          "text": [
            "Voy a ejecutar la acción Down\n"
          ]
        },
        {
          "output_type": "display_data",
          "data": {
            "text/plain": [
              "<Figure size 100x100 with 1 Axes>"
            ],
            "image/png": "[encoded data removed]"
          },
          "metadata": {}
        },
        {
          "output_type": "stream",
          "name": "stdout",
          "text": [
            "Voy a ejecutar la acción Left\n"
          ]
        },
        {
          "output_type": "display_data",
          "data": {
            "text/plain": [
              "<Figure size 100x100 with 1 Axes>"
            ],
            "image/png": "[encoded data removed]"
          },
          "metadata": {}
        },
        {
          "output_type": "stream",
          "name": "stdout",
          "text": [
            "Voy a ejecutar la acción Left\n"
          ]
        },
        {
          "output_type": "display_data",
          "data": {
            "text/plain": [
              "<Figure size 100x100 with 1 Axes>"
            ],
            "image/png": "[encoded data removed]"
          },
          "metadata": {}
        },
        {
          "output_type": "stream",
          "name": "stdout",
          "text": [
            "Voy a ejecutar la acción Up\n"
          ]
        },
        {
          "output_type": "display_data",
          "data": {
            "text/plain": [
              "<Figure size 100x100 with 1 Axes>"
            ],
            "image/png": "[encoded data removed]"
          },
          "metadata": {}
        },
        {
          "output_type": "stream",
          "name": "stdout",
          "text": [
            "Voy a ejecutar la acción Right\n"
          ]
        },
        {
          "output_type": "display_data",
          "data": {
            "text/plain": [
              "<Figure size 100x100 with 1 Axes>"
            ],
            "image/png": "[encoded data removed]"
          },
          "metadata": {}
        },
        {
          "output_type": "stream",
          "name": "stdout",
          "text": [
            "Voy a ejecutar la acción Down\n"
          ]
        },
        {
          "output_type": "display_data",
          "data": {
            "text/plain": [
              "<Figure size 100x100 with 1 Axes>"
            ],
            "image/png": "[encoded data removed]"
          },
          "metadata": {}
        },
        {
          "output_type": "stream",
          "name": "stdout",
          "text": [
            "Voy a ejecutar la acción Down\n"
          ]
        },
        {
          "output_type": "display_data",
          "data": {
            "text/plain": [
              "<Figure size 100x100 with 1 Axes>"
            ],
            "image/png": "[encoded data removed]"
          },
          "metadata": {}
        },
        {
          "output_type": "stream",
          "name": "stdout",
          "text": [
            "Voy a ejecutar la acción Right\n"
          ]
        },
        {
          "output_type": "display_data",
          "data": {
            "text/plain": [
              "<Figure size 100x100 with 1 Axes>"
            ],
            "image/png": "[encoded data removed]"
          },
          "metadata": {}
        },
        {
          "output_type": "stream",
          "name": "stdout",
          "text": [
            "Voy a ejecutar la acción Up\n"
          ]
        },
        {
          "output_type": "display_data",
          "data": {
            "text/plain": [
              "<Figure size 100x100 with 1 Axes>"
            ],
            "image/png": "[encoded data removed]"
          },
          "metadata": {}
        },
        {
          "output_type": "stream",
          "name": "stdout",
          "text": [
            "Voy a ejecutar la acción Up\n"
          ]
        },
        {
          "output_type": "display_data",
          "data": {
            "text/plain": [
              "<Figure size 100x100 with 1 Axes>"
            ],
            "image/png": "[encoded data removed]"
          },
          "metadata": {}
        },
        {
          "output_type": "stream",
          "name": "stdout",
          "text": [
            "Voy a ejecutar la acción Left\n"
          ]
        },
        {
          "output_type": "display_data",
          "data": {
            "text/plain": [
              "<Figure size 100x100 with 1 Axes>"
            ],
            "image/png": "[encoded data removed]"
          },
          "metadata": {}
        },
        {
          "output_type": "stream",
          "name": "stdout",
          "text": [
            "Voy a ejecutar la acción Left\n"
          ]
        },
        {
          "output_type": "display_data",
          "data": {
            "text/plain": [
              "<Figure size 100x100 with 1 Axes>"
            ],
            "image/png": "[encoded data removed]"
          },
          "metadata": {}
        },
        {
          "output_type": "stream",
          "name": "stdout",
          "text": [
            "Voy a ejecutar la acción Down\n"
          ]
        },
        {
          "output_type": "display_data",
          "data": {
            "text/plain": [
              "<Figure size 100x100 with 1 Axes>"
            ],
            "image/png": "[encoded data removed]"
          },
          "metadata": {}
        },
        {
          "output_type": "stream",
          "name": "stdout",
          "text": [
            "Voy a ejecutar la acción Right\n"
          ]
        },
        {
          "output_type": "display_data",
          "data": {
            "text/plain": [
              "<Figure size 100x100 with 1 Axes>"
            ],
            "image/png": "[encoded data removed]"
          },
          "metadata": {}
        },
        {
          "output_type": "stream",
          "name": "stdout",
          "text": [
            "Voy a ejecutar la acción Right\n"
          ]
        },
        {
          "output_type": "display_data",
          "data": {
            "text/plain": [
              "<Figure size 100x100 with 1 Axes>"
            ],
            "image/png": "[encoded data removed]"
          },
          "metadata": {}
        },
        {
          "output_type": "stream",
          "name": "stdout",
          "text": [
            "Voy a ejecutar la acción Down\n"
          ]
        },
        {
          "output_type": "display_data",
          "data": {
            "text/plain": [
              "<Figure size 100x100 with 1 Axes>"
            ],
            "image/png": "[encoded data removed]"
          },
          "metadata": {}
        }
      ],
      "source": [
        "# Ejecuta el entorno 25 pasos #312645780\n",
        "e.run(25)"
      ]
    },
    {
      "cell_type": "markdown",
      "source": [
        "#### busqueda A* con heurística h2"
      ],
      "metadata": {
        "id": "hay8zBep5Ub1"
      }
    },
    {
      "cell_type": "code",
      "execution_count": null,
      "metadata": {
        "id": "PMGnskQq5Ub1"
      },
      "outputs": [],
      "source": [
        "\"\"\"Inicializamos el entorno\"\"\"\n",
        "e = EightpuzzleEnvironment(initial)\n",
        "\n",
        "\"\"\"Crea un agente de busqueda para alcanzar goalstate\"\"\"\n",
        "a = Agent( EightpuzzleSearchProgram(goal,'Astar+h2') )\n",
        "\n",
        "\"\"\"Añade el agente creado al entorno\"\"\"\n",
        "e.add_thing(a)"
      ]
    },
    {
      "cell_type": "code",
      "execution_count": null,
      "metadata": {
        "scrolled": true,
        "colab": {
          "base_uri": "https://localhost:8080/",
          "height": 1000
        },
        "id": "0KPPl_Nt5Ub1",
        "outputId": "1e768ce2-3670-4817-9858-e108260b83a0"
      },
      "outputs": [
        {
          "output_type": "stream",
          "name": "stdout",
          "text": [
            "Agente buscara solucion al 8-puzzle\n",
            "\n",
            "- Estado_inicial = ((3, 1, 2), (6, 4, 5), (7, 8, 0))\n"
          ]
        },
        {
          "output_type": "display_data",
          "data": {
            "text/plain": [
              "<Figure size 100x100 with 1 Axes>"
            ],
            "image/png": "[encoded data removed]"
          },
          "metadata": {}
        },
        {
          "output_type": "stream",
          "name": "stdout",
          "text": [
            "- Estado_objetivo=((1, 2, 3), (4, 5, 6), (7, 8, 0))\n"
          ]
        },
        {
          "output_type": "display_data",
          "data": {
            "text/plain": [
              "<Figure size 100x100 with 1 Axes>"
            ],
            "image/png": "[encoded data removed]"
          },
          "metadata": {}
        },
        {
          "output_type": "stream",
          "name": "stdout",
          "text": [
            "------------------------------\n",
            "Agente planeó una solucion al 8-puzzle con Astar+h2\n",
            "Seq = ['Left', 'Up', 'Left', 'Up', 'Right', 'Right', 'Down', 'Left', 'Left', 'Up', 'Right', 'Down', 'Down', 'Right', 'Up', 'Up', 'Left', 'Left', 'Down', 'Right', 'Right', 'Down']\n",
            "Nodos visitados=1619. Costo Solucion = 22\n",
            "Voy a ejecutar la acción Left\n"
          ]
        },
        {
          "output_type": "display_data",
          "data": {
            "text/plain": [
              "<Figure size 100x100 with 1 Axes>"
            ],
            "image/png": "[encoded data removed]"
          },
          "metadata": {}
        },
        {
          "output_type": "stream",
          "name": "stdout",
          "text": [
            "Voy a ejecutar la acción Up\n"
          ]
        },
        {
          "output_type": "display_data",
          "data": {
            "text/plain": [
              "<Figure size 100x100 with 1 Axes>"
            ],
            "image/png": "[encoded data removed]"
          },
          "metadata": {}
        },
        {
          "output_type": "stream",
          "name": "stdout",
          "text": [
            "Voy a ejecutar la acción Left\n"
          ]
        },
        {
          "output_type": "display_data",
          "data": {
            "text/plain": [
              "<Figure size 100x100 with 1 Axes>"
            ],
            "image/png": "[encoded data removed]"
          },
          "metadata": {}
        },
        {
          "output_type": "stream",
          "name": "stdout",
          "text": [
            "Voy a ejecutar la acción Up\n"
          ]
        },
        {
          "output_type": "display_data",
          "data": {
            "text/plain": [
              "<Figure size 100x100 with 1 Axes>"
            ],
            "image/png": "[encoded data removed]"
          },
          "metadata": {}
        },
        {
          "output_type": "stream",
          "name": "stdout",
          "text": [
            "Voy a ejecutar la acción Right\n"
          ]
        },
        {
          "output_type": "display_data",
          "data": {
            "text/plain": [
              "<Figure size 100x100 with 1 Axes>"
            ],
            "image/png": "[encoded data removed]"
          },
          "metadata": {}
        },
        {
          "output_type": "stream",
          "name": "stdout",
          "text": [
            "Voy a ejecutar la acción Right\n"
          ]
        },
        {
          "output_type": "display_data",
          "data": {
            "text/plain": [
              "<Figure size 100x100 with 1 Axes>"
            ],
            "image/png": "[encoded data removed]"
          },
          "metadata": {}
        },
        {
          "output_type": "stream",
          "name": "stdout",
          "text": [
            "Voy a ejecutar la acción Down\n"
          ]
        },
        {
          "output_type": "display_data",
          "data": {
            "text/plain": [
              "<Figure size 100x100 with 1 Axes>"
            ],
            "image/png": "[encoded data removed]"
          },
          "metadata": {}
        },
        {
          "output_type": "stream",
          "name": "stdout",
          "text": [
            "Voy a ejecutar la acción Left\n"
          ]
        },
        {
          "output_type": "display_data",
          "data": {
            "text/plain": [
              "<Figure size 100x100 with 1 Axes>"
            ],
            "image/png": "[encoded data removed]"
          },
          "metadata": {}
        },
        {
          "output_type": "stream",
          "name": "stdout",
          "text": [
            "Voy a ejecutar la acción Left\n"
          ]
        },
        {
          "output_type": "display_data",
          "data": {
            "text/plain": [
              "<Figure size 100x100 with 1 Axes>"
            ],
            "image/png": "[encoded data removed]"
          },
          "metadata": {}
        },
        {
          "output_type": "stream",
          "name": "stdout",
          "text": [
            "Voy a ejecutar la acción Up\n"
          ]
        },
        {
          "output_type": "display_data",
          "data": {
            "text/plain": [
              "<Figure size 100x100 with 1 Axes>"
            ],
            "image/png": "[encoded data removed]"
          },
          "metadata": {}
        },
        {
          "output_type": "stream",
          "name": "stdout",
          "text": [
            "Voy a ejecutar la acción Right\n"
          ]
        },
        {
          "output_type": "display_data",
          "data": {
            "text/plain": [
              "<Figure size 100x100 with 1 Axes>"
            ],
            "image/png": "[encoded data removed]"
          },
          "metadata": {}
        },
        {
          "output_type": "stream",
          "name": "stdout",
          "text": [
            "Voy a ejecutar la acción Down\n"
          ]
        },
        {
          "output_type": "display_data",
          "data": {
            "text/plain": [
              "<Figure size 100x100 with 1 Axes>"
            ],
            "image/png": "[encoded data removed]"
          },
          "metadata": {}
        },
        {
          "output_type": "stream",
          "name": "stdout",
          "text": [
            "Voy a ejecutar la acción Down\n"
          ]
        },
        {
          "output_type": "display_data",
          "data": {
            "text/plain": [
              "<Figure size 100x100 with 1 Axes>"
            ],
            "image/png": "[encoded data removed]"
          },
          "metadata": {}
        },
        {
          "output_type": "stream",
          "name": "stdout",
          "text": [
            "Voy a ejecutar la acción Right\n"
          ]
        },
        {
          "output_type": "display_data",
          "data": {
            "text/plain": [
              "<Figure size 100x100 with 1 Axes>"
            ],
            "image/png": "[encoded data removed]"
          },
          "metadata": {}
        },
        {
          "output_type": "stream",
          "name": "stdout",
          "text": [
            "Voy a ejecutar la acción Up\n"
          ]
        },
        {
          "output_type": "display_data",
          "data": {
            "text/plain": [
              "<Figure size 100x100 with 1 Axes>"
            ],
            "image/png": "[encoded data removed]"
          },
          "metadata": {}
        },
        {
          "output_type": "stream",
          "name": "stdout",
          "text": [
            "Voy a ejecutar la acción Up\n"
          ]
        },
        {
          "output_type": "display_data",
          "data": {
            "text/plain": [
              "<Figure size 100x100 with 1 Axes>"
            ],
            "image/png": "[encoded data removed]"
          },
          "metadata": {}
        },
        {
          "output_type": "stream",
          "name": "stdout",
          "text": [
            "Voy a ejecutar la acción Left\n"
          ]
        },
        {
          "output_type": "display_data",
          "data": {
            "text/plain": [
              "<Figure size 100x100 with 1 Axes>"
            ],
            "image/png": "[encoded data removed]"
          },
          "metadata": {}
        },
        {
          "output_type": "stream",
          "name": "stdout",
          "text": [
            "Voy a ejecutar la acción Left\n"
          ]
        },
        {
          "output_type": "display_data",
          "data": {
            "text/plain": [
              "<Figure size 100x100 with 1 Axes>"
            ],
            "image/png": "[encoded data removed]"
          },
          "metadata": {}
        },
        {
          "output_type": "stream",
          "name": "stdout",
          "text": [
            "Voy a ejecutar la acción Down\n"
          ]
        },
        {
          "output_type": "display_data",
          "data": {
            "text/plain": [
              "<Figure size 100x100 with 1 Axes>"
            ],
            "image/png": "[encoded data removed]"
          },
          "metadata": {}
        },
        {
          "output_type": "stream",
          "name": "stdout",
          "text": [
            "Voy a ejecutar la acción Right\n"
          ]
        },
        {
          "output_type": "display_data",
          "data": {
            "text/plain": [
              "<Figure size 100x100 with 1 Axes>"
            ],
            "image/png": "[encoded data removed]"
          },
          "metadata": {}
        },
        {
          "output_type": "stream",
          "name": "stdout",
          "text": [
            "Voy a ejecutar la acción Right\n"
          ]
        },
        {
          "output_type": "display_data",
          "data": {
            "text/plain": [
              "<Figure size 100x100 with 1 Axes>"
            ],
            "image/png": "[encoded data removed]"
          },
          "metadata": {}
        },
        {
          "output_type": "stream",
          "name": "stdout",
          "text": [
            "Voy a ejecutar la acción Down\n"
          ]
        },
        {
          "output_type": "display_data",
          "data": {
            "text/plain": [
              "<Figure size 100x100 with 1 Axes>"
            ],
            "image/png": "[encoded data removed]"
          },
          "metadata": {}
        }
      ],
      "source": [
        "# Ejecuta el entorno 25 pasos\n",
        "e.run(25)"
      ]
    }
  ],
  "metadata": {
    "colab": {
      "provenance": [],
      "collapsed_sections": [
        "xSF4nIIK52Mj"
      ],
      "include_colab_link": true
    },
    "kernelspec": {
      "display_name": "Python 3",
      "name": "python3"
    },
    "language_info": {
      "codemirror_mode": {
        "name": "ipython",
        "version": 3
      },
      "file_extension": ".py",
      "mimetype": "text/x-python",
      "name": "python",
      "nbconvert_exporter": "python",
      "pygments_lexer": "ipython3",
      "version": "3.8.3"
    }
  },
  "nbformat": 4,
  "nbformat_minor": 0
}