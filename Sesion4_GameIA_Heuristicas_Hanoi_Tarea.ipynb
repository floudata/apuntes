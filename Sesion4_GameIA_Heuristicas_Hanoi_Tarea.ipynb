{
  "nbformat": 4,
  "nbformat_minor": 0,
  "metadata": {
    "colab": {
      "provenance": [],
      "collapsed_sections": [
        "-z1VHl3Pq4hY",
        "3X71Ma4cq4hd",
        "aJNeW471q4hi",
        "ddnWJOksFkjJ",
        "hHvkn7r5Fskz",
        "pNdyRAX2Fsk3",
        "MqF2sJ0QE1i7",
        "Y5zL7fUnE1i7",
        "FreF-oOvFxxs",
        "j1gMKSYhFxxu",
        "t4JxrwfSFxxv",
        "nVp4K6-2Fxxw",
        "Cnsv48NDFxxy",
        "ib8ITKdmFw2g",
        "XwJ-f8sYFw2h",
        "Q7rjy_qdFw2i",
        "a6VzU4IFFw2k",
        "XXyZ1qBxFw2l"
      ],
      "toc_visible": true,
      "include_colab_link": true
    },
    "kernelspec": {
      "name": "python3",
      "display_name": "Python 3"
    },
    "gpuClass": "standard"
  },
  "cells": [
    {
      "cell_type": "markdown",
      "metadata": {
        "id": "view-in-github",
        "colab_type": "text"
      },
      "source": [
        "<a href=\"https://colab.research.google.com/github/floudata/apuntes/blob/main/Sesion4_GameIA_Heuristicas_Hanoi_Tarea.ipynb\" target=\"_parent\"><img src=\"https://colab.research.google.com/assets/colab-badge.svg\" alt=\"Open In Colab\"/></a>"
      ]
    },
    {
      "cell_type": "markdown",
      "metadata": {
        "id": "Uf_ZpLggQn9n"
      },
      "source": [
        "# Diplomatura de Especialización en Desarrollo de Aplicaciones con Inteligencia Artificial - Inteligencia Artificial para Juegos (Game IA) - Sesión 4 - Tarea\n",
        "\n",
        "\n",
        "<img src='https://www.danielsaromo.xyz/assets/img/logo-pucp.png' width=200px>\n",
        "\n",
        "\n",
        "Dr. Edwin Villanueva, Ing. Daniel Saromo"
      ]
    },
    {
      "cell_type": "markdown",
      "metadata": {
        "id": "QbrDk0krJQFC"
      },
      "source": [
        "<font color='orange'>Entorno de las Torres de Hanoi con heurísticas</font>"
      ]
    },
    {
      "cell_type": "markdown",
      "metadata": {
        "id": "9hwLIOh-9PH3"
      },
      "source": [
        "<img src='data:image/jpeg;base64,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' width=400px>\n"
      ]
    },
    {
      "cell_type": "markdown",
      "metadata": {
        "id": "aDAtmKbQpqrl"
      },
      "source": [
        "Completar con su código los campos requeridos y subir su notebook solucionado a la plataforma PAIDEIA. El formato del nombre del notebook es: `Desafio4_Hanoi_APELLIDOPATERNO_NOMBRE.ipynb`.\n",
        "\n",
        "Es responsabilidad del alumno verificar que el archivo que subió es el correcto. Respetar los lineamientos de la entrega de archivo, ya que influirá en su calificación. La fecha límite de entrega del presente desafío se encuentra en PAIDEIA. No se aceptarán entregas luego de haberse publicado el solucionario."
      ]
    },
    {
      "cell_type": "markdown",
      "metadata": {
        "id": "U38hN9yHKqIP"
      },
      "source": [
        "## Clase Hanoi"
      ]
    },
    {
      "cell_type": "markdown",
      "source": [
        "![image.png](data:image/png;base64,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)"
      ],
      "metadata": {
        "id": "YSP-zyA4Xpu0"
      }
    },
    {
      "cell_type": "markdown",
      "source": [
        "Descripción del entorno\n",
        "\n",
        "- **State:** Tupla de `numCols` tuplas. Dentro de cada tupla interna, los índices representan el diámetro de los discos. Además, en dichas tuplas internas, mientras más a la izquierda estén los números (enteros), significa que más abajo están en la torre Hanoi.\n",
        "\n",
        "- **Action:** Tupla de dos números enteros. El primer elemento representa el índice de la torre fuente del disco, y el segundo representa el índice de la torre destino."
      ],
      "metadata": {
        "id": "-nLkVCQbpze7"
      }
    },
    {
      "cell_type": "code",
      "metadata": {
        "id": "YGzA1ZGpIyCE"
      },
      "source": [
        "# -*- coding: utf-8 -*-\n",
        "\n",
        "class Hanoi:\n",
        "  def __init__(self, n, numCols=3, initialState=None, goalState=None):\n",
        "    self.n = n #Número de discos totales\n",
        "    self.numCols = numCols\n",
        "    if(initialState == None):\n",
        "      self.initialState = [() for i in range(numCols)]\n",
        "      self.initialState[0] = tuple(range(n,0,-1))\n",
        "    else:\n",
        "      self.initialState = initialState\n",
        "\n",
        "    if(goalState == None):\n",
        "      self.goalState = [() for i in range(numCols)]\n",
        "      self.goalState[self.numCols-1] = tuple(range(n,0,-1))\n",
        "    else:\n",
        "      self.goalState = goalState\n",
        "\n",
        "    assert(self.numCols == len(self.initialState)), \"El estado inicial debe tener \"+str(self.numCols)+\" torres!\"\n",
        "    assert(self.numCols == len(self.goalState)),    \"El estado objetivo debe tener \"+str(self.numCols)+\" torres!\"\n",
        "\n",
        "    #Convertimos los estados a tuplas\n",
        "    #como los estados se van a agregar a un set, no pueden ser listas\n",
        "    #no se puede agregar una lista a un set\n",
        "    self.initialState = tuple( self.initialState )\n",
        "    self.goalState = tuple( self.goalState )\n",
        "\n",
        "    #def __str__(self):\n",
        "\n",
        "  def lookTopDiskOfTower(self, hanoiState, numTower):\n",
        "    \"\"\"De una tupla que representa el estado de las torres de hanoi,\n",
        "    retorna el disco que está en la parte superior de una torre no vacía\n",
        "    cuyo índice es numTower\"\"\"\n",
        "    assert type(numTower)==int, \"numTower debe ser un entero\"\n",
        "    assert numTower > -1, \"numTower debe ser positivo\"\n",
        "    assert numTower < self.numCols, \"numTower debe ser menor que la cantidad de torres\"\n",
        "\n",
        "    return hanoiState[numTower][len(hanoiState[numTower])-1]\n",
        "\n",
        "  def toTuple(self, var):\n",
        "    \"\"\"Convierte a tupla una variable y sus elementos\"\"\"\n",
        "    return tuple(tuple(x) for x in var)\n",
        "\n",
        "  def toList(self, var):\n",
        "      \"\"\"Convierte a lista una variable y sus elementos\"\"\"\n",
        "      return list(list(x) for x in var)\n",
        "\n",
        "  def imprimeEstado(self, estado):\n",
        "    \"\"\"Imprime en pantalla el estado de las torres de Hanoi.\"\"\"\n",
        "\n",
        "    estado = self.toList(estado)\n",
        "\n",
        "    torresFull = []\n",
        "    charVarilla = \"|\"\n",
        "    espaciado = \"  \"\n",
        "    torresCadena = \"\"\n",
        "    for torre in estado:\n",
        "      torreDeChars = [str(disco) for disco in torre]\n",
        "      while(len(torreDeChars)<self.n):\n",
        "        torreDeChars.append(charVarilla)\n",
        "      torresFull.append(torreDeChars)\n",
        "\n",
        "    for i in range(self.n):\n",
        "      for torreDeChars in torresFull:\n",
        "        torresCadena+=(espaciado)\n",
        "        torresCadena+=((torreDeChars.pop()))\n",
        "      torresCadena+=(\"\\n\")\n",
        "\n",
        "    print(torresCadena)\n",
        "\n",
        "  def actions(self, state): # TO DO ! AQUÍ DEBE MODIFICAR ESTA FUNCIÓN DE ESTA CLASE (class Hanoi)\n",
        "    \"\"\"Retorna una lista con las acciones legales desde el estado actual. Cada acción es\n",
        "    una tupla de tamaño 2, donde el primer elemento es el índice de la torre de donde se\n",
        "    sacará un disco, y el segundo elemento es el índice de la torre a donde se desea\n",
        "    llevar dicho disco \"\"\"\n",
        "\n",
        "    # Se brinda una estructura base, si desea puede usar una estructura propia totalmente diferente\n",
        "\n",
        "    state = toTuple( ... )\n",
        "    towers_from = [...] # como torres origen, tomo aquellas torres no vacías\n",
        "    ... = []\n",
        "    for ... in range(....numCols): #para cada una de las torres destino...\n",
        "      for ... in ...: #para cada una de las torres origen...\n",
        "        if j != i: #no se puede llevar un disco hacia la misma torre origen\n",
        "          if(...): #si la torre destino está vacía\n",
        "            acciones.append(...)\n",
        "          # verifico que el disco en la parte superior de la torre destino sea mayor al disco que quiero colocar\n",
        "          elif(self....(...,i) ... ...): # usar self.lookTopDiskOfTower(state,...) dos veces\n",
        "            ....append((...,...))\n",
        "    return ...\n",
        "\n",
        "  def result(self, state, action): # TO DO ! AQUÍ DEBE MODIFICAR ESTA FUNCIÓN DE ESTA CLASE (class Hanoi)\n",
        "    \"\"\"Retorna el estado que resulta de ejecutar la accion dada desde la celda actual.\n",
        "    La accion debe ser alguna de self.actions(state).\n",
        "    action: Es una tupla de dos elementos (indice de la torre fuente e indice de la torre destino)\n",
        "    state: tupla de numCols tuplas.\"\"\"\n",
        "    ...,... = action\n",
        "    ... = self.toList(...)\n",
        "    disk = ...[...].pop()\n",
        "    ...\n",
        "    return self.toTuple(...) #convierto en tupla a newState y sus elementos\n",
        "\n",
        "  def ejecutaYmuestra(self, estadoInicial, acciones):\n",
        "    \"\"\"Ejecuta una serie de acciones ingresadas en la lista de tuplas denominada `acciones`,\n",
        "    partiendo de `estadoInicial`.\"\"\"\n",
        "\n",
        "    print(\"Estado Inicial:\")\n",
        "    self.imprimeEstado(estadoInicial)\n",
        "    acciones.reverse()\n",
        "    estadoActual=estadoInicial\n",
        "    while(len(acciones)>0):\n",
        "      accionMovil = acciones.pop()\n",
        "      estadoActual = self.result(estadoActual, accionMovil)\n",
        "      print(\"Acción a ejecutar:\",accionMovil)\n",
        "      print()\n",
        "      print(\"Estado de las torres de Hanoi resultante:\")\n",
        "      self.imprimeEstado(estadoActual)\n",
        "\n",
        "  def __str__(self):\n",
        "    \"\"\"Imprime el estado inicial y el estado objetivo del entorno de Hanoi.\"\"\"\n",
        "    print(\"Estado inicial:\")\n",
        "    self.imprimeEstado(self.initialState)\n",
        "    print(\"Estado objetivo:\")\n",
        "    self.imprimeEstado(self.goalState)\n",
        "    return \"Se imprimieron el estado inicial y el estado objetivo del entorno de Hanoi.\""
      ],
      "execution_count": null,
      "outputs": []
    },
    {
      "cell_type": "markdown",
      "metadata": {
        "id": "nbeh8EsJIty9"
      },
      "source": [
        "## Algoritmos de Búsqueda"
      ]
    },
    {
      "cell_type": "markdown",
      "metadata": {
        "id": "fIocqccGq4hH"
      },
      "source": [
        "### Clase <b>SearchProblem</b>\n",
        "\n",
        "Esta es una clase abstracta para definir problemas de busqueda. Se debe hacer subclases que implementen los metodos de las acciones, resultados, test de objetivo y el costo de camino. Entonces se puede instanciar las subclases y resolverlos con varias funciones de busqueda."
      ]
    },
    {
      "cell_type": "code",
      "metadata": {
        "id": "Ix26qwRnq4hK"
      },
      "source": [
        "class SearchProblem(object):\n",
        "    def __init__(self, initial, goal=None):\n",
        "        \"\"\"Este constructor especifica el estado inicial y posiblemente el estado(s) objetivo(s),\n",
        "        La subclase puede añadir mas argumentos.\"\"\"\n",
        "        self.initial = initial\n",
        "        self.goal = goal\n",
        "\n",
        "    def actions(self, state):\n",
        "        \"\"\"Retorna las acciones que pueden ser ejecutadas en el estado dado.\n",
        "        El resultado es tipicamente una lista.\"\"\"\n",
        "        raise NotImplementedError\n",
        "\n",
        "    def result(self, state, action):\n",
        "        \"\"\"Retorna el estado que resulta de ejecutar la accion dada en el estado state.\n",
        "        La accion debe ser alguna de self.actions(state).\"\"\"\n",
        "        raise NotImplementedError\n",
        "\n",
        "    def goal_test(self, state):\n",
        "        \"\"\"Retorna True si el estado pasado satisface el objetivo.\"\"\"\n",
        "        raise NotImplementedError\n",
        "\n",
        "    def path_cost(self, c, state1, action, state2):\n",
        "        \"\"\"Retorna el costo del camino de state2 viniendo de state1 con\n",
        "        la accion action, asumiendo un costo c para llegar hasta state1.\n",
        "        El metodo por defecto cuesta 1 para cada paso en el camino.\"\"\"\n",
        "        return c + 1"
      ],
      "execution_count": null,
      "outputs": []
    },
    {
      "cell_type": "markdown",
      "metadata": {
        "id": "iRkaAWxNq4hU"
      },
      "source": [
        "### Clase <b>Node</b>\n",
        "\n",
        "Estructura de datos para almacenar la informacion de un nodo en un <b>arbol de busqueda</b>. Contiene información del nodo padre y el estado que representa el nodo. Tambien incluye la accion que nos llevo al presente nodo y el costo total del camino desde el nodo raiz hasta este nodo."
      ]
    },
    {
      "cell_type": "code",
      "metadata": {
        "id": "u4iDAiKtq4hV"
      },
      "source": [
        "class Node:\n",
        "    def __init__(self, state, parent=None, action=None, path_cost=0):\n",
        "        \"Crea un nodo de arbol de busqueda, derivado del nodo parent y accion action\"\n",
        "        self.state = state\n",
        "        self.parent = parent\n",
        "        self.action = action\n",
        "        self.path_cost = path_cost\n",
        "        self.depth = 0\n",
        "        if parent:\n",
        "            self.depth = parent.depth + 1\n",
        "\n",
        "    def expand(self, problem):\n",
        "        \"Devuelve los nodos alcanzables en un paso a partir de este nodo.\"\n",
        "        return [self.child_node(problem, action)\n",
        "                for action in problem.actions(self.state)]\n",
        "\n",
        "    def child_node(self, problem, action):\n",
        "        next = problem.result(self.state, action)\n",
        "        return Node(next, self, action,\n",
        "                    problem.path_cost(self.path_cost, self.state, action, next))\n",
        "\n",
        "    def solution(self):\n",
        "        \"Retorna la secuencia de acciones para ir de la raiz a este nodo.\"\n",
        "        return [node.action for node in self.path()[1:]]\n",
        "\n",
        "    def path(self):\n",
        "        \"Retorna una lista de nodos formando un camino de la raiz a este nodo.\"\n",
        "        node, path_back = self, []\n",
        "        while node:\n",
        "            path_back.append(node)\n",
        "            node = node.parent\n",
        "        return list(reversed(path_back))\n",
        "\n",
        "    def __lt__(self, node):\n",
        "        return self.state < node.state\n",
        "\n",
        "    def __eq__(self, other):\n",
        "        \"Este metodo se ejecuta cuando se compara nodos. Devuelve True cuando los estados son iguales\"\n",
        "        return isinstance(other, Node) and self.state == other.state\n",
        "\n",
        "    def __repr__(self):\n",
        "        return \"<Node {}>\".format(self.state)\n",
        "\n",
        "    def __hash__(self):\n",
        "        return hash(self.state)"
      ],
      "execution_count": null,
      "outputs": []
    },
    {
      "cell_type": "markdown",
      "metadata": {
        "id": "-z1VHl3Pq4hY"
      },
      "source": [
        "### <b> Frontera tipo cola FIFO (first-in first out) para BFS</b>"
      ]
    },
    {
      "cell_type": "code",
      "metadata": {
        "id": "YANBIXmXq4hZ"
      },
      "source": [
        "from collections import deque\n",
        "\n",
        "class FIFOQueue(deque):\n",
        "    \"\"\"Una cola First-In-First-Out\"\"\"\n",
        "    def pop(self):\n",
        "        return self.popleft()"
      ],
      "execution_count": null,
      "outputs": []
    },
    {
      "cell_type": "markdown",
      "metadata": {
        "id": "3X71Ma4cq4hd"
      },
      "source": [
        "### <b> Frontera tipo cola de prioridad ordenada por una funcion de costo (para best_first_graph_search y A*)</b>"
      ]
    },
    {
      "cell_type": "code",
      "metadata": {
        "id": "CKRFAmUEq4hf"
      },
      "source": [
        "import heapq\n",
        "class FrontierPQ:\n",
        "    \"Una Frontera ordenada por una funcion de costo (Priority Queue)\"\n",
        "\n",
        "    def __init__(self, initial, costfn=lambda node: node.path_cost):\n",
        "        \"Inicializa la Frontera con un nodo inicial y una funcion de costo especificada (por defecto es el costo de camino).\"\n",
        "        self.heap   = []\n",
        "        self.states = {}\n",
        "        self.costfn = costfn\n",
        "        self.add(initial)\n",
        "\n",
        "    def add(self, node):\n",
        "        \"Agrega un nodo a la frontera.\"\n",
        "        cost = self.costfn(node)\n",
        "        heapq.heappush(self.heap, (cost, node))\n",
        "        self.states[node.state] = node\n",
        "\n",
        "    def pop(self):\n",
        "        \"Remueve y retorna el nodo con minimo costo.\"\n",
        "        (cost, node) = heapq.heappop(self.heap)\n",
        "        self.states.pop(node.state, None) # remove state\n",
        "        return node\n",
        "\n",
        "    def replace(self, node):\n",
        "        \"node reemplaza al nodo de la Fontera que tiene el mismo estado que node.\"\n",
        "        if node.state not in self:\n",
        "            raise ValueError('{} no tiene nada que reemplazar'.format(node.state))\n",
        "        for (i, (cost, old_node)) in enumerate(self.heap):\n",
        "            if old_node.state == node.state:\n",
        "                self.heap[i] = (self.costfn(node), node)\n",
        "                heapq._siftdown(self.heap, 0, i)\n",
        "                return\n",
        "\n",
        "    def __contains__(self, state): return state in self.states\n",
        "\n",
        "    def __len__(self): return len(self.heap)"
      ],
      "execution_count": null,
      "outputs": []
    },
    {
      "cell_type": "markdown",
      "metadata": {
        "id": "aJNeW471q4hi"
      },
      "source": [
        "### <b>Algoritmo general de búsqueda con memoria de nodos expandidos (Graph Search)</b>\n",
        "\n",
        "Algoritmo de general de busqueda ciega con memoria de estados visitados. El argumento frontier debe ser una cola vacia. Si la frontera es tipo FIFO hace busqueda en amplitud (BFS), si la frontera es una pila hará busqueda en profundidad (DFS)"
      ]
    },
    {
      "cell_type": "code",
      "metadata": {
        "id": "1O8dyg_zq4hk"
      },
      "source": [
        "def graph_search(problem, frontier):\n",
        "    frontier.append(Node(problem.initial))\n",
        "    explored = set()     # memoria de estados visitados\n",
        "    visited_nodes = []   # almacena nodos visitados durante la busqueda\n",
        "    while frontier:\n",
        "        node = frontier.pop()\n",
        "        visited_nodes.append(node)\n",
        "        if problem.goal_test(node.state):\n",
        "            return node, visited_nodes\n",
        "        explored.add(node.state)\n",
        "\n",
        "        frontier.extend(child for child in node.expand(problem)\n",
        "                        if child.state not in explored and\n",
        "                        child not in frontier)\n",
        "    return None"
      ],
      "execution_count": null,
      "outputs": []
    },
    {
      "cell_type": "markdown",
      "metadata": {
        "id": "dHsTKHrwq4hr"
      },
      "source": [
        "### <b> Algoritmo Best-First-Graph-Search </b>\n",
        "Algoritmo general de busqueda con información. La frontera es una cola de prioridad ordenada por la funcion de evaluacion f"
      ]
    },
    {
      "cell_type": "code",
      "metadata": {
        "id": "cDMuSarYq4hs"
      },
      "source": [
        "def best_first_graph_search(problem, f):\n",
        "    \"\"\"Busca el objetivo expandiendo el nodo de la frontera con el menor valor de la funcion f. Memoriza estados visitados\n",
        "    Antes de llamar a este algoritmo hay que especificar La funcion f(node). Si f es node.depth tenemos Busqueda en Amplitud;\n",
        "    si f es node.path_cost tenemos Busqueda  de Costo Uniforme. Si f es una heurística tenemos Busqueda Voraz;\n",
        "    Si f es node.path_cost + heuristica(node) tenemos A* \"\"\"\n",
        "\n",
        "    frontier = FrontierPQ( Node(problem.initial), f )  # frontera tipo cola de prioridad ordenada por f\n",
        "    explored = set()     # memoria de estados visitados\n",
        "    visited_nodes = []   # almacena nodos visitados durante la busqueda\n",
        "    while frontier:\n",
        "        node = frontier.pop()\n",
        "        visited_nodes.append(node)\n",
        "        if problem.goal_test(node.state):\n",
        "            return node, visited_nodes\n",
        "        explored.add(node.state)\n",
        "        for action in problem.actions(node.state):\n",
        "            child = node.child_node(problem, action)\n",
        "            if child.state not in explored and child.state not in frontier:\n",
        "                frontier.add(child)\n",
        "            elif child.state in frontier:\n",
        "                incumbent = frontier.states[child.state]\n",
        "                if f(child) < f(incumbent):\n",
        "                    frontier.replace(child)"
      ],
      "execution_count": null,
      "outputs": []
    },
    {
      "cell_type": "markdown",
      "metadata": {
        "id": "kZBF7yBsq4hw"
      },
      "source": [
        "### <b> Algoritmo A* </b>\n",
        "A* es un caso especial de best_first_graph_search con f = path_cost + heuristic"
      ]
    },
    {
      "cell_type": "code",
      "metadata": {
        "id": "H_zckGu3q4hz"
      },
      "source": [
        "def astar_search(problem, heuristic):\n",
        "    f = lambda node: node.path_cost + heuristic(node, problem)\n",
        "    return best_first_graph_search(problem, f)\n",
        "\n",
        "def nullheuristic(node, problem):\n",
        "    return 0"
      ],
      "execution_count": null,
      "outputs": []
    },
    {
      "cell_type": "markdown",
      "metadata": {
        "id": "E7TdaAGRq4h2"
      },
      "source": [
        "### <b> Heurísticas para A* </b>\n",
        "Se debe implementar las heurísticas abajo para A*"
      ]
    },
    {
      "cell_type": "code",
      "metadata": {
        "id": "UES6uTTQ0an2"
      },
      "source": [
        "def h1(node, problem):\n",
        "  \"\"\"Cantidad de discos de node.state que están fuera de su torre destino indicada en el\n",
        "    estado objetivo (problem.goal). Además, se considera que un disco SÍ está fuera de su lugar\n",
        "    si es que no está en su posición correcta dentro de la torre destino.\"\"\"\n",
        "  return h1_explicit(node.state, problem.goal)\n",
        "\n",
        "def h1_explicit(aa, bb):\n",
        "    \"\"\"Para los estados `aa` y `bb`, calcula la cantidad de discos de `aa` que están fuera de\n",
        "    su torre destino indicada en `bb`. Cada estado ingresado es una tupla de tuplas.\n",
        "    Por ejemplo:\n",
        "    Para `aa = ((4,3,2,1),(),())` y `bb = ((),(),(4,3,2,1))`, se tiene que `h1_explicit(aa,bb)=4`.\"\"\"\n",
        "    # se brinda una estructura base para la heurística. si desea puede usar una totalmente diferente\n",
        "    #inicialmente, asumimos que todos los discos están fuera de su columna correcta\n",
        "    cantDiscosWrong = sum(len(...) for x in ...)\n",
        "\n",
        "    for numTorre in range(...(aa)):#para cada una de las torres del estado inicial\n",
        "      for ..., disco in enumerate(aa[numTorre]):#para cada disco dentro de dichas torres\n",
        "        if (disco in ...[numTorre]):\n",
        "          # si un disco está en la torre destino, recién voy a consultar si está en su posición correcta\n",
        "          if (i < len(...[numTorre])):\n",
        "            # si un disco está en su posición correcta dentro de la torre inicial y destino,\n",
        "            # su posición en la torre inicial debe ser menor o igual a la altura de la torre destino\n",
        "            if (disco == ...[...][i]):\n",
        "              # este disco no es incorrecto, ya que está en su torre correcta y en su posicion correcta en la torre\n",
        "              cantDiscosWrong=cantDiscosWrong-1\n",
        "\n",
        "    return cantDiscosWrong"
      ],
      "execution_count": null,
      "outputs": []
    },
    {
      "cell_type": "markdown",
      "source": [
        "#### Heurística H weighted"
      ],
      "metadata": {
        "id": "XY-vaBhTViv4"
      }
    },
    {
      "cell_type": "code",
      "source": [
        "def h_weighted(node, problem, W=5, h_base = h1):\n",
        "    # pongo straightline_dist en lugar de manh, porque\n",
        "    # en este entorno eucl explora más nodos, y se ve más el efecto de usar W\n",
        "    \"Heurística que domina a las heurísticas cuantificadas por las distancias `straightline_dist` y `manhatan_dist`.\"\n",
        "    return W * h_base(node, problem)"
      ],
      "metadata": {
        "id": "t0rkr_olTeiw"
      },
      "execution_count": null,
      "outputs": []
    },
    {
      "cell_type": "markdown",
      "metadata": {
        "id": "I2dEOLRlyQO9"
      },
      "source": [
        "#### Verificación visual de la heurística h1"
      ]
    },
    {
      "cell_type": "markdown",
      "metadata": {
        "id": "jFXISTk13QIa"
      },
      "source": [
        "Las siguientes líneas permiten la verificación de la heurística que se tiene que implementar. Sin embargo, la implementación de la función `h1_explicit` debe ser general, ya que al momento de la revisión del notebook, se va a probar con otras parejas de estados Hanoi inicial y destino. Estos estados pueden tener diferente cantidad de torres (mayor a 2), y diferente cantidad de discos por torre. Sin embargo, en los estados a probarse, los discos de cada torre estarán en orden decreciente empezando desde abajo."
      ]
    },
    {
      "cell_type": "code",
      "metadata": {
        "colab": {
          "base_uri": "https://localhost:8080/"
        },
        "id": "ShrRp7Iho087",
        "outputId": "7a96fa00-7b68-4dde-e21e-6072c28acb74"
      },
      "source": [
        "print(Hanoi(4, initialState=((4,3,2,1),(),()), goalState=((),(),(4,3,2,1))))"
      ],
      "execution_count": null,
      "outputs": [
        {
          "output_type": "stream",
          "name": "stdout",
          "text": [
            "Estado inicial:\n",
            "  1  |  |\n",
            "  2  |  |\n",
            "  3  |  |\n",
            "  4  |  |\n",
            "\n",
            "Estado objetivo:\n",
            "  |  |  1\n",
            "  |  |  2\n",
            "  |  |  3\n",
            "  |  |  4\n",
            "\n",
            "Se imprimieron el estado inicial y el estado objetivo del entorno de Hanoi.\n"
          ]
        }
      ]
    },
    {
      "cell_type": "code",
      "metadata": {
        "id": "k8EWKlm7X_Hr"
      },
      "source": [
        "assert 4==h1_explicit( ((4,3,2,1),(),()) , ((),(),(4,3,2,1)) ), \"Hay 4 discos fuera de su torre destino. Corregir `h1_explicit`.\""
      ],
      "execution_count": null,
      "outputs": []
    },
    {
      "cell_type": "markdown",
      "metadata": {
        "id": "1BALtzklqh1Y"
      },
      "source": [
        "-------------------"
      ]
    },
    {
      "cell_type": "code",
      "metadata": {
        "colab": {
          "base_uri": "https://localhost:8080/"
        },
        "id": "BALAflsZpIsS",
        "outputId": "e6a49ea5-9076-4a47-9d15-c1d61808d2d2"
      },
      "source": [
        "print(Hanoi(4, initialState=((4,2),(3,),(1,)), goalState=((4,3,2),(1,),())))"
      ],
      "execution_count": null,
      "outputs": [
        {
          "output_type": "stream",
          "name": "stdout",
          "text": [
            "Estado inicial:\n",
            "  |  |  |\n",
            "  |  |  |\n",
            "  2  |  |\n",
            "  4  3  1\n",
            "\n",
            "Estado objetivo:\n",
            "  |  |  |\n",
            "  2  |  |\n",
            "  3  |  |\n",
            "  4  1  |\n",
            "\n",
            "Se imprimieron el estado inicial y el estado objetivo del entorno de Hanoi.\n"
          ]
        }
      ]
    },
    {
      "cell_type": "code",
      "metadata": {
        "id": "F5s5txjUEqk7"
      },
      "source": [
        "assert 3==h1_explicit( ((4,2),(3,),(1,)) , ((4,3,2),(1,),()) ), \"Hay 3 discos fuera de su torre destino. Corregir `h1_explicit`.\""
      ],
      "execution_count": null,
      "outputs": []
    },
    {
      "cell_type": "markdown",
      "metadata": {
        "id": "W45lATc7qtiy"
      },
      "source": [
        "--------------"
      ]
    },
    {
      "cell_type": "code",
      "metadata": {
        "colab": {
          "base_uri": "https://localhost:8080/"
        },
        "id": "YWXw1PPzpI6C",
        "outputId": "b1beae83-e830-4499-9805-d26d3459ab5c"
      },
      "source": [
        "print(Hanoi(4, initialState=((4,2,1),(3,),()), goalState=((4,3,2,1),(),())))"
      ],
      "execution_count": null,
      "outputs": [
        {
          "output_type": "stream",
          "name": "stdout",
          "text": [
            "Estado inicial:\n",
            "  |  |  |\n",
            "  1  |  |\n",
            "  2  |  |\n",
            "  4  3  |\n",
            "\n",
            "Estado objetivo:\n",
            "  1  |  |\n",
            "  2  |  |\n",
            "  3  |  |\n",
            "  4  |  |\n",
            "\n",
            "Se imprimieron el estado inicial y el estado objetivo del entorno de Hanoi.\n"
          ]
        }
      ]
    },
    {
      "cell_type": "code",
      "metadata": {
        "id": "FziYreLpFNS8"
      },
      "source": [
        "assert 3==h1_explicit( ((4,2,1),(3,),()) , ((4,3,2,1),(),()) ), \"Hay 3 discos fuera de su torre destino. Corregir `h1_explicit`.\""
      ],
      "execution_count": null,
      "outputs": []
    },
    {
      "cell_type": "markdown",
      "metadata": {
        "id": "YqFqb1AJrSPp"
      },
      "source": [
        "--------------"
      ]
    },
    {
      "cell_type": "code",
      "metadata": {
        "colab": {
          "base_uri": "https://localhost:8080/"
        },
        "id": "eRckkondpI9p",
        "outputId": "aebcc03e-458b-4450-fa06-b5c095f0ab51"
      },
      "source": [
        "print(Hanoi(4, initialState=((4,2),(3,1),()), goalState=((4,3,2),(1,),())))"
      ],
      "execution_count": null,
      "outputs": [
        {
          "output_type": "stream",
          "name": "stdout",
          "text": [
            "Estado inicial:\n",
            "  |  |  |\n",
            "  |  |  |\n",
            "  2  1  |\n",
            "  4  3  |\n",
            "\n",
            "Estado objetivo:\n",
            "  |  |  |\n",
            "  2  |  |\n",
            "  3  |  |\n",
            "  4  1  |\n",
            "\n",
            "Se imprimieron el estado inicial y el estado objetivo del entorno de Hanoi.\n"
          ]
        }
      ]
    },
    {
      "cell_type": "code",
      "metadata": {
        "id": "Xe3SY7K9Qlsm"
      },
      "source": [
        "assert 3==h1_explicit( ((4,2),(3,1),()) , ((4,3,2),(1,),()) ), \"Hay 3 discos fuera de su torre destino. Corregir `h1_explicit`.\""
      ],
      "execution_count": null,
      "outputs": []
    },
    {
      "cell_type": "markdown",
      "metadata": {
        "id": "dF0ECKpkwT7n"
      },
      "source": [
        "--------------"
      ]
    },
    {
      "cell_type": "code",
      "metadata": {
        "colab": {
          "base_uri": "https://localhost:8080/"
        },
        "id": "qnvBTzPzpJAz",
        "outputId": "cf44c5c3-aec5-487e-f1af-4578a0692105"
      },
      "source": [
        "print(Hanoi(5, initialState=((5,4,3,1),(),(2,)), goalState=((5,1),(3,),(4,2))))"
      ],
      "execution_count": null,
      "outputs": [
        {
          "output_type": "stream",
          "name": "stdout",
          "text": [
            "Estado inicial:\n",
            "  |  |  |\n",
            "  1  |  |\n",
            "  3  |  |\n",
            "  4  |  |\n",
            "  5  |  2\n",
            "\n",
            "Estado objetivo:\n",
            "  |  |  |\n",
            "  |  |  |\n",
            "  |  |  |\n",
            "  1  |  2\n",
            "  5  3  4\n",
            "\n",
            "Se imprimieron el estado inicial y el estado objetivo del entorno de Hanoi.\n"
          ]
        }
      ]
    },
    {
      "cell_type": "code",
      "metadata": {
        "id": "24_HHrQ2JqS2"
      },
      "source": [
        "assert 4==h1_explicit( ((5,4,3,1),(),(2,)) , ((5,1),(3,),(4,2)) ), \"Hay 4 discos  fuera de su torre destino. Corregir `h1_explicit`.\""
      ],
      "execution_count": null,
      "outputs": []
    },
    {
      "cell_type": "markdown",
      "metadata": {
        "id": "irwKNdSprdbs"
      },
      "source": [
        "--------------"
      ]
    },
    {
      "cell_type": "code",
      "metadata": {
        "colab": {
          "base_uri": "https://localhost:8080/"
        },
        "id": "TWnr82Gjrfmf",
        "outputId": "f70f753a-ec97-4d3b-a393-51b46ac55702"
      },
      "source": [
        "print(Hanoi(4, initialState=((),(2,1),(4,3)), goalState=((),(),(4,3,2,1))))"
      ],
      "execution_count": null,
      "outputs": [
        {
          "output_type": "stream",
          "name": "stdout",
          "text": [
            "Estado inicial:\n",
            "  |  |  |\n",
            "  |  |  |\n",
            "  |  1  3\n",
            "  |  2  4\n",
            "\n",
            "Estado objetivo:\n",
            "  |  |  1\n",
            "  |  |  2\n",
            "  |  |  3\n",
            "  |  |  4\n",
            "\n",
            "Se imprimieron el estado inicial y el estado objetivo del entorno de Hanoi.\n"
          ]
        }
      ]
    },
    {
      "cell_type": "code",
      "metadata": {
        "id": "EXZFysv0Yb6b"
      },
      "source": [
        "assert 2==h1_explicit( ((),(2,1),(4,3)) , ((),(),(4,3,2,1)) ), \"Hay 2 discos fuera de su torre destino. Corregir `h1_explicit`.\""
      ],
      "execution_count": null,
      "outputs": []
    },
    {
      "cell_type": "markdown",
      "metadata": {
        "id": "Y14Q-9ZZw-rn"
      },
      "source": [
        "--------------"
      ]
    },
    {
      "cell_type": "code",
      "metadata": {
        "colab": {
          "base_uri": "https://localhost:8080/"
        },
        "id": "skCAkQxcw-rn",
        "outputId": "ddeca82e-6ad5-4452-cc66-733483b3b3f5"
      },
      "source": [
        "print(Hanoi(6, initialState=((),(6,5,3,1),(2,4)), goalState=((5,3,1),(4,2),(6,))))"
      ],
      "execution_count": null,
      "outputs": [
        {
          "output_type": "stream",
          "name": "stdout",
          "text": [
            "Estado inicial:\n",
            "  |  |  |\n",
            "  |  |  |\n",
            "  |  1  |\n",
            "  |  3  |\n",
            "  |  5  4\n",
            "  |  6  2\n",
            "\n",
            "Estado objetivo:\n",
            "  |  |  |\n",
            "  |  |  |\n",
            "  |  |  |\n",
            "  1  |  |\n",
            "  3  2  |\n",
            "  5  4  6\n",
            "\n",
            "Se imprimieron el estado inicial y el estado objetivo del entorno de Hanoi.\n"
          ]
        }
      ]
    },
    {
      "cell_type": "code",
      "metadata": {
        "id": "28SjQnyOw-ro"
      },
      "source": [
        "assert 6==h1_explicit( ((),(6,5,3,1),(2,4)) , ((5,3,1),(4,2),(6,)) ), \"Hay 6 discos fuera de su torre destino. Corregir `h1_explicit`.\""
      ],
      "execution_count": null,
      "outputs": []
    },
    {
      "cell_type": "markdown",
      "metadata": {
        "id": "Hc-3PPtwKwdB"
      },
      "source": [
        "## Clases para el entorno Hanoi"
      ]
    },
    {
      "cell_type": "markdown",
      "metadata": {
        "id": "JcMTkTJ2q4hQ"
      },
      "source": [
        "###  <b> Clase HanoiSearchProblem </b>  \n",
        "Esta es una subclase de SearchProblem que implementa concretamente el problema de busqueda en laberinto. El constructor recibe el laberinto en un objeto maze. Cada estado es codificado como una tupla (row,col) representando la posicion de una celda del grid. El estado inicial es la celda de inicio y el único estado objetivo es la celda de salida.\n",
        "Se necesita completar Actions (acciones legales para un estado dado) y result (que hacen las acciones)."
      ]
    },
    {
      "cell_type": "code",
      "metadata": {
        "id": "a1eqv_yiKVZP"
      },
      "source": [
        "def toTuple(var):\n",
        "    \"\"\"Convierte a tupla una variable y sus elementos\"\"\"\n",
        "    return tuple(tuple(x) for x in var)\n",
        "\n",
        "def toList(var):\n",
        "    \"\"\"Convierte a lista una variable y sus elementos\"\"\"\n",
        "    return list(list(x) for x in var)\n",
        "\n",
        "class HanoiSearchProblem(SearchProblem):\n",
        "    def __init__(self, hanoi, toTuple=toTuple):\n",
        "      self.hanoi = hanoi\n",
        "      self.initial = toTuple( hanoi.initialState )\n",
        "      self.goal = toTuple( hanoi.goalState )\n",
        "      self.numNodesExpanded = 0\n",
        "\n",
        "    def isValidState(self,state):\n",
        "        \"\"\" Retorna true si el estado dado corresponde a una configuración de hanoi valida \"\"\"\n",
        "        raise NotImplementedError\n",
        "\n",
        "    def actions(self, state):\n",
        "        \"\"\"Retorna una lista con las acciones legales desde el estado actual. Cada acción es\n",
        "        una tupla de tamaño 2, donde el primer elemento es el índice de la torre de donde se\n",
        "        sacará un disco, y el segundo elemento es el índice de la torre a donde se desea\n",
        "        llevar dicho disco \"\"\"\n",
        "\n",
        "        return self.hanoi.actions(state)\n",
        "\n",
        "    def result(self, state, action):\n",
        "        \"\"\"Retorna el estado que resulta de ejecutar la accion dada desde la celda actual.\n",
        "        La accion debe ser alguna de self.actions(state)\"\"\"\n",
        "        #Por comodidad, lo implementé dentro de la clase Hanoi, ya que este código se reutiliza al\n",
        "        #momento de ejecutar las acciones de la solución\n",
        "\n",
        "        return self.hanoi.result(state, action)\n",
        "\n",
        "    def goal_test(self, state):\n",
        "        \"\"\"Retorna True si state es self.goal\"\"\"\n",
        "        return (self.goal == state)"
      ],
      "execution_count": null,
      "outputs": []
    },
    {
      "cell_type": "markdown",
      "metadata": {
        "id": "36PrnS0Vdx9M"
      },
      "source": [
        "Genera el error: TypeError: unhashable type: 'list'\n",
        "Es porque no se puede agregar una lista a un set\n",
        "https://stackoverflow.com/questions/1306631/python-add-list-to-set\n",
        "En el entorno del 8puzzle, usan strings, y los strings son inmutables!\n",
        "https://medium.com/@meghamohan/mutable-and-immutable-side-of-python-c2145cf72747"
      ]
    },
    {
      "cell_type": "markdown",
      "metadata": {
        "id": "xhQdPpzSq4h-"
      },
      "source": [
        "## <b> Experimentación con los algoritmos de Busqueda: Hanoi 4 + h1</b>\n"
      ]
    },
    {
      "cell_type": "code",
      "metadata": {
        "id": "O2aMuaFCq4h-",
        "colab": {
          "base_uri": "https://localhost:8080/"
        },
        "outputId": "d4b33828-789c-42c9-80e6-e2727399e034"
      },
      "source": [
        "\"\"\" Instancia el problema de busqueda en el entorno de las torres de Hanoi \"\"\"\n",
        "hanoi = Hanoi(4)\n",
        "print(hanoi)\n",
        "p = HanoiSearchProblem(hanoi)"
      ],
      "execution_count": null,
      "outputs": [
        {
          "output_type": "stream",
          "name": "stdout",
          "text": [
            "Estado inicial:\n",
            "  1  |  |\n",
            "  2  |  |\n",
            "  3  |  |\n",
            "  4  |  |\n",
            "\n",
            "Estado objetivo:\n",
            "  |  |  1\n",
            "  |  |  2\n",
            "  |  |  3\n",
            "  |  |  4\n",
            "\n",
            "Se imprimieron el estado inicial y el estado objetivo del entorno de Hanoi.\n"
          ]
        }
      ]
    },
    {
      "cell_type": "markdown",
      "metadata": {
        "id": "Lj1TWlnHq4iA"
      },
      "source": [
        "### busqueda en amplitud (BFS)"
      ]
    },
    {
      "cell_type": "code",
      "metadata": {
        "scrolled": true,
        "id": "3YfrEB4eq4iB",
        "colab": {
          "base_uri": "https://localhost:8080/"
        },
        "outputId": "97a491d6-9e25-4948-cc8e-a3a1c4f92e77"
      },
      "source": [
        "nsol, visited_nodes = graph_search(p, FIFOQueue())\n",
        "print('Solucion BFS:',nsol.solution())\n",
        "print('Nodos visitados =',len(visited_nodes))\n",
        "print('Costo Solucion =',nsol.path_cost)"
      ],
      "execution_count": null,
      "outputs": [
        {
          "output_type": "stream",
          "name": "stdout",
          "text": [
            "Solucion BFS: [(0, 1), (0, 2), (1, 2), (0, 1), (2, 0), (2, 1), (0, 1), (0, 2), (1, 2), (1, 0), (2, 0), (1, 2), (0, 1), (0, 2), (1, 2)]\n",
            "Nodos visitados = 71\n",
            "Costo Solucion = 15\n"
          ]
        }
      ]
    },
    {
      "cell_type": "markdown",
      "metadata": {
        "id": "rf4SUSu1q4iE"
      },
      "source": [
        "### busqueda en profundidad (DFS)"
      ]
    },
    {
      "cell_type": "code",
      "metadata": {
        "id": "4lBotx47q4iF",
        "colab": {
          "base_uri": "https://localhost:8080/"
        },
        "outputId": "73e37362-fc2c-4c10-857f-9d0881698e69"
      },
      "source": [
        "nsol, visited_nodes = graph_search(p, [])\n",
        "print('Solucion DFS:',nsol.solution())\n",
        "print('Nodos visitados =',len(visited_nodes))\n",
        "print('Costo Solucion =',nsol.path_cost)"
      ],
      "execution_count": null,
      "outputs": [
        {
          "output_type": "stream",
          "name": "stdout",
          "text": [
            "Solucion DFS: [(0, 2), (0, 1), (2, 1), (0, 2), (1, 2), (1, 0), (2, 1), (0, 2), (1, 2), (0, 1), (2, 1), (2, 0), (1, 2), (0, 1), (2, 1), (2, 0), (1, 2), (1, 0), (2, 0), (1, 2), (0, 2), (0, 1), (2, 1), (0, 2), (1, 2), (1, 0), (2, 1), (0, 2), (1, 2)]\n",
            "Nodos visitados = 43\n",
            "Costo Solucion = 29\n"
          ]
        }
      ]
    },
    {
      "cell_type": "markdown",
      "metadata": {
        "id": "56MmR9hcq4iL"
      },
      "source": [
        "### busqueda A* con heurística nula (UCS)"
      ]
    },
    {
      "cell_type": "code",
      "metadata": {
        "id": "-39iMmdYq4iM",
        "colab": {
          "base_uri": "https://localhost:8080/"
        },
        "outputId": "bb5b8172-3ac9-47fc-fb08-504a5c5297b4"
      },
      "source": [
        "nsol, visited_nodes = astar_search(p, nullheuristic)\n",
        "print('Solucion A* y heuristica nula (UCS):',nsol.solution())\n",
        "print('Nodos visitados =',len(visited_nodes))\n",
        "print('Costo Solucion =',nsol.path_cost)"
      ],
      "execution_count": null,
      "outputs": [
        {
          "output_type": "stream",
          "name": "stdout",
          "text": [
            "Solucion A* y heuristica nula (UCS): [(0, 1), (0, 2), (1, 2), (0, 1), (2, 0), (2, 1), (0, 1), (0, 2), (1, 2), (1, 0), (2, 0), (1, 2), (0, 1), (0, 2), (1, 2)]\n",
            "Nodos visitados = 66\n",
            "Costo Solucion = 15\n"
          ]
        }
      ]
    },
    {
      "cell_type": "markdown",
      "metadata": {
        "id": "3tECNkm7q4iP"
      },
      "source": [
        "### busqueda A* con heurística h1"
      ]
    },
    {
      "cell_type": "code",
      "metadata": {
        "id": "m9kHI8cZq4iQ",
        "colab": {
          "base_uri": "https://localhost:8080/"
        },
        "outputId": "1f9c8407-52db-45c4-e8c7-43e09b1684e1"
      },
      "source": [
        "nsol, visited_nodes = astar_search(p, h1)\n",
        "print('Solucion A* y heuristica h1:',nsol.solution())\n",
        "print('Nodos visitados =',len(visited_nodes))\n",
        "print('Costo Solucion =',nsol.path_cost)"
      ],
      "execution_count": null,
      "outputs": [
        {
          "output_type": "stream",
          "name": "stdout",
          "text": [
            "Solucion A* y heuristica h1: [(0, 1), (0, 2), (1, 2), (0, 1), (2, 0), (2, 1), (0, 1), (0, 2), (1, 2), (1, 0), (2, 0), (1, 2), (0, 1), (0, 2), (1, 2)]\n",
            "Nodos visitados = 48\n",
            "Costo Solucion = 15\n"
          ]
        }
      ]
    },
    {
      "cell_type": "markdown",
      "metadata": {
        "id": "nqf5F66V2ptv"
      },
      "source": [
        "## <b> Experimentación con los algoritmos de Busqueda: Hanoi 5 con initial y goal states manuales + h1</b>\n"
      ]
    },
    {
      "cell_type": "code",
      "source": [
        "hanoi.initialState"
      ],
      "metadata": {
        "colab": {
          "base_uri": "https://localhost:8080/"
        },
        "id": "_4o6VQORXhCF",
        "outputId": "8f84c2d9-aa34-46e3-ffc3-6d8896540464"
      },
      "execution_count": null,
      "outputs": [
        {
          "output_type": "execute_result",
          "data": {
            "text/plain": [
              "((4, 3, 2, 1), (), ())"
            ]
          },
          "metadata": {},
          "execution_count": 31
        }
      ]
    },
    {
      "cell_type": "code",
      "metadata": {
        "id": "VVmEfnte2pt4",
        "colab": {
          "base_uri": "https://localhost:8080/"
        },
        "outputId": "018e6c4e-765e-4ae7-e423-fce5757875aa"
      },
      "source": [
        "\"\"\" Instancia el problema de busqueda en el entorno de las torres de Hanoi \"\"\"\n",
        "hanoi = Hanoi(5, initialState=((4,2),(1,),(5,3)), goalState=((3,2),(4,),(5,1)))\n",
        "print(hanoi)\n",
        "p = HanoiSearchProblem(hanoi)"
      ],
      "execution_count": null,
      "outputs": [
        {
          "output_type": "stream",
          "name": "stdout",
          "text": [
            "Estado inicial:\n",
            "  |  |  |\n",
            "  |  |  |\n",
            "  |  |  |\n",
            "  2  |  3\n",
            "  4  1  5\n",
            "\n",
            "Estado objetivo:\n",
            "  |  |  |\n",
            "  |  |  |\n",
            "  |  |  |\n",
            "  2  |  1\n",
            "  3  4  5\n",
            "\n",
            "Se imprimieron el estado inicial y el estado objetivo del entorno de Hanoi.\n"
          ]
        }
      ]
    },
    {
      "cell_type": "markdown",
      "metadata": {
        "id": "j2CT8nUc2puA"
      },
      "source": [
        "### busqueda en amplitud (BFS)"
      ]
    },
    {
      "cell_type": "code",
      "metadata": {
        "scrolled": true,
        "id": "Z1SsPiaV2puB",
        "colab": {
          "base_uri": "https://localhost:8080/"
        },
        "outputId": "7fdeec8a-bb12-41d2-c4d0-e07b12aa4bd5"
      },
      "source": [
        "nsol, visited_nodes = graph_search(p, FIFOQueue())\n",
        "print('Solucion BFS:',nsol.solution())\n",
        "print('Nodos visitados =',len(visited_nodes))\n",
        "print('Costo Solucion =',nsol.path_cost)"
      ],
      "execution_count": null,
      "outputs": [
        {
          "output_type": "stream",
          "name": "stdout",
          "text": [
            "Solucion BFS: [(0, 2), (1, 2), (0, 1), (2, 0), (2, 1), (0, 1), (2, 0), (1, 2), (1, 0)]\n",
            "Nodos visitados = 54\n",
            "Costo Solucion = 9\n"
          ]
        }
      ]
    },
    {
      "cell_type": "markdown",
      "metadata": {
        "id": "ZR0r_RWk2puH"
      },
      "source": [
        "### busqueda en profundidad (DFS)"
      ]
    },
    {
      "cell_type": "code",
      "metadata": {
        "id": "unTDhcXh2puJ",
        "colab": {
          "base_uri": "https://localhost:8080/"
        },
        "outputId": "539b7281-660f-4470-e53f-af825f17488f"
      },
      "source": [
        "nsol, visited_nodes = graph_search(p, [])\n",
        "print('Solucion DFS:',nsol.solution())\n",
        "print('Nodos visitados =',len(visited_nodes))\n",
        "print('Costo Solucion =',nsol.path_cost)"
      ],
      "execution_count": null,
      "outputs": [
        {
          "output_type": "stream",
          "name": "stdout",
          "text": [
            "Solucion DFS: [(1, 2), (0, 1), (2, 1), (2, 0), (1, 2), (1, 0), (2, 1), (0, 2), (1, 2), (0, 1), (2, 1), (2, 0), (1, 2), (0, 1), (2, 1), (0, 2), (1, 2), (1, 0), (2, 1), (0, 2), (1, 2), (1, 0), (2, 1), (2, 0), (1, 0), (2, 1), (0, 2)]\n",
            "Nodos visitados = 41\n",
            "Costo Solucion = 27\n"
          ]
        }
      ]
    },
    {
      "cell_type": "code",
      "metadata": {
        "id": "XdrlXZPO-mS9",
        "colab": {
          "base_uri": "https://localhost:8080/"
        },
        "outputId": "ed780e7f-ca12-4105-c76a-92ecd25f9fc4"
      },
      "source": [
        "hanoi.ejecutaYmuestra(hanoi.initialState, nsol.solution())"
      ],
      "execution_count": null,
      "outputs": [
        {
          "output_type": "stream",
          "name": "stdout",
          "text": [
            "Estado Inicial:\n",
            "  |  |  |\n",
            "  |  |  |\n",
            "  |  |  |\n",
            "  2  |  3\n",
            "  4  1  5\n",
            "\n",
            "Acción a ejecutar: (1, 2)\n",
            "\n",
            "Estado de las torres de Hanoi resultante:\n",
            "  |  |  |\n",
            "  |  |  |\n",
            "  |  |  1\n",
            "  2  |  3\n",
            "  4  |  5\n",
            "\n",
            "Acción a ejecutar: (0, 1)\n",
            "\n",
            "Estado de las torres de Hanoi resultante:\n",
            "  |  |  |\n",
            "  |  |  |\n",
            "  |  |  1\n",
            "  |  |  3\n",
            "  4  2  5\n",
            "\n",
            "Acción a ejecutar: (2, 1)\n",
            "\n",
            "Estado de las torres de Hanoi resultante:\n",
            "  |  |  |\n",
            "  |  |  |\n",
            "  |  |  |\n",
            "  |  1  3\n",
            "  4  2  5\n",
            "\n",
            "Acción a ejecutar: (2, 0)\n",
            "\n",
            "Estado de las torres de Hanoi resultante:\n",
            "  |  |  |\n",
            "  |  |  |\n",
            "  |  |  |\n",
            "  3  1  |\n",
            "  4  2  5\n",
            "\n",
            "Acción a ejecutar: (1, 2)\n",
            "\n",
            "Estado de las torres de Hanoi resultante:\n",
            "  |  |  |\n",
            "  |  |  |\n",
            "  |  |  |\n",
            "  3  |  1\n",
            "  4  2  5\n",
            "\n",
            "Acción a ejecutar: (1, 0)\n",
            "\n",
            "Estado de las torres de Hanoi resultante:\n",
            "  |  |  |\n",
            "  |  |  |\n",
            "  2  |  |\n",
            "  3  |  1\n",
            "  4  |  5\n",
            "\n",
            "Acción a ejecutar: (2, 1)\n",
            "\n",
            "Estado de las torres de Hanoi resultante:\n",
            "  |  |  |\n",
            "  |  |  |\n",
            "  2  |  |\n",
            "  3  |  |\n",
            "  4  1  5\n",
            "\n",
            "Acción a ejecutar: (0, 2)\n",
            "\n",
            "Estado de las torres de Hanoi resultante:\n",
            "  |  |  |\n",
            "  |  |  |\n",
            "  |  |  |\n",
            "  3  |  2\n",
            "  4  1  5\n",
            "\n",
            "Acción a ejecutar: (1, 2)\n",
            "\n",
            "Estado de las torres de Hanoi resultante:\n",
            "  |  |  |\n",
            "  |  |  |\n",
            "  |  |  1\n",
            "  3  |  2\n",
            "  4  |  5\n",
            "\n",
            "Acción a ejecutar: (0, 1)\n",
            "\n",
            "Estado de las torres de Hanoi resultante:\n",
            "  |  |  |\n",
            "  |  |  |\n",
            "  |  |  1\n",
            "  |  |  2\n",
            "  4  3  5\n",
            "\n",
            "Acción a ejecutar: (2, 1)\n",
            "\n",
            "Estado de las torres de Hanoi resultante:\n",
            "  |  |  |\n",
            "  |  |  |\n",
            "  |  |  |\n",
            "  |  1  2\n",
            "  4  3  5\n",
            "\n",
            "Acción a ejecutar: (2, 0)\n",
            "\n",
            "Estado de las torres de Hanoi resultante:\n",
            "  |  |  |\n",
            "  |  |  |\n",
            "  |  |  |\n",
            "  2  1  |\n",
            "  4  3  5\n",
            "\n",
            "Acción a ejecutar: (1, 2)\n",
            "\n",
            "Estado de las torres de Hanoi resultante:\n",
            "  |  |  |\n",
            "  |  |  |\n",
            "  |  |  |\n",
            "  2  |  1\n",
            "  4  3  5\n",
            "\n",
            "Acción a ejecutar: (0, 1)\n",
            "\n",
            "Estado de las torres de Hanoi resultante:\n",
            "  |  |  |\n",
            "  |  |  |\n",
            "  |  |  |\n",
            "  |  2  1\n",
            "  4  3  5\n",
            "\n",
            "Acción a ejecutar: (2, 1)\n",
            "\n",
            "Estado de las torres de Hanoi resultante:\n",
            "  |  |  |\n",
            "  |  |  |\n",
            "  |  1  |\n",
            "  |  2  |\n",
            "  4  3  5\n",
            "\n",
            "Acción a ejecutar: (0, 2)\n",
            "\n",
            "Estado de las torres de Hanoi resultante:\n",
            "  |  |  |\n",
            "  |  |  |\n",
            "  |  1  |\n",
            "  |  2  4\n",
            "  |  3  5\n",
            "\n",
            "Acción a ejecutar: (1, 2)\n",
            "\n",
            "Estado de las torres de Hanoi resultante:\n",
            "  |  |  |\n",
            "  |  |  |\n",
            "  |  |  1\n",
            "  |  2  4\n",
            "  |  3  5\n",
            "\n",
            "Acción a ejecutar: (1, 0)\n",
            "\n",
            "Estado de las torres de Hanoi resultante:\n",
            "  |  |  |\n",
            "  |  |  |\n",
            "  |  |  1\n",
            "  |  |  4\n",
            "  2  3  5\n",
            "\n",
            "Acción a ejecutar: (2, 1)\n",
            "\n",
            "Estado de las torres de Hanoi resultante:\n",
            "  |  |  |\n",
            "  |  |  |\n",
            "  |  |  |\n",
            "  |  1  4\n",
            "  2  3  5\n",
            "\n",
            "Acción a ejecutar: (0, 2)\n",
            "\n",
            "Estado de las torres de Hanoi resultante:\n",
            "  |  |  |\n",
            "  |  |  |\n",
            "  |  |  2\n",
            "  |  1  4\n",
            "  |  3  5\n",
            "\n",
            "Acción a ejecutar: (1, 2)\n",
            "\n",
            "Estado de las torres de Hanoi resultante:\n",
            "  |  |  |\n",
            "  |  |  1\n",
            "  |  |  2\n",
            "  |  |  4\n",
            "  |  3  5\n",
            "\n",
            "Acción a ejecutar: (1, 0)\n",
            "\n",
            "Estado de las torres de Hanoi resultante:\n",
            "  |  |  |\n",
            "  |  |  1\n",
            "  |  |  2\n",
            "  |  |  4\n",
            "  3  |  5\n",
            "\n",
            "Acción a ejecutar: (2, 1)\n",
            "\n",
            "Estado de las torres de Hanoi resultante:\n",
            "  |  |  |\n",
            "  |  |  |\n",
            "  |  |  2\n",
            "  |  |  4\n",
            "  3  1  5\n",
            "\n",
            "Acción a ejecutar: (2, 0)\n",
            "\n",
            "Estado de las torres de Hanoi resultante:\n",
            "  |  |  |\n",
            "  |  |  |\n",
            "  |  |  |\n",
            "  2  |  4\n",
            "  3  1  5\n",
            "\n",
            "Acción a ejecutar: (1, 0)\n",
            "\n",
            "Estado de las torres de Hanoi resultante:\n",
            "  |  |  |\n",
            "  |  |  |\n",
            "  1  |  |\n",
            "  2  |  4\n",
            "  3  |  5\n",
            "\n",
            "Acción a ejecutar: (2, 1)\n",
            "\n",
            "Estado de las torres de Hanoi resultante:\n",
            "  |  |  |\n",
            "  |  |  |\n",
            "  1  |  |\n",
            "  2  |  |\n",
            "  3  4  5\n",
            "\n",
            "Acción a ejecutar: (0, 2)\n",
            "\n",
            "Estado de las torres de Hanoi resultante:\n",
            "  |  |  |\n",
            "  |  |  |\n",
            "  |  |  |\n",
            "  2  |  1\n",
            "  3  4  5\n",
            "\n"
          ]
        }
      ]
    },
    {
      "cell_type": "markdown",
      "metadata": {
        "id": "hEQ_NZRc2puN"
      },
      "source": [
        "### busqueda A* con heurística nula (UCS)"
      ]
    },
    {
      "cell_type": "code",
      "metadata": {
        "id": "TWU35Im02puO",
        "colab": {
          "base_uri": "https://localhost:8080/"
        },
        "outputId": "8f69070f-194e-4db0-eeeb-8cb5107ac04f"
      },
      "source": [
        "nsol, visited_nodes = astar_search(p, nullheuristic)\n",
        "print('Solucion A* y heuristica nula (UCS):',nsol.solution())\n",
        "print('Nodos visitados =',len(visited_nodes))\n",
        "print('Costo Solucion =',nsol.path_cost)"
      ],
      "execution_count": null,
      "outputs": [
        {
          "output_type": "stream",
          "name": "stdout",
          "text": [
            "Solucion A* y heuristica nula (UCS): [(0, 2), (1, 2), (0, 1), (2, 0), (2, 1), (0, 1), (2, 0), (1, 2), (1, 0)]\n",
            "Nodos visitados = 56\n",
            "Costo Solucion = 9\n"
          ]
        }
      ]
    },
    {
      "cell_type": "markdown",
      "metadata": {
        "id": "ZiO-CCGz2puR"
      },
      "source": [
        "### busqueda A* con heurística h1"
      ]
    },
    {
      "cell_type": "code",
      "metadata": {
        "id": "pM65hMWw2puS",
        "colab": {
          "base_uri": "https://localhost:8080/"
        },
        "outputId": "4364c955-c847-427b-de03-d2df2c31c3dd"
      },
      "source": [
        "nsol, visited_nodes = astar_search(p, h1)\n",
        "print('Solucion A* y heuristica h1:',nsol.solution())\n",
        "print('Nodos visitados =',len(visited_nodes))\n",
        "print('Costo Solucion =',nsol.path_cost)"
      ],
      "execution_count": null,
      "outputs": [
        {
          "output_type": "stream",
          "name": "stdout",
          "text": [
            "Solucion A* y heuristica h1: [(0, 2), (1, 2), (0, 1), (2, 0), (2, 1), (0, 1), (2, 0), (1, 2), (1, 0)]\n",
            "Nodos visitados = 28\n",
            "Costo Solucion = 9\n"
          ]
        }
      ]
    },
    {
      "cell_type": "code",
      "metadata": {
        "id": "kGBqxpMM-iKn",
        "colab": {
          "base_uri": "https://localhost:8080/"
        },
        "outputId": "39e464a1-202e-46f0-a4f8-611a4fa01f9d"
      },
      "source": [
        "hanoi.ejecutaYmuestra(hanoi.initialState, nsol.solution())"
      ],
      "execution_count": null,
      "outputs": [
        {
          "output_type": "stream",
          "name": "stdout",
          "text": [
            "Estado Inicial:\n",
            "  |  |  |\n",
            "  |  |  |\n",
            "  |  |  |\n",
            "  2  |  3\n",
            "  4  1  5\n",
            "\n",
            "Acción a ejecutar: (0, 2)\n",
            "\n",
            "Estado de las torres de Hanoi resultante:\n",
            "  |  |  |\n",
            "  |  |  |\n",
            "  |  |  2\n",
            "  |  |  3\n",
            "  4  1  5\n",
            "\n",
            "Acción a ejecutar: (1, 2)\n",
            "\n",
            "Estado de las torres de Hanoi resultante:\n",
            "  |  |  |\n",
            "  |  |  1\n",
            "  |  |  2\n",
            "  |  |  3\n",
            "  4  |  5\n",
            "\n",
            "Acción a ejecutar: (0, 1)\n",
            "\n",
            "Estado de las torres de Hanoi resultante:\n",
            "  |  |  |\n",
            "  |  |  1\n",
            "  |  |  2\n",
            "  |  |  3\n",
            "  |  4  5\n",
            "\n",
            "Acción a ejecutar: (2, 0)\n",
            "\n",
            "Estado de las torres de Hanoi resultante:\n",
            "  |  |  |\n",
            "  |  |  |\n",
            "  |  |  2\n",
            "  |  |  3\n",
            "  1  4  5\n",
            "\n",
            "Acción a ejecutar: (2, 1)\n",
            "\n",
            "Estado de las torres de Hanoi resultante:\n",
            "  |  |  |\n",
            "  |  |  |\n",
            "  |  |  |\n",
            "  |  2  3\n",
            "  1  4  5\n",
            "\n",
            "Acción a ejecutar: (0, 1)\n",
            "\n",
            "Estado de las torres de Hanoi resultante:\n",
            "  |  |  |\n",
            "  |  |  |\n",
            "  |  1  |\n",
            "  |  2  3\n",
            "  |  4  5\n",
            "\n",
            "Acción a ejecutar: (2, 0)\n",
            "\n",
            "Estado de las torres de Hanoi resultante:\n",
            "  |  |  |\n",
            "  |  |  |\n",
            "  |  1  |\n",
            "  |  2  |\n",
            "  3  4  5\n",
            "\n",
            "Acción a ejecutar: (1, 2)\n",
            "\n",
            "Estado de las torres de Hanoi resultante:\n",
            "  |  |  |\n",
            "  |  |  |\n",
            "  |  |  |\n",
            "  |  2  1\n",
            "  3  4  5\n",
            "\n",
            "Acción a ejecutar: (1, 0)\n",
            "\n",
            "Estado de las torres de Hanoi resultante:\n",
            "  |  |  |\n",
            "  |  |  |\n",
            "  |  |  |\n",
            "  2  |  1\n",
            "  3  4  5\n",
            "\n"
          ]
        }
      ]
    },
    {
      "cell_type": "markdown",
      "metadata": {
        "id": "1NKdnHuGBX5H"
      },
      "source": [
        "## Desafío de la semana: Entorno `Hanoi` <font color=red> (20 puntos) </font> - Solución propuesta"
      ]
    },
    {
      "cell_type": "markdown",
      "source": [
        "### Preguntas del desafío"
      ],
      "metadata": {
        "id": "9hKzYf-h35CY"
      }
    },
    {
      "cell_type": "markdown",
      "metadata": {
        "id": "OE147np5PRS0"
      },
      "source": [
        "- Implementación de la función `Hanoi.result`: <font color=red> (2 puntos) </font>.\n"
      ]
    },
    {
      "cell_type": "markdown",
      "source": [
        "- Implementación de la función `Hanoi.actions`: <font color=red> (3 puntos) </font>.\n"
      ],
      "metadata": {
        "id": "k5gthEV5mte4"
      }
    },
    {
      "cell_type": "markdown",
      "metadata": {
        "id": "v_Wsuql5lO_l"
      },
      "source": [
        "- Implementación de la heurística `h1` : Número de piezas fuera de su torre destino, sin importar que dichas fichas no se encuentren en la posición correcta dentro de la torre en la que deberían estar. Implementar la función de la heurística `h1` <font color=red> (3 puntos) </font>.\n"
      ]
    },
    {
      "cell_type": "markdown",
      "source": [
        "Notar que en la descripción de la función `h1`, se indica lo siguiente: `Cantidad de discos de node.state que están fuera de su torre destino indicada en el estado objetivo (problem.goal). Además, se considera que un disco SÍ está fuera de su lugar si es que no está en su posición correcta dentro de la torre destino.`."
      ],
      "metadata": {
        "id": "arWIHvd4iQWP"
      }
    },
    {
      "cell_type": "markdown",
      "metadata": {
        "id": "lmuSFeWO3mRY"
      },
      "source": [
        "Estas son las reglas del problema de las torres de Hanoi.\n",
        "\n",
        "1. Sólo se puede mover un disco a la vez.\n",
        "2. Para mover un disco, los demás deben estar en postes.\n",
        "3. Un disco no puede estar sobre uno más pequeño que sí mismo.\n",
        "4. Sólo se puede extraer el disco que se encuentra arriba de cada poste.\n",
        "5. Un disco sólo puede moverse hacia la cima de otra torre.\n",
        "6. Los discos son piezas físicas afectadas por la gravedad.\n",
        "\n"
      ]
    },
    {
      "cell_type": "markdown",
      "metadata": {
        "id": "SHDIIbxMdZRQ"
      },
      "source": [
        "\n",
        "- ¿Cuáles son las reglas que se apagan para conseguir un problema relajado con esa heurística `h1`? **Justificar** <font color=red> (0.5 puntos por indicar el estado correcto de cada una de las 6 reglas: 3 puntos en total) </font>. Considerar que para las configuraciones de destino, los discos dentro de las torres **siempre** van a tener tamaños (en nuestro caso, representados con los valores numéricos asignados a los discos) diferentes y en orden decreciente empezando desde abajo."
      ]
    },
    {
      "cell_type": "markdown",
      "source": [
        "Luego de justificar su elección de cuáles reglas deben ser apagadas, completar la siguiente tabla resumen:\n",
        "\n",
        "Dato: La regla 6 no se debe apagar."
      ],
      "metadata": {
        "id": "grJiHy7bpETF"
      }
    },
    {
      "cell_type": "markdown",
      "source": [
        "\n",
        "|  | Regla 1 | Regla 2 | Regla 3 | Regla 4 | Regla 5 |Regla 6 |\n",
        "| :------- | :------: | -----: | -----: | -----: | -----: |-----: |\n",
        "| Activa o apagada?  | ??      | ??   | ??  | ??   | ??   |??      |"
      ],
      "metadata": {
        "id": "eLAqvUe-oqFs"
      }
    },
    {
      "cell_type": "markdown",
      "source": [
        "- Completar la siguiente tabla. Luego, asumiendo que la heurística `h1` es consistente, indicar para cuáles valores de W la búsqueda es óptima y por qué. Contrastar sus resultados experimentales y la teoría vista en clase. <font color=red> (2 puntos por la tabla + 1 punto por responder la pregunta = 3 puntos) </font>:"
      ],
      "metadata": {
        "id": "MdQYZvjD6Cca"
      }
    },
    {
      "cell_type": "markdown",
      "source": [
        "Usar la siguiente configuración del entorno:"
      ],
      "metadata": {
        "id": "i8yWedWpKMzh"
      }
    },
    {
      "cell_type": "markdown",
      "source": [
        "![Screenshot 2024-12-11 at 3.38.45 PM.png](data:image/png;base64,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)"
      ],
      "metadata": {
        "id": "sYpRtSTLKryQ"
      }
    },
    {
      "cell_type": "markdown",
      "source": [
        "Debe mostrar los resultados de sus ejecuciones!"
      ],
      "metadata": {
        "id": "6sWOQ7tp7NQm"
      }
    },
    {
      "cell_type": "markdown",
      "source": [
        "| W                               | 0  | 0.1 | 0.5 | 1  | 2  | 3  | 4  | 5  |\n",
        "|---------------------------------|----|-----|-----|----|----|----|----|----|\n",
        "| Cantidad de nodos explorados    | ?? | ??  | ??  | ?? | ?? | ?? | ?? | ?? |\n",
        "| Costo de la solución encontrada | ?? | ??  | ??  | ?? | ?? | ?? | ?? | ?? |"
      ],
      "metadata": {
        "id": "alAhOYBR6Ccg"
      }
    },
    {
      "cell_type": "markdown",
      "source": [
        "Los datos de su tabla deben coincidir con los valores de la siguiente gráfica. No se solicita elaborar dicha gráfica, sino completar la tabla de arriba."
      ],
      "metadata": {
        "id": "seeBWQkqHxYV"
      }
    },
    {
      "cell_type": "markdown",
      "source": [
        "![grafiquito.png](data:image/png;base64,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)"
      ],
      "metadata": {
        "id": "V7kZBn-lJ10o"
      }
    },
    {
      "cell_type": "markdown",
      "metadata": {
        "id": "ZfKWRiGwgaZa"
      },
      "source": [
        "- Complete las siguiente tablas, **mostrando** los resultados de las ejecuciones <font color=red> (6 puntos) </font>:"
      ]
    },
    {
      "cell_type": "markdown",
      "source": [
        "<font color=red> (0.25 puntos por cada columna de cada una de las 3 tablas) </font>"
      ],
      "metadata": {
        "id": "GT89rX3-n6FE"
      }
    },
    {
      "cell_type": "markdown",
      "source": [
        "Notar que se piden experimentos en las configuraciones de Hanoi por defecto (sin valores especificados por el usuario para los estados inicial y objetivo). Por ejemplo, en la tercera tabla se indica probar para el entorno `Hanoi(5)`, no `Hanoi(5, initialState=((4,2),(1,),(5,3)), goalState=((3,2),(4,),(5,1)))`."
      ],
      "metadata": {
        "id": "JvI2LaCJoE69"
      }
    },
    {
      "cell_type": "markdown",
      "metadata": {
        "id": "YEiRaDbrGrTc"
      },
      "source": [
        "\n",
        "\n",
        "| Entorno `Hanoi(3)` | BFS | DFS | UCS | A* con `h1` |\n",
        "| :------- | :------: | -----: | -----: | -----: |\n",
        "| Costo del camino  | ??      | ??   | ??  | ??   |\n",
        "| Nodos visitados   | ??     | ?? | ?? | ?? |"
      ]
    },
    {
      "cell_type": "markdown",
      "metadata": {
        "id": "gllcZzPVGqDB"
      },
      "source": [
        "\n",
        "\n",
        "\n",
        "| Entorno `Hanoi(4)` | BFS | DFS | UCS | A* con `h1` |\n",
        "| :------- | :------: | -----: | -----: | -----: |\n",
        "| Costo del camino  | ??      | ??   | ??  | ??   |\n",
        "| Nodos visitados   | ??     | ?? | ?? | ?? |"
      ]
    },
    {
      "cell_type": "markdown",
      "metadata": {
        "id": "eLWTFKSIGtHg"
      },
      "source": [
        "\n",
        "\n",
        "| Entorno `Hanoi(5)` | BFS | DFS | UCS | A* con `h1` |\n",
        "| :------- | :------: | -----: | -----: | -----: |\n",
        "| Costo del camino  | ??      | ??   | ??  | ??   |\n",
        "| Nodos visitados   | ??     | ?? | ?? | ?? |"
      ]
    },
    {
      "cell_type": "markdown",
      "metadata": {
        "id": "ddnWJOksFkjJ"
      },
      "source": [
        "### Entorno `Hanoi(3)`"
      ]
    },
    {
      "cell_type": "code",
      "metadata": {
        "colab": {
          "base_uri": "https://localhost:8080/"
        },
        "id": "DCFMTMTrE1i6",
        "outputId": "f1ced221-a430-4e5d-bd60-e9c4234980bd"
      },
      "source": [
        "\"\"\" Instancia el problema de busqueda en el entorno de las torres de Hanoi \"\"\"\n",
        "hanoi = Hanoi(3)\n",
        "print(hanoi)\n",
        "p = HanoiSearchProblem(hanoi)"
      ],
      "execution_count": null,
      "outputs": [
        {
          "output_type": "stream",
          "name": "stdout",
          "text": [
            "Estado inicial:\n",
            "  1  |  |\n",
            "  2  |  |\n",
            "  3  |  |\n",
            "\n",
            "Estado objetivo:\n",
            "  |  |  1\n",
            "  |  |  2\n",
            "  |  |  3\n",
            "\n",
            "Se imprimieron el estado inicial y el estado objetivo del entorno de Hanoi.\n"
          ]
        }
      ]
    },
    {
      "cell_type": "markdown",
      "metadata": {
        "id": "hHvkn7r5Fskz"
      },
      "source": [
        "#### busqueda en amplitud (BFS)"
      ]
    },
    {
      "cell_type": "code",
      "metadata": {
        "scrolled": true,
        "colab": {
          "base_uri": "https://localhost:8080/"
        },
        "id": "rzPqkd1HFsk0",
        "outputId": "40007060-d79a-48ed-c912-628fcd6ad324"
      },
      "source": [
        "nsol, visited_nodes = graph_search(p, FIFOQueue())\n",
        "print('Solucion BFS:',nsol.solution())\n",
        "print('Nodos visitados =',len(visited_nodes))\n",
        "print('Costo Solucion =',nsol.path_cost)"
      ],
      "execution_count": null,
      "outputs": [
        {
          "output_type": "stream",
          "name": "stdout",
          "text": [
            "Solucion BFS: [(0, 2), (0, 1), (2, 1), (0, 2), (1, 0), (1, 2), (0, 2)]\n",
            "Nodos visitados = 25\n",
            "Costo Solucion = 7\n"
          ]
        }
      ]
    },
    {
      "cell_type": "markdown",
      "metadata": {
        "id": "pNdyRAX2Fsk3"
      },
      "source": [
        "#### busqueda en profundidad (DFS)"
      ]
    },
    {
      "cell_type": "code",
      "metadata": {
        "colab": {
          "base_uri": "https://localhost:8080/"
        },
        "id": "9ZkAOOFbFsk3",
        "outputId": "200a8d4c-3d80-42bf-94c1-2c44be3e00ad"
      },
      "source": [
        "nsol, visited_nodes = graph_search(p, [])\n",
        "print('Solucion DFS:',nsol.solution())\n",
        "print('Nodos visitados =',len(visited_nodes))\n",
        "print('Costo Solucion =',nsol.path_cost)"
      ],
      "execution_count": null,
      "outputs": [
        {
          "output_type": "stream",
          "name": "stdout",
          "text": [
            "Solucion DFS: [(0, 2), (0, 1), (2, 1), (0, 2), (1, 2), (1, 0), (2, 1), (0, 2), (1, 2)]\n",
            "Nodos visitados = 10\n",
            "Costo Solucion = 9\n"
          ]
        }
      ]
    },
    {
      "cell_type": "markdown",
      "metadata": {
        "id": "MqF2sJ0QE1i7"
      },
      "source": [
        "#### busqueda A* con heurística nula (UCS)"
      ]
    },
    {
      "cell_type": "code",
      "metadata": {
        "colab": {
          "base_uri": "https://localhost:8080/"
        },
        "id": "ZpTay_lbE1i7",
        "outputId": "4ab4aade-cf6b-4f14-9c23-d38feeddc2fe"
      },
      "source": [
        "nsol, visited_nodes = astar_search(p, nullheuristic)\n",
        "print('Solucion A* y heuristica nula (UCS):',nsol.solution())\n",
        "print('Nodos visitados =',len(visited_nodes))\n",
        "print('Costo Solucion =',nsol.path_cost)"
      ],
      "execution_count": null,
      "outputs": [
        {
          "output_type": "stream",
          "name": "stdout",
          "text": [
            "Solucion A* y heuristica nula (UCS): [(0, 2), (0, 1), (2, 1), (0, 2), (1, 0), (1, 2), (0, 2)]\n",
            "Nodos visitados = 20\n",
            "Costo Solucion = 7\n"
          ]
        }
      ]
    },
    {
      "cell_type": "markdown",
      "metadata": {
        "id": "Y5zL7fUnE1i7"
      },
      "source": [
        "#### busqueda A* con heurística h1"
      ]
    },
    {
      "cell_type": "code",
      "metadata": {
        "colab": {
          "base_uri": "https://localhost:8080/"
        },
        "id": "4ef52o8oE1i7",
        "outputId": "64853861-b096-420d-a422-eab3ccf6eea1"
      },
      "source": [
        "nsol, visited_nodes = astar_search(p, h1)\n",
        "print('Solucion A* y heuristica h1:',nsol.solution())\n",
        "print('Nodos visitados =',len(visited_nodes))\n",
        "print('Costo Solucion =',nsol.path_cost)"
      ],
      "execution_count": null,
      "outputs": [
        {
          "output_type": "stream",
          "name": "stdout",
          "text": [
            "Solucion A* y heuristica h1: [(0, 2), (0, 1), (2, 1), (0, 2), (1, 0), (1, 2), (0, 2)]\n",
            "Nodos visitados = 15\n",
            "Costo Solucion = 7\n"
          ]
        }
      ]
    },
    {
      "cell_type": "markdown",
      "metadata": {
        "id": "FreF-oOvFxxs"
      },
      "source": [
        "### Entorno `Hanoi(4)`"
      ]
    },
    {
      "cell_type": "code",
      "metadata": {
        "colab": {
          "base_uri": "https://localhost:8080/"
        },
        "id": "8ifA4wbXFxxt",
        "outputId": "bd056943-5b3d-4054-9325-431a994a9e42"
      },
      "source": [
        "\"\"\" Instancia el problema de busqueda en el entorno de las torres de Hanoi \"\"\"\n",
        "hanoi = Hanoi(4)\n",
        "print(hanoi)\n",
        "p = HanoiSearchProblem(hanoi)"
      ],
      "execution_count": null,
      "outputs": [
        {
          "output_type": "stream",
          "name": "stdout",
          "text": [
            "Estado inicial:\n",
            "  1  |  |\n",
            "  2  |  |\n",
            "  3  |  |\n",
            "  4  |  |\n",
            "\n",
            "Estado objetivo:\n",
            "  |  |  1\n",
            "  |  |  2\n",
            "  |  |  3\n",
            "  |  |  4\n",
            "\n",
            "Se imprimieron el estado inicial y el estado objetivo del entorno de Hanoi.\n"
          ]
        }
      ]
    },
    {
      "cell_type": "markdown",
      "metadata": {
        "id": "j1gMKSYhFxxu"
      },
      "source": [
        "#### busqueda en amplitud (BFS)"
      ]
    },
    {
      "cell_type": "code",
      "metadata": {
        "scrolled": true,
        "colab": {
          "base_uri": "https://localhost:8080/"
        },
        "id": "zhXeLhUuFxxu",
        "outputId": "fdbc726d-2fdb-4d44-a4f3-db5eb488318f"
      },
      "source": [
        "nsol, visited_nodes = graph_search(p, FIFOQueue())\n",
        "print('Solucion BFS:',nsol.solution())\n",
        "print('Nodos visitados =',len(visited_nodes))\n",
        "print('Costo Solucion =',nsol.path_cost)"
      ],
      "execution_count": null,
      "outputs": [
        {
          "output_type": "stream",
          "name": "stdout",
          "text": [
            "Solucion BFS: [(0, 1), (0, 2), (1, 2), (0, 1), (2, 0), (2, 1), (0, 1), (0, 2), (1, 2), (1, 0), (2, 0), (1, 2), (0, 1), (0, 2), (1, 2)]\n",
            "Nodos visitados = 71\n",
            "Costo Solucion = 15\n"
          ]
        }
      ]
    },
    {
      "cell_type": "markdown",
      "metadata": {
        "id": "t4JxrwfSFxxv"
      },
      "source": [
        "#### busqueda en profundidad (DFS)"
      ]
    },
    {
      "cell_type": "code",
      "metadata": {
        "colab": {
          "base_uri": "https://localhost:8080/"
        },
        "id": "2hSlFwReFxxw",
        "outputId": "49f672ef-636e-4d58-84a4-32293f8ac229"
      },
      "source": [
        "nsol, visited_nodes = graph_search(p, [])\n",
        "print('Solucion DFS:',nsol.solution())\n",
        "print('Nodos visitados =',len(visited_nodes))\n",
        "print('Costo Solucion =',nsol.path_cost)"
      ],
      "execution_count": null,
      "outputs": [
        {
          "output_type": "stream",
          "name": "stdout",
          "text": [
            "Solucion DFS: [(0, 2), (0, 1), (2, 1), (0, 2), (1, 2), (1, 0), (2, 1), (0, 2), (1, 2), (0, 1), (2, 1), (2, 0), (1, 2), (0, 1), (2, 1), (2, 0), (1, 2), (1, 0), (2, 0), (1, 2), (0, 2), (0, 1), (2, 1), (0, 2), (1, 2), (1, 0), (2, 1), (0, 2), (1, 2)]\n",
            "Nodos visitados = 43\n",
            "Costo Solucion = 29\n"
          ]
        }
      ]
    },
    {
      "cell_type": "markdown",
      "metadata": {
        "id": "nVp4K6-2Fxxw"
      },
      "source": [
        "#### busqueda A* con heurística nula (UCS)"
      ]
    },
    {
      "cell_type": "code",
      "metadata": {
        "colab": {
          "base_uri": "https://localhost:8080/"
        },
        "id": "7twWe-nOFxxx",
        "outputId": "3b36a64b-308a-474c-ab82-00a199e37bee"
      },
      "source": [
        "nsol, visited_nodes = astar_search(p, nullheuristic)\n",
        "print('Solucion A* y heuristica nula (UCS):',nsol.solution())\n",
        "print('Nodos visitados =',len(visited_nodes))\n",
        "print('Costo Solucion =',nsol.path_cost)"
      ],
      "execution_count": null,
      "outputs": [
        {
          "output_type": "stream",
          "name": "stdout",
          "text": [
            "Solucion A* y heuristica nula (UCS): [(0, 1), (0, 2), (1, 2), (0, 1), (2, 0), (2, 1), (0, 1), (0, 2), (1, 2), (1, 0), (2, 0), (1, 2), (0, 1), (0, 2), (1, 2)]\n",
            "Nodos visitados = 66\n",
            "Costo Solucion = 15\n"
          ]
        }
      ]
    },
    {
      "cell_type": "markdown",
      "metadata": {
        "id": "Cnsv48NDFxxy"
      },
      "source": [
        "#### busqueda A* con heurística h1"
      ]
    },
    {
      "cell_type": "code",
      "metadata": {
        "colab": {
          "base_uri": "https://localhost:8080/"
        },
        "id": "7oQJcrOrFxxy",
        "outputId": "de2fa7ff-daf4-4aed-b1f5-c3f3f5c5cdfe"
      },
      "source": [
        "nsol, visited_nodes = astar_search(p, h1)\n",
        "print('Solucion A* y heuristica h1:',nsol.solution())\n",
        "print('Nodos visitados =',len(visited_nodes))\n",
        "print('Costo Solucion =',nsol.path_cost)"
      ],
      "execution_count": null,
      "outputs": [
        {
          "output_type": "stream",
          "name": "stdout",
          "text": [
            "Solucion A* y heuristica h1: [(0, 1), (0, 2), (1, 2), (0, 1), (2, 0), (2, 1), (0, 1), (0, 2), (1, 2), (1, 0), (2, 0), (1, 2), (0, 1), (0, 2), (1, 2)]\n",
            "Nodos visitados = 48\n",
            "Costo Solucion = 15\n"
          ]
        }
      ]
    },
    {
      "cell_type": "markdown",
      "metadata": {
        "id": "ib8ITKdmFw2g"
      },
      "source": [
        "### Entorno `Hanoi(5)`"
      ]
    },
    {
      "cell_type": "code",
      "metadata": {
        "colab": {
          "base_uri": "https://localhost:8080/"
        },
        "id": "RMozPiOjFw2g",
        "outputId": "ae656923-2c1d-4606-f373-6feec0ffcfa7"
      },
      "source": [
        "\"\"\" Instancia el problema de busqueda en el entorno de las torres de Hanoi \"\"\"\n",
        "hanoi = Hanoi(5)\n",
        "print(hanoi)\n",
        "p = HanoiSearchProblem(hanoi)"
      ],
      "execution_count": null,
      "outputs": [
        {
          "output_type": "stream",
          "name": "stdout",
          "text": [
            "Estado inicial:\n",
            "  1  |  |\n",
            "  2  |  |\n",
            "  3  |  |\n",
            "  4  |  |\n",
            "  5  |  |\n",
            "\n",
            "Estado objetivo:\n",
            "  |  |  1\n",
            "  |  |  2\n",
            "  |  |  3\n",
            "  |  |  4\n",
            "  |  |  5\n",
            "\n",
            "Se imprimieron el estado inicial y el estado objetivo del entorno de Hanoi.\n"
          ]
        }
      ]
    },
    {
      "cell_type": "markdown",
      "metadata": {
        "id": "XwJ-f8sYFw2h"
      },
      "source": [
        "#### busqueda en amplitud (BFS)"
      ]
    },
    {
      "cell_type": "code",
      "metadata": {
        "scrolled": true,
        "colab": {
          "base_uri": "https://localhost:8080/"
        },
        "id": "sEz7rN2MFw2h",
        "outputId": "eb8b2563-95a5-40fe-80fa-72d7f786fcd0"
      },
      "source": [
        "nsol, visited_nodes = graph_search(p, FIFOQueue())\n",
        "print('Solucion BFS:',nsol.solution())\n",
        "print('Nodos visitados =',len(visited_nodes))\n",
        "print('Costo Solucion =',nsol.path_cost)"
      ],
      "execution_count": null,
      "outputs": [
        {
          "output_type": "stream",
          "name": "stdout",
          "text": [
            "Solucion BFS: [(0, 2), (0, 1), (2, 1), (0, 2), (1, 0), (1, 2), (0, 2), (0, 1), (2, 1), (2, 0), (1, 0), (2, 1), (0, 2), (0, 1), (2, 1), (0, 2), (1, 0), (1, 2), (0, 2), (1, 0), (2, 1), (2, 0), (1, 0), (1, 2), (0, 2), (0, 1), (2, 1), (0, 2), (1, 0), (1, 2), (0, 2)]\n",
            "Nodos visitados = 233\n",
            "Costo Solucion = 31\n"
          ]
        }
      ]
    },
    {
      "cell_type": "markdown",
      "metadata": {
        "id": "Q7rjy_qdFw2i"
      },
      "source": [
        "#### busqueda en profundidad (DFS)"
      ]
    },
    {
      "cell_type": "code",
      "metadata": {
        "colab": {
          "base_uri": "https://localhost:8080/"
        },
        "id": "wCZ0fvWLFw2i",
        "outputId": "6aa7e4c3-1e1c-4b82-da7d-05393142fc11"
      },
      "source": [
        "nsol, visited_nodes = graph_search(p, [])\n",
        "print('Solucion DFS:',nsol.solution())\n",
        "print('Nodos visitados =',len(visited_nodes))\n",
        "print('Costo Solucion =',nsol.path_cost)"
      ],
      "execution_count": null,
      "outputs": [
        {
          "output_type": "stream",
          "name": "stdout",
          "text": [
            "Solucion DFS: [(0, 2), (0, 1), (2, 1), (0, 2), (1, 2), (1, 0), (2, 1), (0, 2), (1, 2), (0, 1), (2, 1), (2, 0), (1, 2), (0, 1), (2, 1), (2, 0), (1, 2), (1, 0), (2, 1), (0, 2), (1, 2), (0, 1), (2, 1), (2, 0), (1, 2), (0, 1), (2, 1), (0, 2), (1, 2), (1, 0), (2, 1), (0, 2), (1, 2), (1, 0), (2, 1), (2, 0), (1, 2), (0, 1), (2, 1), (0, 2), (1, 2), (1, 0), (2, 1), (0, 2), (1, 2), (1, 0), (2, 1), (2, 0), (1, 2), (0, 1), (2, 1), (2, 0), (1, 2), (1, 0), (2, 1), (0, 2), (1, 2), (0, 1), (2, 1), (2, 0), (1, 2), (0, 1), (2, 1), (0, 2), (1, 2), (1, 0), (2, 1), (0, 2), (1, 2), (1, 0), (2, 1), (2, 0), (1, 2), (0, 1), (2, 1), (0, 2), (1, 2), (1, 0), (2, 1), (0, 2), (1, 2)]\n",
            "Nodos visitados = 82\n",
            "Costo Solucion = 81\n"
          ]
        }
      ]
    },
    {
      "cell_type": "markdown",
      "metadata": {
        "id": "a6VzU4IFFw2k"
      },
      "source": [
        "#### busqueda A* con heurística nula (UCS)"
      ]
    },
    {
      "cell_type": "code",
      "metadata": {
        "colab": {
          "base_uri": "https://localhost:8080/"
        },
        "id": "ggqojWGUFw2l",
        "outputId": "30f43066-9c15-4065-fcdf-7e5e4cac3a8e"
      },
      "source": [
        "nsol, visited_nodes = astar_search(p, nullheuristic)\n",
        "print('Solucion A* y heuristica nula (UCS):',nsol.solution())\n",
        "print('Nodos visitados =',len(visited_nodes))\n",
        "print('Costo Solucion =',nsol.path_cost)"
      ],
      "execution_count": null,
      "outputs": [
        {
          "output_type": "stream",
          "name": "stdout",
          "text": [
            "Solucion A* y heuristica nula (UCS): [(0, 2), (0, 1), (2, 1), (0, 2), (1, 0), (1, 2), (0, 2), (0, 1), (2, 1), (2, 0), (1, 0), (2, 1), (0, 2), (0, 1), (2, 1), (0, 2), (1, 0), (1, 2), (0, 2), (1, 0), (2, 1), (2, 0), (1, 0), (1, 2), (0, 2), (0, 1), (2, 1), (0, 2), (1, 0), (1, 2), (0, 2)]\n",
            "Nodos visitados = 212\n",
            "Costo Solucion = 31\n"
          ]
        }
      ]
    },
    {
      "cell_type": "markdown",
      "metadata": {
        "id": "XXyZ1qBxFw2l"
      },
      "source": [
        "#### busqueda A* con heurística h1"
      ]
    },
    {
      "cell_type": "code",
      "metadata": {
        "colab": {
          "base_uri": "https://localhost:8080/"
        },
        "id": "QhG075PjFw2l",
        "outputId": "995b426c-3789-44a6-c953-6b63a9b32586"
      },
      "source": [
        "nsol, visited_nodes = astar_search(p, h1)\n",
        "print('Solucion A* y heuristica h1:',nsol.solution())\n",
        "print('Nodos visitados =',len(visited_nodes))\n",
        "print('Costo Solucion =',nsol.path_cost)"
      ],
      "execution_count": null,
      "outputs": [
        {
          "output_type": "stream",
          "name": "stdout",
          "text": [
            "Solucion A* y heuristica h1: [(0, 2), (0, 1), (2, 1), (0, 2), (1, 0), (1, 2), (0, 2), (0, 1), (2, 1), (2, 0), (1, 0), (2, 1), (0, 2), (0, 1), (2, 1), (0, 2), (1, 0), (1, 2), (0, 2), (1, 0), (2, 1), (2, 0), (1, 0), (1, 2), (0, 2), (0, 1), (2, 1), (0, 2), (1, 0), (1, 2), (0, 2)]\n",
            "Nodos visitados = 161\n",
            "Costo Solucion = 31\n"
          ]
        }
      ]
    },
    {
      "cell_type": "markdown",
      "metadata": {
        "id": "nAO5XF_i3-QN"
      },
      "source": [
        "#### busqueda A* con heurística h_weighted"
      ]
    },
    {
      "cell_type": "code",
      "metadata": {
        "colab": {
          "base_uri": "https://localhost:8080/"
        },
        "outputId": "f56ce377-df0d-4a39-c0dd-247b19cf0d0d",
        "id": "WN5b5cxm3-QY"
      },
      "source": [
        "nsol, visited_nodes = astar_search(p, h_weighted)\n",
        "print('Solucion A* y heuristica h_weighted:',nsol.solution())\n",
        "print('Nodos visitados =',len(visited_nodes))\n",
        "print('Costo Solucion =',nsol.path_cost)"
      ],
      "execution_count": null,
      "outputs": [
        {
          "output_type": "stream",
          "name": "stdout",
          "text": [
            "Solucion A* y heuristica h_weighted: [(0, 2), (0, 1), (2, 1), (0, 2), (1, 0), (1, 2), (0, 2), (0, 1), (2, 1), (2, 0), (1, 0), (2, 1), (0, 2), (0, 1), (2, 1), (0, 2), (1, 0), (1, 2), (0, 2), (1, 0), (2, 1), (2, 0), (1, 0), (1, 2), (0, 2), (0, 1), (2, 1), (0, 2), (1, 0), (1, 2), (0, 2)]\n",
            "Nodos visitados = 125\n",
            "Costo Solucion = 31\n"
          ]
        }
      ]
    },
    {
      "cell_type": "code",
      "source": [
        "hanoi.ejecutaYmuestra(hanoi.initialState, nsol.solution())"
      ],
      "metadata": {
        "colab": {
          "base_uri": "https://localhost:8080/"
        },
        "id": "k6lFZq6P4aFH",
        "outputId": "3115989e-557a-425a-d34e-6442ecbb9fea"
      },
      "execution_count": null,
      "outputs": [
        {
          "output_type": "stream",
          "name": "stdout",
          "text": [
            "Estado Inicial:\n",
            "  1  |  |\n",
            "  2  |  |\n",
            "  3  |  |\n",
            "  4  |  |\n",
            "  5  |  |\n",
            "\n",
            "Acción a ejecutar: (0, 2)\n",
            "\n",
            "Estado de las torres de Hanoi resultante:\n",
            "  |  |  |\n",
            "  2  |  |\n",
            "  3  |  |\n",
            "  4  |  |\n",
            "  5  |  1\n",
            "\n",
            "Acción a ejecutar: (0, 1)\n",
            "\n",
            "Estado de las torres de Hanoi resultante:\n",
            "  |  |  |\n",
            "  |  |  |\n",
            "  3  |  |\n",
            "  4  |  |\n",
            "  5  2  1\n",
            "\n",
            "Acción a ejecutar: (2, 1)\n",
            "\n",
            "Estado de las torres de Hanoi resultante:\n",
            "  |  |  |\n",
            "  |  |  |\n",
            "  3  |  |\n",
            "  4  1  |\n",
            "  5  2  |\n",
            "\n",
            "Acción a ejecutar: (0, 2)\n",
            "\n",
            "Estado de las torres de Hanoi resultante:\n",
            "  |  |  |\n",
            "  |  |  |\n",
            "  |  |  |\n",
            "  4  1  |\n",
            "  5  2  3\n",
            "\n",
            "Acción a ejecutar: (1, 0)\n",
            "\n",
            "Estado de las torres de Hanoi resultante:\n",
            "  |  |  |\n",
            "  |  |  |\n",
            "  1  |  |\n",
            "  4  |  |\n",
            "  5  2  3\n",
            "\n",
            "Acción a ejecutar: (1, 2)\n",
            "\n",
            "Estado de las torres de Hanoi resultante:\n",
            "  |  |  |\n",
            "  |  |  |\n",
            "  1  |  |\n",
            "  4  |  2\n",
            "  5  |  3\n",
            "\n",
            "Acción a ejecutar: (0, 2)\n",
            "\n",
            "Estado de las torres de Hanoi resultante:\n",
            "  |  |  |\n",
            "  |  |  |\n",
            "  |  |  1\n",
            "  4  |  2\n",
            "  5  |  3\n",
            "\n",
            "Acción a ejecutar: (0, 1)\n",
            "\n",
            "Estado de las torres de Hanoi resultante:\n",
            "  |  |  |\n",
            "  |  |  |\n",
            "  |  |  1\n",
            "  |  |  2\n",
            "  5  4  3\n",
            "\n",
            "Acción a ejecutar: (2, 1)\n",
            "\n",
            "Estado de las torres de Hanoi resultante:\n",
            "  |  |  |\n",
            "  |  |  |\n",
            "  |  |  |\n",
            "  |  1  2\n",
            "  5  4  3\n",
            "\n",
            "Acción a ejecutar: (2, 0)\n",
            "\n",
            "Estado de las torres de Hanoi resultante:\n",
            "  |  |  |\n",
            "  |  |  |\n",
            "  |  |  |\n",
            "  2  1  |\n",
            "  5  4  3\n",
            "\n",
            "Acción a ejecutar: (1, 0)\n",
            "\n",
            "Estado de las torres de Hanoi resultante:\n",
            "  |  |  |\n",
            "  |  |  |\n",
            "  1  |  |\n",
            "  2  |  |\n",
            "  5  4  3\n",
            "\n",
            "Acción a ejecutar: (2, 1)\n",
            "\n",
            "Estado de las torres de Hanoi resultante:\n",
            "  |  |  |\n",
            "  |  |  |\n",
            "  1  |  |\n",
            "  2  3  |\n",
            "  5  4  |\n",
            "\n",
            "Acción a ejecutar: (0, 2)\n",
            "\n",
            "Estado de las torres de Hanoi resultante:\n",
            "  |  |  |\n",
            "  |  |  |\n",
            "  |  |  |\n",
            "  2  3  |\n",
            "  5  4  1\n",
            "\n",
            "Acción a ejecutar: (0, 1)\n",
            "\n",
            "Estado de las torres de Hanoi resultante:\n",
            "  |  |  |\n",
            "  |  |  |\n",
            "  |  2  |\n",
            "  |  3  |\n",
            "  5  4  1\n",
            "\n",
            "Acción a ejecutar: (2, 1)\n",
            "\n",
            "Estado de las torres de Hanoi resultante:\n",
            "  |  |  |\n",
            "  |  1  |\n",
            "  |  2  |\n",
            "  |  3  |\n",
            "  5  4  |\n",
            "\n",
            "Acción a ejecutar: (0, 2)\n",
            "\n",
            "Estado de las torres de Hanoi resultante:\n",
            "  |  |  |\n",
            "  |  1  |\n",
            "  |  2  |\n",
            "  |  3  |\n",
            "  |  4  5\n",
            "\n",
            "Acción a ejecutar: (1, 0)\n",
            "\n",
            "Estado de las torres de Hanoi resultante:\n",
            "  |  |  |\n",
            "  |  |  |\n",
            "  |  2  |\n",
            "  |  3  |\n",
            "  1  4  5\n",
            "\n",
            "Acción a ejecutar: (1, 2)\n",
            "\n",
            "Estado de las torres de Hanoi resultante:\n",
            "  |  |  |\n",
            "  |  |  |\n",
            "  |  |  |\n",
            "  |  3  2\n",
            "  1  4  5\n",
            "\n",
            "Acción a ejecutar: (0, 2)\n",
            "\n",
            "Estado de las torres de Hanoi resultante:\n",
            "  |  |  |\n",
            "  |  |  |\n",
            "  |  |  1\n",
            "  |  3  2\n",
            "  |  4  5\n",
            "\n",
            "Acción a ejecutar: (1, 0)\n",
            "\n",
            "Estado de las torres de Hanoi resultante:\n",
            "  |  |  |\n",
            "  |  |  |\n",
            "  |  |  1\n",
            "  |  |  2\n",
            "  3  4  5\n",
            "\n",
            "Acción a ejecutar: (2, 1)\n",
            "\n",
            "Estado de las torres de Hanoi resultante:\n",
            "  |  |  |\n",
            "  |  |  |\n",
            "  |  |  |\n",
            "  |  1  2\n",
            "  3  4  5\n",
            "\n",
            "Acción a ejecutar: (2, 0)\n",
            "\n",
            "Estado de las torres de Hanoi resultante:\n",
            "  |  |  |\n",
            "  |  |  |\n",
            "  |  |  |\n",
            "  2  1  |\n",
            "  3  4  5\n",
            "\n",
            "Acción a ejecutar: (1, 0)\n",
            "\n",
            "Estado de las torres de Hanoi resultante:\n",
            "  |  |  |\n",
            "  |  |  |\n",
            "  1  |  |\n",
            "  2  |  |\n",
            "  3  4  5\n",
            "\n",
            "Acción a ejecutar: (1, 2)\n",
            "\n",
            "Estado de las torres de Hanoi resultante:\n",
            "  |  |  |\n",
            "  |  |  |\n",
            "  1  |  |\n",
            "  2  |  4\n",
            "  3  |  5\n",
            "\n",
            "Acción a ejecutar: (0, 2)\n",
            "\n",
            "Estado de las torres de Hanoi resultante:\n",
            "  |  |  |\n",
            "  |  |  |\n",
            "  |  |  1\n",
            "  2  |  4\n",
            "  3  |  5\n",
            "\n",
            "Acción a ejecutar: (0, 1)\n",
            "\n",
            "Estado de las torres de Hanoi resultante:\n",
            "  |  |  |\n",
            "  |  |  |\n",
            "  |  |  1\n",
            "  |  |  4\n",
            "  3  2  5\n",
            "\n",
            "Acción a ejecutar: (2, 1)\n",
            "\n",
            "Estado de las torres de Hanoi resultante:\n",
            "  |  |  |\n",
            "  |  |  |\n",
            "  |  |  |\n",
            "  |  1  4\n",
            "  3  2  5\n",
            "\n",
            "Acción a ejecutar: (0, 2)\n",
            "\n",
            "Estado de las torres de Hanoi resultante:\n",
            "  |  |  |\n",
            "  |  |  |\n",
            "  |  |  3\n",
            "  |  1  4\n",
            "  |  2  5\n",
            "\n",
            "Acción a ejecutar: (1, 0)\n",
            "\n",
            "Estado de las torres de Hanoi resultante:\n",
            "  |  |  |\n",
            "  |  |  |\n",
            "  |  |  3\n",
            "  |  |  4\n",
            "  1  2  5\n",
            "\n",
            "Acción a ejecutar: (1, 2)\n",
            "\n",
            "Estado de las torres de Hanoi resultante:\n",
            "  |  |  |\n",
            "  |  |  2\n",
            "  |  |  3\n",
            "  |  |  4\n",
            "  1  |  5\n",
            "\n",
            "Acción a ejecutar: (0, 2)\n",
            "\n",
            "Estado de las torres de Hanoi resultante:\n",
            "  |  |  1\n",
            "  |  |  2\n",
            "  |  |  3\n",
            "  |  |  4\n",
            "  |  |  5\n",
            "\n"
          ]
        }
      ]
    },
    {
      "cell_type": "code",
      "source": [],
      "metadata": {
        "id": "TikUJnse4ayG"
      },
      "execution_count": null,
      "outputs": []
    }
  ]
}